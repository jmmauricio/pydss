{
 "cells": [
  {
   "cell_type": "code",
   "execution_count": 42,
   "metadata": {
    "collapsed": false
   },
   "outputs": [
    {
     "data": {
      "text/html": [
       "\n",
       "    <div class=\"bk-root\">\n",
       "        <a href=\"http://bokeh.pydata.org\" target=\"_blank\" class=\"bk-logo bk-logo-small bk-logo-notebook\"></a>\n",
       "        <span id=\"407b3ba7-da10-4299-9ecb-b4c18916f2f7\">Loading BokehJS ...</span>\n",
       "    </div>"
      ]
     },
     "metadata": {},
     "output_type": "display_data"
    },
    {
     "data": {
      "application/javascript": [
       "\n",
       "(function(global) {\n",
       "  function now() {\n",
       "    return new Date();\n",
       "  }\n",
       "\n",
       "  var force = true;\n",
       "\n",
       "  if (typeof (window._bokeh_onload_callbacks) === \"undefined\" || force === true) {\n",
       "    window._bokeh_onload_callbacks = [];\n",
       "    window._bokeh_is_loading = undefined;\n",
       "  }\n",
       "\n",
       "\n",
       "  \n",
       "  if (typeof (window._bokeh_timeout) === \"undefined\" || force === true) {\n",
       "    window._bokeh_timeout = Date.now() + 5000;\n",
       "    window._bokeh_failed_load = false;\n",
       "  }\n",
       "\n",
       "  var NB_LOAD_WARNING = {'data': {'text/html':\n",
       "     \"<div style='background-color: #fdd'>\\n\"+\n",
       "     \"<p>\\n\"+\n",
       "     \"BokehJS does not appear to have successfully loaded. If loading BokehJS from CDN, this \\n\"+\n",
       "     \"may be due to a slow or bad network connection. Possible fixes:\\n\"+\n",
       "     \"</p>\\n\"+\n",
       "     \"<ul>\\n\"+\n",
       "     \"<li>re-rerun `output_notebook()` to attempt to load from CDN again, or</li>\\n\"+\n",
       "     \"<li>use INLINE resources instead, as so:</li>\\n\"+\n",
       "     \"</ul>\\n\"+\n",
       "     \"<code>\\n\"+\n",
       "     \"from bokeh.resources import INLINE\\n\"+\n",
       "     \"output_notebook(resources=INLINE)\\n\"+\n",
       "     \"</code>\\n\"+\n",
       "     \"</div>\"}};\n",
       "\n",
       "  function display_loaded() {\n",
       "    if (window.Bokeh !== undefined) {\n",
       "      var el = document.getElementById(\"407b3ba7-da10-4299-9ecb-b4c18916f2f7\");\n",
       "      el.textContent = \"BokehJS \" + Bokeh.version + \" successfully loaded.\";\n",
       "    } else if (Date.now() < window._bokeh_timeout) {\n",
       "      setTimeout(display_loaded, 100)\n",
       "    }\n",
       "  }\n",
       "\n",
       "  function run_callbacks() {\n",
       "    try {\n",
       "      window._bokeh_onload_callbacks.forEach(function(callback) { callback() });\n",
       "    }\n",
       "    finally {\n",
       "      delete window._bokeh_onload_callbacks\n",
       "    }\n",
       "    console.info(\"Bokeh: all callbacks have finished\");\n",
       "  }\n",
       "\n",
       "  function load_libs(js_urls, callback) {\n",
       "    window._bokeh_onload_callbacks.push(callback);\n",
       "    if (window._bokeh_is_loading > 0) {\n",
       "      console.log(\"Bokeh: BokehJS is being loaded, scheduling callback at\", now());\n",
       "      return null;\n",
       "    }\n",
       "    if (js_urls == null || js_urls.length === 0) {\n",
       "      run_callbacks();\n",
       "      return null;\n",
       "    }\n",
       "    console.log(\"Bokeh: BokehJS not loaded, scheduling load and callback at\", now());\n",
       "    window._bokeh_is_loading = js_urls.length;\n",
       "    for (var i = 0; i < js_urls.length; i++) {\n",
       "      var url = js_urls[i];\n",
       "      var s = document.createElement('script');\n",
       "      s.src = url;\n",
       "      s.async = false;\n",
       "      s.onreadystatechange = s.onload = function() {\n",
       "        window._bokeh_is_loading--;\n",
       "        if (window._bokeh_is_loading === 0) {\n",
       "          console.log(\"Bokeh: all BokehJS libraries loaded\");\n",
       "          run_callbacks()\n",
       "        }\n",
       "      };\n",
       "      s.onerror = function() {\n",
       "        console.warn(\"failed to load library \" + url);\n",
       "      };\n",
       "      console.log(\"Bokeh: injecting script tag for BokehJS library: \", url);\n",
       "      document.getElementsByTagName(\"head\")[0].appendChild(s);\n",
       "    }\n",
       "  };var element = document.getElementById(\"407b3ba7-da10-4299-9ecb-b4c18916f2f7\");\n",
       "  if (element == null) {\n",
       "    console.log(\"Bokeh: ERROR: autoload.js configured with elementid '407b3ba7-da10-4299-9ecb-b4c18916f2f7' but no matching script tag was found. \")\n",
       "    return false;\n",
       "  }\n",
       "\n",
       "  var js_urls = [\"https://cdn.pydata.org/bokeh/release/bokeh-0.12.6.min.js\", \"https://cdn.pydata.org/bokeh/release/bokeh-widgets-0.12.6.min.js\"];\n",
       "\n",
       "  var inline_js = [\n",
       "    function(Bokeh) {\n",
       "      Bokeh.set_log_level(\"info\");\n",
       "    },\n",
       "    \n",
       "    function(Bokeh) {\n",
       "      \n",
       "    },\n",
       "    \n",
       "    function(Bokeh) {\n",
       "      \n",
       "      document.getElementById(\"407b3ba7-da10-4299-9ecb-b4c18916f2f7\").textContent = \"BokehJS is loading...\";\n",
       "    },\n",
       "    function(Bokeh) {\n",
       "      console.log(\"Bokeh: injecting CSS: https://cdn.pydata.org/bokeh/release/bokeh-0.12.6.min.css\");\n",
       "      Bokeh.embed.inject_css(\"https://cdn.pydata.org/bokeh/release/bokeh-0.12.6.min.css\");\n",
       "      console.log(\"Bokeh: injecting CSS: https://cdn.pydata.org/bokeh/release/bokeh-widgets-0.12.6.min.css\");\n",
       "      Bokeh.embed.inject_css(\"https://cdn.pydata.org/bokeh/release/bokeh-widgets-0.12.6.min.css\");\n",
       "    }\n",
       "  ];\n",
       "\n",
       "  function run_inline_js() {\n",
       "    \n",
       "    if ((window.Bokeh !== undefined) || (force === true)) {\n",
       "      for (var i = 0; i < inline_js.length; i++) {\n",
       "        inline_js[i](window.Bokeh);\n",
       "      }if (force === true) {\n",
       "        display_loaded();\n",
       "      }} else if (Date.now() < window._bokeh_timeout) {\n",
       "      setTimeout(run_inline_js, 100);\n",
       "    } else if (!window._bokeh_failed_load) {\n",
       "      console.log(\"Bokeh: BokehJS failed to load within specified timeout.\");\n",
       "      window._bokeh_failed_load = true;\n",
       "    } else if (force !== true) {\n",
       "      var cell = $(document.getElementById(\"407b3ba7-da10-4299-9ecb-b4c18916f2f7\")).parents('.cell').data().cell;\n",
       "      cell.output_area.append_execute_result(NB_LOAD_WARNING)\n",
       "    }\n",
       "\n",
       "  }\n",
       "\n",
       "  if (window._bokeh_is_loading === 0) {\n",
       "    console.log(\"Bokeh: BokehJS loaded, going straight to plotting\");\n",
       "    run_inline_js();\n",
       "  } else {\n",
       "    load_libs(js_urls, function() {\n",
       "      console.log(\"Bokeh: BokehJS plotting callback run at\", now());\n",
       "      run_inline_js();\n",
       "    });\n",
       "  }\n",
       "}(this));"
      ]
     },
     "metadata": {},
     "output_type": "display_data"
    }
   ],
   "source": [
    "import numpy as np\n",
    "from bokeh.io import output_notebook, show\n",
    "from bokeh.plotting import figure\n",
    "from bokeh.layouts import gridplot\n",
    "from bokeh.models import ColumnDataSource, HoverTool, CustomJS\n",
    "from bokeh.io import push_notebook\n",
    "from ipywidgets import interact\n",
    "output_notebook()"
   ]
  },
  {
   "cell_type": "code",
   "execution_count": 43,
   "metadata": {
    "collapsed": true
   },
   "outputs": [],
   "source": [
    "import pydss"
   ]
  },
  {
   "cell_type": "markdown",
   "metadata": {},
   "source": [
    "## CIGRE LV European System"
   ]
  },
  {
   "cell_type": "code",
   "execution_count": 44,
   "metadata": {
    "collapsed": false
   },
   "outputs": [
    {
     "name": "stdout",
     "output_type": "stream",
     "text": [
      "trafos 0.000133514404296875\n",
      "lines 0.0005457401275634766\n",
      "trafos2 0.0015106201171875\n",
      "lines 2 0.001069784164428711\n",
      "diag_2dsparse 0.0016558170318603516\n",
      "sparse.lil_matrix 0.00028443336486816406\n",
      "Y_lines_primitive -> Y_primitive_sp 0.004228115081787109\n",
      "Y_trafos_primitive -> Y_primitive_sp 0.0021812915802001953\n",
      "Ys calc 0.009951591491699219\n",
      "inv_Y_ii 0.0010366439819335938\n"
     ]
    },
    {
     "name": "stderr",
     "output_type": "stream",
     "text": [
      "/home/jmmauricio/bin/anaconda3/lib/python3.5/site-packages/scipy/sparse/compressed.py:774: SparseEfficiencyWarning: Changing the sparsity structure of a csc_matrix is expensive. lil_matrix is more efficient.\n",
      "  SparseEfficiencyWarning)\n"
     ]
    }
   ],
   "source": [
    "sys1 = pydss.pydss()  # Load data\n",
    "sys1.read('bus4_1p_load.json')\n",
    "sys1.pf()                            # execute power flow "
   ]
  },
  {
   "cell_type": "code",
   "execution_count": 45,
   "metadata": {
    "collapsed": false
   },
   "outputs": [
    {
     "name": "stdout",
     "output_type": "stream",
     "text": [
      "1000 loops, best of 3: 424 µs per loop\n"
     ]
    }
   ],
   "source": [
    "%timeit pydss.pf_eval(sys1.params_pf)"
   ]
  },
  {
   "cell_type": "code",
   "execution_count": 38,
   "metadata": {
    "collapsed": false
   },
   "outputs": [
    {
     "name": "stdout",
     "output_type": "stream",
     "text": [
      "I_lines 0.003321409225463867\n",
      "writing line dic 0.0006597042083740234\n"
     ]
    }
   ],
   "source": [
    "sys1.get_v()      # post process voltages\n",
    "sys1.get_i()      # post process currents"
   ]
  },
  {
   "cell_type": "markdown",
   "metadata": {},
   "source": [
    "### Graph with obtained results"
   ]
  },
  {
   "cell_type": "code",
   "execution_count": 39,
   "metadata": {
    "collapsed": false,
    "scrolled": true
   },
   "outputs": [
    {
     "data": {
      "text/html": [
       "\n",
       "\n",
       "    <div class=\"bk-root\">\n",
       "        <div class=\"bk-plotdiv\" id=\"7fd06dcb-7add-410b-bada-682b63f190ae\"></div>\n",
       "    </div>\n",
       "<script type=\"text/javascript\">\n",
       "  \n",
       "  (function(global) {\n",
       "    function now() {\n",
       "      return new Date();\n",
       "    }\n",
       "  \n",
       "    var force = false;\n",
       "  \n",
       "    if (typeof (window._bokeh_onload_callbacks) === \"undefined\" || force === true) {\n",
       "      window._bokeh_onload_callbacks = [];\n",
       "      window._bokeh_is_loading = undefined;\n",
       "    }\n",
       "  \n",
       "  \n",
       "    \n",
       "    if (typeof (window._bokeh_timeout) === \"undefined\" || force === true) {\n",
       "      window._bokeh_timeout = Date.now() + 0;\n",
       "      window._bokeh_failed_load = false;\n",
       "    }\n",
       "  \n",
       "    var NB_LOAD_WARNING = {'data': {'text/html':\n",
       "       \"<div style='background-color: #fdd'>\\n\"+\n",
       "       \"<p>\\n\"+\n",
       "       \"BokehJS does not appear to have successfully loaded. If loading BokehJS from CDN, this \\n\"+\n",
       "       \"may be due to a slow or bad network connection. Possible fixes:\\n\"+\n",
       "       \"</p>\\n\"+\n",
       "       \"<ul>\\n\"+\n",
       "       \"<li>re-rerun `output_notebook()` to attempt to load from CDN again, or</li>\\n\"+\n",
       "       \"<li>use INLINE resources instead, as so:</li>\\n\"+\n",
       "       \"</ul>\\n\"+\n",
       "       \"<code>\\n\"+\n",
       "       \"from bokeh.resources import INLINE\\n\"+\n",
       "       \"output_notebook(resources=INLINE)\\n\"+\n",
       "       \"</code>\\n\"+\n",
       "       \"</div>\"}};\n",
       "  \n",
       "    function display_loaded() {\n",
       "      if (window.Bokeh !== undefined) {\n",
       "        var el = document.getElementById(\"7fd06dcb-7add-410b-bada-682b63f190ae\");\n",
       "        el.textContent = \"BokehJS \" + Bokeh.version + \" successfully loaded.\";\n",
       "      } else if (Date.now() < window._bokeh_timeout) {\n",
       "        setTimeout(display_loaded, 100)\n",
       "      }\n",
       "    }\n",
       "  \n",
       "    function run_callbacks() {\n",
       "      try {\n",
       "        window._bokeh_onload_callbacks.forEach(function(callback) { callback() });\n",
       "      }\n",
       "      finally {\n",
       "        delete window._bokeh_onload_callbacks\n",
       "      }\n",
       "      console.info(\"Bokeh: all callbacks have finished\");\n",
       "    }\n",
       "  \n",
       "    function load_libs(js_urls, callback) {\n",
       "      window._bokeh_onload_callbacks.push(callback);\n",
       "      if (window._bokeh_is_loading > 0) {\n",
       "        console.log(\"Bokeh: BokehJS is being loaded, scheduling callback at\", now());\n",
       "        return null;\n",
       "      }\n",
       "      if (js_urls == null || js_urls.length === 0) {\n",
       "        run_callbacks();\n",
       "        return null;\n",
       "      }\n",
       "      console.log(\"Bokeh: BokehJS not loaded, scheduling load and callback at\", now());\n",
       "      window._bokeh_is_loading = js_urls.length;\n",
       "      for (var i = 0; i < js_urls.length; i++) {\n",
       "        var url = js_urls[i];\n",
       "        var s = document.createElement('script');\n",
       "        s.src = url;\n",
       "        s.async = false;\n",
       "        s.onreadystatechange = s.onload = function() {\n",
       "          window._bokeh_is_loading--;\n",
       "          if (window._bokeh_is_loading === 0) {\n",
       "            console.log(\"Bokeh: all BokehJS libraries loaded\");\n",
       "            run_callbacks()\n",
       "          }\n",
       "        };\n",
       "        s.onerror = function() {\n",
       "          console.warn(\"failed to load library \" + url);\n",
       "        };\n",
       "        console.log(\"Bokeh: injecting script tag for BokehJS library: \", url);\n",
       "        document.getElementsByTagName(\"head\")[0].appendChild(s);\n",
       "      }\n",
       "    };var element = document.getElementById(\"7fd06dcb-7add-410b-bada-682b63f190ae\");\n",
       "    if (element == null) {\n",
       "      console.log(\"Bokeh: ERROR: autoload.js configured with elementid '7fd06dcb-7add-410b-bada-682b63f190ae' but no matching script tag was found. \")\n",
       "      return false;\n",
       "    }\n",
       "  \n",
       "    var js_urls = [];\n",
       "  \n",
       "    var inline_js = [\n",
       "      function(Bokeh) {\n",
       "        (function() {\n",
       "          var fn = function() {\n",
       "            var docs_json = {\"81bdac52-1838-472a-a321-cbb937e5cdba\":{\"roots\":{\"references\":[{\"attributes\":{\"active_drag\":\"auto\",\"active_inspect\":\"auto\",\"active_scroll\":\"auto\",\"active_tap\":\"auto\",\"tools\":[{\"id\":\"267c5c94-c1f2-421a-9273-50e148e1edb7\",\"type\":\"PanTool\"},{\"id\":\"8157f444-e0e4-4440-8902-7d538b80d40c\",\"type\":\"WheelZoomTool\"},{\"id\":\"c6ce7054-7b3d-4061-a070-92ec5d3b033d\",\"type\":\"BoxZoomTool\"},{\"id\":\"ce2d77d5-c6ed-4be1-8785-1587c0acb021\",\"type\":\"SaveTool\"},{\"id\":\"b508edf2-58f4-4155-b838-9379318088ff\",\"type\":\"ResetTool\"},{\"id\":\"b1e72e88-d8cf-40d9-9d91-28d84894fe5b\",\"type\":\"HelpTool\"},{\"id\":\"abbaafb6-c217-4795-9b3e-60442afa16fb\",\"type\":\"HoverTool\"},{\"id\":\"0a394d2a-a81a-4a4c-8d8b-2f78e8f83ef5\",\"type\":\"HoverTool\"}]},\"id\":\"7d4c4aad-a911-460a-b34e-8817f8b2b0e0\",\"type\":\"Toolbar\"},{\"attributes\":{\"callback\":null,\"column_names\":[\"y_s\",\"line_id\",\"deg_n\",\"i_a_m\",\"deg_b\",\"x_s\",\"deg_a\",\"i_b_m\",\"i_n_m\",\"i_c_m\",\"deg_c\"],\"data\":{\"deg_a\":[12.805481314789498,12.805481314788837],\"deg_b\":[135.0,-81.86989764584403],\"deg_c\":[-9.462322208025617,-135.0],\"deg_n\":[12.805481314788764,12.805481314788567],\"i_a_m\":[484.9954437603921,484.9954437603983],\"i_b_m\":[2.5724394843074972e-12,1.6077746776921857e-12],\"i_c_m\":[2.2128961173796485e-11,1.2862197421537486e-12],\"i_n_m\":[484.9954437604112,484.9954437603971],\"line_id\":[\"1-2\",\"2-3\"],\"x_s\":[[359.66300000000047,358.59600000001956],[358.59600000001956,358.48100000002887]],\"y_s\":[[162.81599999999162,163.07499999995343],[163.07499999995343,163.0799999999581]]}},\"id\":\"89ca33d7-84d3-4c7f-9d8c-dc48cc443a24\",\"type\":\"ColumnDataSource\"},{\"attributes\":{},\"id\":\"9b8d37e3-74a4-4a70-86d1-6e6492adf85b\",\"type\":\"BasicTicker\"},{\"attributes\":{\"formatter\":{\"id\":\"c1538618-44d4-4d8a-83a0-7c23621dd4b7\",\"type\":\"BasicTickFormatter\"},\"plot\":{\"id\":\"6f5406d5-1089-4bef-8819-c509b2a473ea\",\"subtype\":\"Figure\",\"type\":\"Plot\"},\"ticker\":{\"id\":\"9b8d37e3-74a4-4a70-86d1-6e6492adf85b\",\"type\":\"BasicTicker\"}},\"id\":\"d7725b31-a385-4507-bada-7b8c9227ec35\",\"type\":\"LinearAxis\"},{\"attributes\":{\"plot\":null,\"text\":\"European LV Network (CIGRE)\"},\"id\":\"ecff2804-a918-49b9-94cc-5cb4b2e9aa3d\",\"type\":\"Title\"},{\"attributes\":{\"fill_alpha\":{\"value\":0.5},\"fill_color\":{\"value\":\"navy\"},\"line_alpha\":{\"value\":0.5},\"line_color\":{\"value\":\"navy\"},\"size\":{\"units\":\"screen\",\"value\":15},\"x\":{\"field\":\"x\"},\"y\":{\"field\":\"y\"}},\"id\":\"6bc47fec-6bd2-4460-a140-2889f0fb25e7\",\"type\":\"Circle\"},{\"attributes\":{\"line_alpha\":{\"value\":0.1},\"line_color\":{\"value\":\"#1f77b4\"},\"line_width\":{\"value\":5},\"xs\":{\"field\":\"x_s\"},\"ys\":{\"field\":\"y_s\"}},\"id\":\"d48bedc0-b702-4e55-b454-b17b235e75af\",\"type\":\"MultiLine\"},{\"attributes\":{\"callback\":null},\"id\":\"6cdf9f9a-8a80-494b-b584-52956557a120\",\"type\":\"DataRange1d\"},{\"attributes\":{\"dimension\":1,\"plot\":{\"id\":\"6f5406d5-1089-4bef-8819-c509b2a473ea\",\"subtype\":\"Figure\",\"type\":\"Plot\"},\"ticker\":{\"id\":\"9b8d37e3-74a4-4a70-86d1-6e6492adf85b\",\"type\":\"BasicTicker\"}},\"id\":\"403bcbeb-e75e-41fd-8094-308ad9ae21d7\",\"type\":\"Grid\"},{\"attributes\":{\"plot\":{\"id\":\"6f5406d5-1089-4bef-8819-c509b2a473ea\",\"subtype\":\"Figure\",\"type\":\"Plot\"}},\"id\":\"267c5c94-c1f2-421a-9273-50e148e1edb7\",\"type\":\"PanTool\"},{\"attributes\":{\"bottom_units\":\"screen\",\"fill_alpha\":{\"value\":0.5},\"fill_color\":{\"value\":\"lightgrey\"},\"left_units\":\"screen\",\"level\":\"overlay\",\"line_alpha\":{\"value\":1.0},\"line_color\":{\"value\":\"black\"},\"line_dash\":[4,4],\"line_width\":{\"value\":2},\"plot\":null,\"render_mode\":\"css\",\"right_units\":\"screen\",\"top_units\":\"screen\"},\"id\":\"61dfa36f-2466-4b92-8c72-d6caaa36f7e0\",\"type\":\"BoxAnnotation\"},{\"attributes\":{\"plot\":{\"id\":\"6f5406d5-1089-4bef-8819-c509b2a473ea\",\"subtype\":\"Figure\",\"type\":\"Plot\"},\"ticker\":{\"id\":\"376c8a7b-0a80-4b35-a47a-aa618e377012\",\"type\":\"BasicTicker\"}},\"id\":\"55f01f6d-7a07-4c4d-9f99-d385c041eb1a\",\"type\":\"Grid\"},{\"attributes\":{\"plot\":{\"id\":\"6f5406d5-1089-4bef-8819-c509b2a473ea\",\"subtype\":\"Figure\",\"type\":\"Plot\"}},\"id\":\"b508edf2-58f4-4155-b838-9379318088ff\",\"type\":\"ResetTool\"},{\"attributes\":{},\"id\":\"c1538618-44d4-4d8a-83a0-7c23621dd4b7\",\"type\":\"BasicTickFormatter\"},{\"attributes\":{},\"id\":\"e0ac3b04-1b92-4675-9870-4c8fddf38ce7\",\"type\":\"LinearScale\"},{\"attributes\":{\"line_alpha\":{\"value\":0.5},\"line_color\":{\"value\":\"red\"},\"line_width\":{\"value\":5},\"xs\":{\"field\":\"x_s\"},\"ys\":{\"field\":\"y_s\"}},\"id\":\"45bc5b86-e6bc-41ef-9150-897cf167ab54\",\"type\":\"MultiLine\"},{\"attributes\":{\"callback\":null,\"plot\":{\"id\":\"6f5406d5-1089-4bef-8819-c509b2a473ea\",\"subtype\":\"Figure\",\"type\":\"Plot\"},\"renderers\":[{\"id\":\"f4bf8586-0b92-428b-9e12-07ce316a1316\",\"type\":\"GlyphRenderer\"}],\"tooltips\":\"\\n            <div>\\n            line id = @line_id \\n            <table border=\\\"1\\\">\\n                <tr>\\n                <td>I<sub>a</sub> =  @i_a_m &ang; @deg_a </td>\\n                </tr>\\n                <tr>\\n                <td>I<sub>b</sub> =  @i_b_m &ang; @deg_b </td>\\n                </tr>\\n                <tr>\\n                <td>I<sub>c</sub> =  @i_c_m &ang; @deg_c </td>\\n                </tr>\\n                <tr>\\n                <td>I<sub>n</sub> =  @i_n_m &ang; @deg_n </td>\\n                </tr>\\n            </table>            \\n            </div>\\n            \"},\"id\":\"abbaafb6-c217-4795-9b3e-60442afa16fb\",\"type\":\"HoverTool\"},{\"attributes\":{\"plot\":{\"id\":\"6f5406d5-1089-4bef-8819-c509b2a473ea\",\"subtype\":\"Figure\",\"type\":\"Plot\"}},\"id\":\"b1e72e88-d8cf-40d9-9d91-28d84894fe5b\",\"type\":\"HelpTool\"},{\"attributes\":{},\"id\":\"d43eb806-f0d1-4f46-a3e5-c8d456a140b4\",\"type\":\"ToolEvents\"},{\"attributes\":{\"formatter\":{\"id\":\"7d50abdc-e536-4fb0-b9be-362a3a0871bd\",\"type\":\"BasicTickFormatter\"},\"plot\":{\"id\":\"6f5406d5-1089-4bef-8819-c509b2a473ea\",\"subtype\":\"Figure\",\"type\":\"Plot\"},\"ticker\":{\"id\":\"376c8a7b-0a80-4b35-a47a-aa618e377012\",\"type\":\"BasicTicker\"}},\"id\":\"2ab1f4a7-1c38-4fc4-97fa-0dcc8ec31af0\",\"type\":\"LinearAxis\"},{\"attributes\":{\"fill_alpha\":{\"value\":0.1},\"fill_color\":{\"value\":\"#1f77b4\"},\"line_alpha\":{\"value\":0.1},\"line_color\":{\"value\":\"#1f77b4\"},\"size\":{\"units\":\"screen\",\"value\":15},\"x\":{\"field\":\"x\"},\"y\":{\"field\":\"y\"}},\"id\":\"2313f6db-bb16-47ff-a1e2-870b630801e1\",\"type\":\"Circle\"},{\"attributes\":{},\"id\":\"376c8a7b-0a80-4b35-a47a-aa618e377012\",\"type\":\"BasicTicker\"},{\"attributes\":{},\"id\":\"037fe973-7113-4758-b7f2-c39b7f46ea0f\",\"type\":\"LinearScale\"},{\"attributes\":{\"callback\":null,\"plot\":{\"id\":\"6f5406d5-1089-4bef-8819-c509b2a473ea\",\"subtype\":\"Figure\",\"type\":\"Plot\"},\"renderers\":[{\"id\":\"fb7853f3-48e3-4c47-8e50-67ebecceb6b1\",\"type\":\"GlyphRenderer\"}],\"tooltips\":\"\\n            <div>\\n            bus_id = @bus_id \\n            <table border=\\\"1\\\">\\n                <tr>\\n                <td>v<sub>an</sub> =  @v_an  &ang; @deg_an V </td> <td> S<sub>a</sub> = @p_a + j@q_a </td>\\n                </tr>\\n                      <tr>\\n                      <td> </td> <td>v<sub>ab</sub>= @v_ab V</td>\\n                      </tr>\\n                <tr>\\n                <td>v<sub>bn</sub> = @v_bn &ang; @deg_bn V </td><td> S<sub>b</sub> = @p_b + j@q_b </td>\\n                </tr>\\n                      <tr>\\n                      <td> </td><td>v<sub>bc</sub>= @v_bc V</td>\\n                      </tr>\\n                <tr>\\n                <td>v<sub>cn</sub>  = @v_cn &ang; @deg_cn V </td>  <td>S<sub>c</sub> = @p_c + j@q_c </td>\\n                </tr> \\n                    <tr>\\n                     <td> </td> <td>v<sub>ca</sub>= @v_ca V</td>\\n                    </tr>\\n               <tr>\\n                <td>v<sub>ng</sub>    = @v_ng &ang; @deg_ng V</td>  <td>S<sub>abc</sub> = @p_abc + j@q_abc </td>\\n              </tr>\\n            </table>\\n            </div>\\n            \"},\"id\":\"0a394d2a-a81a-4a4c-8d8b-2f78e8f83ef5\",\"type\":\"HoverTool\"},{\"attributes\":{\"plot\":{\"id\":\"6f5406d5-1089-4bef-8819-c509b2a473ea\",\"subtype\":\"Figure\",\"type\":\"Plot\"}},\"id\":\"8157f444-e0e4-4440-8902-7d538b80d40c\",\"type\":\"WheelZoomTool\"},{\"attributes\":{\"plot\":{\"id\":\"6f5406d5-1089-4bef-8819-c509b2a473ea\",\"subtype\":\"Figure\",\"type\":\"Plot\"}},\"id\":\"ce2d77d5-c6ed-4be1-8785-1587c0acb021\",\"type\":\"SaveTool\"},{\"attributes\":{\"below\":[{\"id\":\"2ab1f4a7-1c38-4fc4-97fa-0dcc8ec31af0\",\"type\":\"LinearAxis\"}],\"left\":[{\"id\":\"d7725b31-a385-4507-bada-7b8c9227ec35\",\"type\":\"LinearAxis\"}],\"renderers\":[{\"id\":\"2ab1f4a7-1c38-4fc4-97fa-0dcc8ec31af0\",\"type\":\"LinearAxis\"},{\"id\":\"55f01f6d-7a07-4c4d-9f99-d385c041eb1a\",\"type\":\"Grid\"},{\"id\":\"d7725b31-a385-4507-bada-7b8c9227ec35\",\"type\":\"LinearAxis\"},{\"id\":\"403bcbeb-e75e-41fd-8094-308ad9ae21d7\",\"type\":\"Grid\"},{\"id\":\"61dfa36f-2466-4b92-8c72-d6caaa36f7e0\",\"type\":\"BoxAnnotation\"},{\"id\":\"f4bf8586-0b92-428b-9e12-07ce316a1316\",\"type\":\"GlyphRenderer\"},{\"id\":\"fb7853f3-48e3-4c47-8e50-67ebecceb6b1\",\"type\":\"GlyphRenderer\"}],\"title\":{\"id\":\"ecff2804-a918-49b9-94cc-5cb4b2e9aa3d\",\"type\":\"Title\"},\"tool_events\":{\"id\":\"d43eb806-f0d1-4f46-a3e5-c8d456a140b4\",\"type\":\"ToolEvents\"},\"toolbar\":{\"id\":\"7d4c4aad-a911-460a-b34e-8817f8b2b0e0\",\"type\":\"Toolbar\"},\"x_range\":{\"id\":\"6cdf9f9a-8a80-494b-b584-52956557a120\",\"type\":\"DataRange1d\"},\"x_scale\":{\"id\":\"e0ac3b04-1b92-4675-9870-4c8fddf38ce7\",\"type\":\"LinearScale\"},\"y_range\":{\"id\":\"0addc886-8931-4367-80a6-1295deb4563b\",\"type\":\"DataRange1d\"},\"y_scale\":{\"id\":\"037fe973-7113-4758-b7f2-c39b7f46ea0f\",\"type\":\"LinearScale\"}},\"id\":\"6f5406d5-1089-4bef-8819-c509b2a473ea\",\"subtype\":\"Figure\",\"type\":\"Plot\"},{\"attributes\":{\"callback\":null},\"id\":\"0addc886-8931-4367-80a6-1295deb4563b\",\"type\":\"DataRange1d\"},{\"attributes\":{\"data_source\":{\"id\":\"89ca33d7-84d3-4c7f-9d8c-dc48cc443a24\",\"type\":\"ColumnDataSource\"},\"glyph\":{\"id\":\"45bc5b86-e6bc-41ef-9150-897cf167ab54\",\"type\":\"MultiLine\"},\"hover_glyph\":null,\"muted_glyph\":null,\"nonselection_glyph\":{\"id\":\"d48bedc0-b702-4e55-b454-b17b235e75af\",\"type\":\"MultiLine\"},\"selection_glyph\":null},\"id\":\"f4bf8586-0b92-428b-9e12-07ce316a1316\",\"type\":\"GlyphRenderer\"},{\"attributes\":{\"overlay\":{\"id\":\"61dfa36f-2466-4b92-8c72-d6caaa36f7e0\",\"type\":\"BoxAnnotation\"},\"plot\":{\"id\":\"6f5406d5-1089-4bef-8819-c509b2a473ea\",\"subtype\":\"Figure\",\"type\":\"Plot\"}},\"id\":\"c6ce7054-7b3d-4061-a070-92ec5d3b033d\",\"type\":\"BoxZoomTool\"},{\"attributes\":{},\"id\":\"7d50abdc-e536-4fb0-b9be-362a3a0871bd\",\"type\":\"BasicTickFormatter\"},{\"attributes\":{\"callback\":null,\"column_names\":[\"p_abc\",\"v_bn\",\"v_cn\",\"v_ab\",\"p_b\",\"deg_cn\",\"v_ng\",\"deg_bn\",\"q_a\",\"p_c\",\"y\",\"q_abc\",\"v_bc\",\"s_radio\",\"deg_ng\",\"q_b\",\"v_ca\",\"p_a\",\"x\",\"deg_an\",\"v_an\",\"bus_id\",\"q_c\"],\"data\":{\"bus_id\":[\"SourceBus\",\"1\",\"2\",\"3\"],\"deg_an\":[0.0,29.761335510866505,29.951190148349937,31.0003536535556],\"deg_bn\":[-119.99999999999999,-89.99999999999999,-90.39655849531557,-92.35851771077436],\"deg_cn\":[120.00000000000004,150.00000000000003,150.27946356019322,151.63427319760706],\"deg_ng\":[0.0,0.0,0.0,0.0],\"p_a\":[\"65.58\",\"0.00\",\"0.00\",\"-100.00\"],\"p_abc\":[\"111.28\",\"0.00\",\"0.00\",\"-100.00\"],\"p_b\":[\"45.70\",\"0.00\",\"-0.00\",\"-0.00\"],\"p_c\":[\"0.00\",\"0.00\",\"0.00\",\"0.00\"],\"q_a\":[\"-14.91\",\"0.00\",\"0.00\",\"-32.87\"],\"q_abc\":[\"34.44\",\"0.00\",\"0.00\",\"-32.87\"],\"q_b\":[\"49.34\",\"-0.00\",\"0.00\",\"0.00\"],\"q_c\":[\"0.00\",\"0.00\",\"0.00\",\"0.00\"],\"s_radio\":[20.0,0.0,0.0,20.0],\"v_ab\":[11000.254678869938,415.23338256569315,413.51081848477327,404.96579693936894],\"v_an\":[6351.0,239.86518728147158,236.05374063396286,217.03947789402346],\"v_bc\":[11000.254678869938,416.0096314918086,416.0096314918086,416.0096314918086],\"v_bn\":[6350.999999999999,240.18327272727265,240.58741078418444,242.77918768220815],\"v_ca\":[11000.254678869942,416.2331977346609,414.20306598680577,404.07750420792485],\"v_cn\":[6351.0,240.18327272727277,241.42902131659798,247.74130581706962],\"v_ng\":[0.0,0.0,0.0,0.0],\"x\":[359.9,359.66300000000047,358.59600000001956,358.48100000002887],\"y\":[162.81599999999162,162.81599999999162,163.07499999995343,163.0799999999581]}},\"id\":\"7e046637-7873-4dd7-87ad-1ba9e395535f\",\"type\":\"ColumnDataSource\"},{\"attributes\":{\"data_source\":{\"id\":\"7e046637-7873-4dd7-87ad-1ba9e395535f\",\"type\":\"ColumnDataSource\"},\"glyph\":{\"id\":\"6bc47fec-6bd2-4460-a140-2889f0fb25e7\",\"type\":\"Circle\"},\"hover_glyph\":null,\"muted_glyph\":null,\"nonselection_glyph\":{\"id\":\"2313f6db-bb16-47ff-a1e2-870b630801e1\",\"type\":\"Circle\"},\"selection_glyph\":null},\"id\":\"fb7853f3-48e3-4c47-8e50-67ebecceb6b1\",\"type\":\"GlyphRenderer\"}],\"root_ids\":[\"6f5406d5-1089-4bef-8819-c509b2a473ea\"]},\"title\":\"Bokeh Application\",\"version\":\"0.12.6\"}};\n",
       "            var render_items = [{\"docid\":\"81bdac52-1838-472a-a321-cbb937e5cdba\",\"elementid\":\"7fd06dcb-7add-410b-bada-682b63f190ae\",\"modelid\":\"6f5406d5-1089-4bef-8819-c509b2a473ea\"}];\n",
       "            \n",
       "            Bokeh.embed.embed_items(docs_json, render_items);\n",
       "          };\n",
       "          if (document.readyState != \"loading\") fn();\n",
       "          else document.addEventListener(\"DOMContentLoaded\", fn);\n",
       "        })();\n",
       "      },\n",
       "      function(Bokeh) {\n",
       "      }\n",
       "    ];\n",
       "  \n",
       "    function run_inline_js() {\n",
       "      \n",
       "      if ((window.Bokeh !== undefined) || (force === true)) {\n",
       "        for (var i = 0; i < inline_js.length; i++) {\n",
       "          inline_js[i](window.Bokeh);\n",
       "        }if (force === true) {\n",
       "          display_loaded();\n",
       "        }} else if (Date.now() < window._bokeh_timeout) {\n",
       "        setTimeout(run_inline_js, 100);\n",
       "      } else if (!window._bokeh_failed_load) {\n",
       "        console.log(\"Bokeh: BokehJS failed to load within specified timeout.\");\n",
       "        window._bokeh_failed_load = true;\n",
       "      } else if (force !== true) {\n",
       "        var cell = $(document.getElementById(\"7fd06dcb-7add-410b-bada-682b63f190ae\")).parents('.cell').data().cell;\n",
       "        cell.output_area.append_execute_result(NB_LOAD_WARNING)\n",
       "      }\n",
       "  \n",
       "    }\n",
       "  \n",
       "    if (window._bokeh_is_loading === 0) {\n",
       "      console.log(\"Bokeh: BokehJS loaded, going straight to plotting\");\n",
       "      run_inline_js();\n",
       "    } else {\n",
       "      load_libs(js_urls, function() {\n",
       "        console.log(\"Bokeh: BokehJS plotting callback run at\", now());\n",
       "        run_inline_js();\n",
       "      });\n",
       "    }\n",
       "  }(this));\n",
       "</script>"
      ]
     },
     "metadata": {},
     "output_type": "display_data"
    }
   ],
   "source": [
    "sys1.bokeh_tools()\n",
    "\n",
    "p = figure(width=600, height=600,\n",
    "           title='European LV Network (CIGRE)')#,   x_range=[-200,200], y_range=[-350, 50])\n",
    "\n",
    "# lines:\n",
    "source = ColumnDataSource(sys1.line_data)\n",
    "lin = p.multi_line(source=source, xs='x_s', ys='y_s', color=\"red\", alpha=0.5, line_width=5)\n",
    "\n",
    "# buses:\n",
    "source = ColumnDataSource(sys1.bus_data)\n",
    "cr = p.circle(source=source, x='x', y='y', size=15, color=\"navy\", alpha=0.5)\n",
    "\n",
    "p.add_tools(HoverTool(renderers=[lin], tooltips=sys1.line_tooltip))\n",
    "p.add_tools(HoverTool(renderers=[cr], tooltips=sys1.bus_tooltip))\n",
    "show(p)"
   ]
  },
  {
   "cell_type": "code",
   "execution_count": 34,
   "metadata": {
    "collapsed": false
   },
   "outputs": [
    {
     "data": {
      "text/plain": [
       "(540.76006349662964+141.19576434715168j)"
      ]
     },
     "execution_count": 34,
     "metadata": {},
     "output_type": "execute_result"
    }
   ],
   "source": [
    "(206.059*np.exp(1j*np.deg2rad(32.103))-200.889*np.exp(1j*np.deg2rad(32.457)))/((1.15+1j*0.08)*8.2583/1000)"
   ]
  },
  {
   "cell_type": "code",
   "execution_count": 35,
   "metadata": {
    "collapsed": false
   },
   "outputs": [
    {
     "data": {
      "text/plain": [
       "[{'U_kV': 20.0,\n",
       "  'bus': 'SourceBus',\n",
       "  'deg_an': 0.0,\n",
       "  'deg_bn': -119.99999999999999,\n",
       "  'deg_cn': 120.00000000000004,\n",
       "  'deg_ng': 0.0,\n",
       "  'p_a': 65581.521113212861,\n",
       "  'p_b': 45700.041806034344,\n",
       "  'p_c': 1.0571181244062998e-09,\n",
       "  'pos_x': 359.9,\n",
       "  'pos_y': 162.81599999999162,\n",
       "  'q_a': -14906.354008802489,\n",
       "  'q_b': 49342.08629846829,\n",
       "  'q_c': 3.9452185498862355e-09,\n",
       "  'units': 'm',\n",
       "  'v_ab': 11000.254678869938,\n",
       "  'v_an': 6351.0,\n",
       "  'v_bc': 11000.254678869938,\n",
       "  'v_bn': 6350.9999999999991,\n",
       "  'v_ca': 11000.254678869942,\n",
       "  'v_cn': 6351.0,\n",
       "  'v_ng': 0.0},\n",
       " {'U_kV': 0.4,\n",
       "  'bus': '1',\n",
       "  'deg_an': 29.761335510866505,\n",
       "  'deg_bn': -89.999999999999986,\n",
       "  'deg_cn': 150.00000000000003,\n",
       "  'deg_ng': 0.0,\n",
       "  'p_a': 0.0,\n",
       "  'p_b': 0.0,\n",
       "  'p_c': 0.0,\n",
       "  'pos_x': 359.66300000000047,\n",
       "  'pos_y': 162.81599999999162,\n",
       "  'q_a': 0.0,\n",
       "  'q_b': -0.0,\n",
       "  'q_c': 0.0,\n",
       "  'units': 'm',\n",
       "  'v_ab': 415.23338256569315,\n",
       "  'v_an': 239.86518728147158,\n",
       "  'v_bc': 416.00963149180859,\n",
       "  'v_bn': 240.18327272727265,\n",
       "  'v_ca': 416.23319773466091,\n",
       "  'v_cn': 240.18327272727277,\n",
       "  'v_ng': 0.0},\n",
       " {'U_kV': 0.4,\n",
       "  'bus': '2',\n",
       "  'deg_an': 29.951190148349937,\n",
       "  'deg_bn': -90.396558495315574,\n",
       "  'deg_cn': 150.27946356019322,\n",
       "  'deg_ng': 0.0,\n",
       "  'p_a': 0.0,\n",
       "  'p_b': -0.0,\n",
       "  'p_c': 0.0,\n",
       "  'pos_x': 358.59600000001956,\n",
       "  'pos_y': 163.07499999995343,\n",
       "  'q_a': 0.0,\n",
       "  'q_b': 0.0,\n",
       "  'q_c': 0.0,\n",
       "  'units': 'm',\n",
       "  'v_ab': 413.51081848477327,\n",
       "  'v_an': 236.05374063396286,\n",
       "  'v_bc': 416.00963149180859,\n",
       "  'v_bn': 240.58741078418444,\n",
       "  'v_ca': 414.20306598680577,\n",
       "  'v_cn': 241.42902131659798,\n",
       "  'v_ng': 0.0},\n",
       " {'U_kV': 0.4,\n",
       "  'bus': '3',\n",
       "  'deg_an': 31.000353653555599,\n",
       "  'deg_bn': -92.358517710774365,\n",
       "  'deg_cn': 151.63427319760706,\n",
       "  'deg_ng': 0.0,\n",
       "  'p_a': -100000.0,\n",
       "  'p_b': -0.0,\n",
       "  'p_c': 0.0,\n",
       "  'pos_x': 358.48100000002887,\n",
       "  'pos_y': 163.0799999999581,\n",
       "  'q_a': -32868.41051788631,\n",
       "  'q_b': 0.0,\n",
       "  'q_c': 0.0,\n",
       "  'units': 'm',\n",
       "  'v_ab': 404.96579693936894,\n",
       "  'v_an': 217.03947789402346,\n",
       "  'v_bc': 416.00963149180859,\n",
       "  'v_bn': 242.77918768220815,\n",
       "  'v_ca': 404.07750420792485,\n",
       "  'v_cn': 247.74130581706962,\n",
       "  'v_ng': 0.0}]"
      ]
     },
     "execution_count": 35,
     "metadata": {},
     "output_type": "execute_result"
    }
   ],
   "source": [
    "sys1.buses"
   ]
  },
  {
   "cell_type": "code",
   "execution_count": 41,
   "metadata": {
    "collapsed": false
   },
   "outputs": [
    {
     "data": {
      "text/plain": [
       "array([[ 6351.        ],\n",
       "       [ 6351.        ],\n",
       "       [ 6351.        ],\n",
       "       [  217.03947789],\n",
       "       [  239.86518728],\n",
       "       [  240.18327273],\n",
       "       [  240.18327273],\n",
       "       [  236.05374063],\n",
       "       [  240.58741078],\n",
       "       [  241.42902132],\n",
       "       [  242.77918768],\n",
       "       [  247.74130582]])"
      ]
     },
     "execution_count": 41,
     "metadata": {},
     "output_type": "execute_result"
    }
   ],
   "source": [
    "np.abs(sys1.V_node)"
   ]
  },
  {
   "cell_type": "code",
   "execution_count": null,
   "metadata": {
    "collapsed": false
   },
   "outputs": [],
   "source": [
    "sys1.nodes"
   ]
  },
  {
   "cell_type": "markdown",
   "metadata": {},
   "source": [
    "### Interaction with powers"
   ]
  },
  {
   "cell_type": "code",
   "execution_count": 7,
   "metadata": {
    "collapsed": false
   },
   "outputs": [
    {
     "data": {
      "text/html": [
       "\n",
       "\n",
       "    <div class=\"bk-root\">\n",
       "        <div class=\"bk-plotdiv\" id=\"5a301356-9614-4470-aba4-3ade166df007\"></div>\n",
       "    </div>\n",
       "<script type=\"text/javascript\">\n",
       "  \n",
       "  (function(global) {\n",
       "    function now() {\n",
       "      return new Date();\n",
       "    }\n",
       "  \n",
       "    var force = false;\n",
       "  \n",
       "    if (typeof (window._bokeh_onload_callbacks) === \"undefined\" || force === true) {\n",
       "      window._bokeh_onload_callbacks = [];\n",
       "      window._bokeh_is_loading = undefined;\n",
       "    }\n",
       "  \n",
       "  \n",
       "    \n",
       "    if (typeof (window._bokeh_timeout) === \"undefined\" || force === true) {\n",
       "      window._bokeh_timeout = Date.now() + 0;\n",
       "      window._bokeh_failed_load = false;\n",
       "    }\n",
       "  \n",
       "    var NB_LOAD_WARNING = {'data': {'text/html':\n",
       "       \"<div style='background-color: #fdd'>\\n\"+\n",
       "       \"<p>\\n\"+\n",
       "       \"BokehJS does not appear to have successfully loaded. If loading BokehJS from CDN, this \\n\"+\n",
       "       \"may be due to a slow or bad network connection. Possible fixes:\\n\"+\n",
       "       \"</p>\\n\"+\n",
       "       \"<ul>\\n\"+\n",
       "       \"<li>re-rerun `output_notebook()` to attempt to load from CDN again, or</li>\\n\"+\n",
       "       \"<li>use INLINE resources instead, as so:</li>\\n\"+\n",
       "       \"</ul>\\n\"+\n",
       "       \"<code>\\n\"+\n",
       "       \"from bokeh.resources import INLINE\\n\"+\n",
       "       \"output_notebook(resources=INLINE)\\n\"+\n",
       "       \"</code>\\n\"+\n",
       "       \"</div>\"}};\n",
       "  \n",
       "    function display_loaded() {\n",
       "      if (window.Bokeh !== undefined) {\n",
       "        var el = document.getElementById(\"5a301356-9614-4470-aba4-3ade166df007\");\n",
       "        el.textContent = \"BokehJS \" + Bokeh.version + \" successfully loaded.\";\n",
       "      } else if (Date.now() < window._bokeh_timeout) {\n",
       "        setTimeout(display_loaded, 100)\n",
       "      }\n",
       "    }if ((window.Jupyter !== undefined) && Jupyter.notebook.kernel) {\n",
       "      comm_manager = Jupyter.notebook.kernel.comm_manager\n",
       "      comm_manager.register_target(\"0a76546b-71c2-4049-acb0-fef508e29492\", function () {});\n",
       "    }\n",
       "  \n",
       "    function run_callbacks() {\n",
       "      try {\n",
       "        window._bokeh_onload_callbacks.forEach(function(callback) { callback() });\n",
       "      }\n",
       "      finally {\n",
       "        delete window._bokeh_onload_callbacks\n",
       "      }\n",
       "      console.info(\"Bokeh: all callbacks have finished\");\n",
       "    }\n",
       "  \n",
       "    function load_libs(js_urls, callback) {\n",
       "      window._bokeh_onload_callbacks.push(callback);\n",
       "      if (window._bokeh_is_loading > 0) {\n",
       "        console.log(\"Bokeh: BokehJS is being loaded, scheduling callback at\", now());\n",
       "        return null;\n",
       "      }\n",
       "      if (js_urls == null || js_urls.length === 0) {\n",
       "        run_callbacks();\n",
       "        return null;\n",
       "      }\n",
       "      console.log(\"Bokeh: BokehJS not loaded, scheduling load and callback at\", now());\n",
       "      window._bokeh_is_loading = js_urls.length;\n",
       "      for (var i = 0; i < js_urls.length; i++) {\n",
       "        var url = js_urls[i];\n",
       "        var s = document.createElement('script');\n",
       "        s.src = url;\n",
       "        s.async = false;\n",
       "        s.onreadystatechange = s.onload = function() {\n",
       "          window._bokeh_is_loading--;\n",
       "          if (window._bokeh_is_loading === 0) {\n",
       "            console.log(\"Bokeh: all BokehJS libraries loaded\");\n",
       "            run_callbacks()\n",
       "          }\n",
       "        };\n",
       "        s.onerror = function() {\n",
       "          console.warn(\"failed to load library \" + url);\n",
       "        };\n",
       "        console.log(\"Bokeh: injecting script tag for BokehJS library: \", url);\n",
       "        document.getElementsByTagName(\"head\")[0].appendChild(s);\n",
       "      }\n",
       "    };var element = document.getElementById(\"5a301356-9614-4470-aba4-3ade166df007\");\n",
       "    if (element == null) {\n",
       "      console.log(\"Bokeh: ERROR: autoload.js configured with elementid '5a301356-9614-4470-aba4-3ade166df007' but no matching script tag was found. \")\n",
       "      return false;\n",
       "    }\n",
       "  \n",
       "    var js_urls = [];\n",
       "  \n",
       "    var inline_js = [\n",
       "      function(Bokeh) {\n",
       "        (function() {\n",
       "          var fn = function() {\n",
       "            var docs_json = {\"d1096712-5636-40ba-8e4f-c29a002c6642\":{\"roots\":{\"references\":[{\"attributes\":{\"callback\":null,\"column_names\":[\"y\",\"x\"],\"data\":{\"x\":[-300,50],\"y\":[207.9,207.9]}},\"id\":\"431e6525-ba20-4e09-b662-5c7911167925\",\"type\":\"ColumnDataSource\"},{\"attributes\":{\"axis_label\":\"Voltage (V)\",\"formatter\":{\"id\":\"f65b5f41-4e2c-40e3-bd00-861f1e31abde\",\"type\":\"BasicTickFormatter\"},\"plot\":{\"id\":\"2bba573a-d13c-4b8e-9b1e-2044499db394\",\"subtype\":\"Figure\",\"type\":\"Plot\"},\"ticker\":{\"id\":\"4058c8bb-bcef-455f-a246-f18f536a0fdd\",\"type\":\"BasicTicker\"}},\"id\":\"35a5dc62-f001-4165-9973-c954ec10d8a2\",\"type\":\"LinearAxis\"},{\"attributes\":{\"bottom_units\":\"screen\",\"fill_alpha\":{\"value\":0.5},\"fill_color\":{\"value\":\"lightgrey\"},\"left_units\":\"screen\",\"level\":\"overlay\",\"line_alpha\":{\"value\":1.0},\"line_color\":{\"value\":\"black\"},\"line_dash\":[4,4],\"line_width\":{\"value\":2},\"plot\":null,\"render_mode\":\"css\",\"right_units\":\"screen\",\"top_units\":\"screen\"},\"id\":\"4697c864-2429-4afe-875b-57058725fbcc\",\"type\":\"BoxAnnotation\"},{\"attributes\":{\"data_source\":{\"id\":\"431e6525-ba20-4e09-b662-5c7911167925\",\"type\":\"ColumnDataSource\"},\"glyph\":{\"id\":\"4126c85e-a9ef-4588-8765-f0c662f5babd\",\"type\":\"Line\"},\"hover_glyph\":null,\"muted_glyph\":null,\"nonselection_glyph\":{\"id\":\"6a72e28d-f1f9-4468-aa15-d786bc48fbda\",\"type\":\"Line\"},\"selection_glyph\":null},\"id\":\"a6966974-a856-49e1-b23f-2e575f15b349\",\"type\":\"GlyphRenderer\"},{\"attributes\":{\"fill_alpha\":{\"value\":0.5},\"fill_color\":{\"value\":\"red\"},\"line_alpha\":{\"value\":0.5},\"line_color\":{\"value\":\"red\"},\"size\":{\"units\":\"screen\",\"value\":15},\"x\":{\"field\":\"y\"},\"y\":{\"field\":\"v_an\"}},\"id\":\"932f4cb2-e065-4f16-b5c4-a35390a47b83\",\"type\":\"Circle\"},{\"attributes\":{\"plot\":{\"id\":\"2bba573a-d13c-4b8e-9b1e-2044499db394\",\"subtype\":\"Figure\",\"type\":\"Plot\"}},\"id\":\"677e36d6-4e41-4861-b419-10606a860a67\",\"type\":\"PanTool\"},{\"attributes\":{},\"id\":\"157cd9cf-45b3-447a-8297-ae800c6c8055\",\"type\":\"BasicTickFormatter\"},{\"attributes\":{\"callback\":null,\"column_names\":[\"y\",\"x\"],\"data\":{\"x\":[-300,50],\"y\":[242.55,242.55]}},\"id\":\"39f58a5b-596c-4786-8f23-f1e0dc67f3ca\",\"type\":\"ColumnDataSource\"},{\"attributes\":{\"fill_alpha\":{\"value\":0.1},\"fill_color\":{\"value\":\"#1f77b4\"},\"line_alpha\":{\"value\":0.1},\"line_color\":{\"value\":\"#1f77b4\"},\"size\":{\"units\":\"screen\",\"value\":15},\"x\":{\"field\":\"y\"},\"y\":{\"field\":\"v_cn\"}},\"id\":\"de9c4cdf-30c0-4e60-bff3-726849ba4214\",\"type\":\"Circle\"},{\"attributes\":{\"line_alpha\":{\"value\":0.1},\"line_color\":{\"value\":\"#1f77b4\"},\"line_width\":{\"value\":5},\"x\":{\"field\":\"x\"},\"y\":{\"field\":\"y\"}},\"id\":\"47585b5a-5db4-4912-b5c7-3c875922a0f1\",\"type\":\"Line\"},{\"attributes\":{\"callback\":null},\"id\":\"dcc182a8-3672-4664-9c8c-5193f5c83a53\",\"type\":\"DataRange1d\"},{\"attributes\":{\"line_alpha\":{\"value\":0.1},\"line_color\":{\"value\":\"#1f77b4\"},\"line_width\":{\"value\":5},\"x\":{\"field\":\"x\"},\"y\":{\"field\":\"y\"}},\"id\":\"6a72e28d-f1f9-4468-aa15-d786bc48fbda\",\"type\":\"Line\"},{\"attributes\":{\"overlay\":{\"id\":\"4697c864-2429-4afe-875b-57058725fbcc\",\"type\":\"BoxAnnotation\"},\"plot\":{\"id\":\"2bba573a-d13c-4b8e-9b1e-2044499db394\",\"subtype\":\"Figure\",\"type\":\"Plot\"}},\"id\":\"55ff28e8-bcb8-48ae-bf36-daf0858e28ee\",\"type\":\"BoxZoomTool\"},{\"attributes\":{},\"id\":\"f65b5f41-4e2c-40e3-bd00-861f1e31abde\",\"type\":\"BasicTickFormatter\"},{\"attributes\":{\"plot\":{\"id\":\"2bba573a-d13c-4b8e-9b1e-2044499db394\",\"subtype\":\"Figure\",\"type\":\"Plot\"}},\"id\":\"c496ac5a-bc10-4b86-87e8-b0d05ceda043\",\"type\":\"ResetTool\"},{\"attributes\":{\"axis_label\":\"Distance (m)\",\"formatter\":{\"id\":\"157cd9cf-45b3-447a-8297-ae800c6c8055\",\"type\":\"BasicTickFormatter\"},\"plot\":{\"id\":\"2bba573a-d13c-4b8e-9b1e-2044499db394\",\"subtype\":\"Figure\",\"type\":\"Plot\"},\"ticker\":{\"id\":\"52e5cbba-c243-4501-9e5c-ce44f1b2cc6f\",\"type\":\"BasicTicker\"}},\"id\":\"8bc18532-3c93-4a3e-905a-9d9cbbfe0810\",\"type\":\"LinearAxis\"},{\"attributes\":{\"line_color\":{\"value\":\"red\"},\"line_width\":{\"value\":5},\"x\":{\"field\":\"x\"},\"y\":{\"field\":\"y\"}},\"id\":\"27fbef8e-d0cf-40c4-acd3-b85e36278f36\",\"type\":\"Line\"},{\"attributes\":{\"data_source\":{\"id\":\"856c74c6-26f2-4648-89a2-1e2efefda37a\",\"type\":\"ColumnDataSource\"},\"glyph\":{\"id\":\"932f4cb2-e065-4f16-b5c4-a35390a47b83\",\"type\":\"Circle\"},\"hover_glyph\":null,\"muted_glyph\":null,\"nonselection_glyph\":{\"id\":\"c7786a80-0587-4d4a-89e6-a9c93d5be642\",\"type\":\"Circle\"},\"selection_glyph\":null},\"id\":\"288d052c-15bd-41c8-a4c2-5ec2cb5236a7\",\"type\":\"GlyphRenderer\"},{\"attributes\":{\"plot\":{\"id\":\"2bba573a-d13c-4b8e-9b1e-2044499db394\",\"subtype\":\"Figure\",\"type\":\"Plot\"}},\"id\":\"c109121e-65ff-4af8-b51c-d4a72ea88c67\",\"type\":\"HelpTool\"},{\"attributes\":{\"plot\":null,\"text\":\"Voltage vs load powers\"},\"id\":\"02b5d553-602e-4bf7-816a-6bc9173a90f0\",\"type\":\"Title\"},{\"attributes\":{\"active_drag\":\"auto\",\"active_inspect\":\"auto\",\"active_scroll\":\"auto\",\"active_tap\":\"auto\",\"tools\":[{\"id\":\"677e36d6-4e41-4861-b419-10606a860a67\",\"type\":\"PanTool\"},{\"id\":\"b77b4054-5a04-4240-964b-c6d1671b9daa\",\"type\":\"WheelZoomTool\"},{\"id\":\"55ff28e8-bcb8-48ae-bf36-daf0858e28ee\",\"type\":\"BoxZoomTool\"},{\"id\":\"a6b063dd-aefc-44d0-a704-78d04fcab760\",\"type\":\"SaveTool\"},{\"id\":\"c496ac5a-bc10-4b86-87e8-b0d05ceda043\",\"type\":\"ResetTool\"},{\"id\":\"c109121e-65ff-4af8-b51c-d4a72ea88c67\",\"type\":\"HelpTool\"}]},\"id\":\"b2628d60-8814-4d03-af34-724f06bab028\",\"type\":\"Toolbar\"},{\"attributes\":{\"plot\":{\"id\":\"2bba573a-d13c-4b8e-9b1e-2044499db394\",\"subtype\":\"Figure\",\"type\":\"Plot\"}},\"id\":\"a6b063dd-aefc-44d0-a704-78d04fcab760\",\"type\":\"SaveTool\"},{\"attributes\":{\"fill_alpha\":{\"value\":0.5},\"fill_color\":{\"value\":\"blue\"},\"line_alpha\":{\"value\":0.5},\"line_color\":{\"value\":\"blue\"},\"size\":{\"units\":\"screen\",\"value\":15},\"x\":{\"field\":\"y\"},\"y\":{\"field\":\"v_cn\"}},\"id\":\"80c20346-f8ec-4798-aba9-9880e587c59e\",\"type\":\"Circle\"},{\"attributes\":{\"callback\":null},\"id\":\"0d7f5ed1-8886-479b-9582-0878b1dbc771\",\"type\":\"DataRange1d\"},{\"attributes\":{\"below\":[{\"id\":\"8bc18532-3c93-4a3e-905a-9d9cbbfe0810\",\"type\":\"LinearAxis\"}],\"left\":[{\"id\":\"35a5dc62-f001-4165-9973-c954ec10d8a2\",\"type\":\"LinearAxis\"}],\"plot_height\":300,\"renderers\":[{\"id\":\"8bc18532-3c93-4a3e-905a-9d9cbbfe0810\",\"type\":\"LinearAxis\"},{\"id\":\"6d703ddc-e39f-41c2-800a-ef16d2bd28f9\",\"type\":\"Grid\"},{\"id\":\"35a5dc62-f001-4165-9973-c954ec10d8a2\",\"type\":\"LinearAxis\"},{\"id\":\"85a27e4f-a15d-40c2-9bd5-9e5a0efd264f\",\"type\":\"Grid\"},{\"id\":\"4697c864-2429-4afe-875b-57058725fbcc\",\"type\":\"BoxAnnotation\"},{\"id\":\"288d052c-15bd-41c8-a4c2-5ec2cb5236a7\",\"type\":\"GlyphRenderer\"},{\"id\":\"20fbc640-70b5-4a81-8570-a200b1fcf7aa\",\"type\":\"GlyphRenderer\"},{\"id\":\"4e93fd05-a24e-4a17-b5df-57ff6a2456e8\",\"type\":\"GlyphRenderer\"},{\"id\":\"9530a7d0-b449-483b-900c-abce6847f519\",\"type\":\"GlyphRenderer\"},{\"id\":\"a6966974-a856-49e1-b23f-2e575f15b349\",\"type\":\"GlyphRenderer\"}],\"title\":{\"id\":\"02b5d553-602e-4bf7-816a-6bc9173a90f0\",\"type\":\"Title\"},\"tool_events\":{\"id\":\"bd0b5db9-5f72-4838-b96c-d10ea26f36ed\",\"type\":\"ToolEvents\"},\"toolbar\":{\"id\":\"b2628d60-8814-4d03-af34-724f06bab028\",\"type\":\"Toolbar\"},\"x_range\":{\"id\":\"0d7f5ed1-8886-479b-9582-0878b1dbc771\",\"type\":\"DataRange1d\"},\"x_scale\":{\"id\":\"b17007dc-615f-4b45-a95a-cc9b48c01ec9\",\"type\":\"LinearScale\"},\"y_range\":{\"id\":\"dcc182a8-3672-4664-9c8c-5193f5c83a53\",\"type\":\"DataRange1d\"},\"y_scale\":{\"id\":\"1cd5f1ed-c408-4247-8565-c701643c8758\",\"type\":\"LinearScale\"}},\"id\":\"2bba573a-d13c-4b8e-9b1e-2044499db394\",\"subtype\":\"Figure\",\"type\":\"Plot\"},{\"attributes\":{\"dimension\":1,\"plot\":{\"id\":\"2bba573a-d13c-4b8e-9b1e-2044499db394\",\"subtype\":\"Figure\",\"type\":\"Plot\"},\"ticker\":{\"id\":\"4058c8bb-bcef-455f-a246-f18f536a0fdd\",\"type\":\"BasicTicker\"}},\"id\":\"85a27e4f-a15d-40c2-9bd5-9e5a0efd264f\",\"type\":\"Grid\"},{\"attributes\":{\"fill_alpha\":{\"value\":0.5},\"fill_color\":{\"value\":\"green\"},\"line_alpha\":{\"value\":0.5},\"line_color\":{\"value\":\"green\"},\"size\":{\"units\":\"screen\",\"value\":15},\"x\":{\"field\":\"y\"},\"y\":{\"field\":\"v_bn\"}},\"id\":\"b64fed69-08f3-4407-b2a5-87c29612eba5\",\"type\":\"Circle\"},{\"attributes\":{\"data_source\":{\"id\":\"856c74c6-26f2-4648-89a2-1e2efefda37a\",\"type\":\"ColumnDataSource\"},\"glyph\":{\"id\":\"80c20346-f8ec-4798-aba9-9880e587c59e\",\"type\":\"Circle\"},\"hover_glyph\":null,\"muted_glyph\":null,\"nonselection_glyph\":{\"id\":\"de9c4cdf-30c0-4e60-bff3-726849ba4214\",\"type\":\"Circle\"},\"selection_glyph\":null},\"id\":\"4e93fd05-a24e-4a17-b5df-57ff6a2456e8\",\"type\":\"GlyphRenderer\"},{\"attributes\":{},\"id\":\"4058c8bb-bcef-455f-a246-f18f536a0fdd\",\"type\":\"BasicTicker\"},{\"attributes\":{},\"id\":\"bd0b5db9-5f72-4838-b96c-d10ea26f36ed\",\"type\":\"ToolEvents\"},{\"attributes\":{\"plot\":{\"id\":\"2bba573a-d13c-4b8e-9b1e-2044499db394\",\"subtype\":\"Figure\",\"type\":\"Plot\"},\"ticker\":{\"id\":\"52e5cbba-c243-4501-9e5c-ce44f1b2cc6f\",\"type\":\"BasicTicker\"}},\"id\":\"6d703ddc-e39f-41c2-800a-ef16d2bd28f9\",\"type\":\"Grid\"},{\"attributes\":{\"data_source\":{\"id\":\"39f58a5b-596c-4786-8f23-f1e0dc67f3ca\",\"type\":\"ColumnDataSource\"},\"glyph\":{\"id\":\"27fbef8e-d0cf-40c4-acd3-b85e36278f36\",\"type\":\"Line\"},\"hover_glyph\":null,\"muted_glyph\":null,\"nonselection_glyph\":{\"id\":\"47585b5a-5db4-4912-b5c7-3c875922a0f1\",\"type\":\"Line\"},\"selection_glyph\":null},\"id\":\"9530a7d0-b449-483b-900c-abce6847f519\",\"type\":\"GlyphRenderer\"},{\"attributes\":{\"line_color\":{\"value\":\"blue\"},\"line_width\":{\"value\":5},\"x\":{\"field\":\"x\"},\"y\":{\"field\":\"y\"}},\"id\":\"4126c85e-a9ef-4588-8765-f0c662f5babd\",\"type\":\"Line\"},{\"attributes\":{},\"id\":\"52e5cbba-c243-4501-9e5c-ce44f1b2cc6f\",\"type\":\"BasicTicker\"},{\"attributes\":{\"data_source\":{\"id\":\"856c74c6-26f2-4648-89a2-1e2efefda37a\",\"type\":\"ColumnDataSource\"},\"glyph\":{\"id\":\"b64fed69-08f3-4407-b2a5-87c29612eba5\",\"type\":\"Circle\"},\"hover_glyph\":null,\"muted_glyph\":null,\"nonselection_glyph\":{\"id\":\"63a4d4a0-6f24-4e4a-9849-39028e3ee511\",\"type\":\"Circle\"},\"selection_glyph\":null},\"id\":\"20fbc640-70b5-4a81-8570-a200b1fcf7aa\",\"type\":\"GlyphRenderer\"},{\"attributes\":{\"fill_alpha\":{\"value\":0.1},\"fill_color\":{\"value\":\"#1f77b4\"},\"line_alpha\":{\"value\":0.1},\"line_color\":{\"value\":\"#1f77b4\"},\"size\":{\"units\":\"screen\",\"value\":15},\"x\":{\"field\":\"y\"},\"y\":{\"field\":\"v_an\"}},\"id\":\"c7786a80-0587-4d4a-89e6-a9c93d5be642\",\"type\":\"Circle\"},{\"attributes\":{\"callback\":null,\"column_names\":[\"p_abc\",\"v_bn\",\"v_cn\",\"v_ab\",\"p_b\",\"deg_cn\",\"v_ng\",\"deg_bn\",\"q_a\",\"p_c\",\"y\",\"q_abc\",\"v_bc\",\"s_radio\",\"deg_ng\",\"q_b\",\"v_ca\",\"p_a\",\"x\",\"deg_an\",\"v_an\",\"bus_id\",\"q_c\"],\"data\":{\"bus_id\":[\"SourceBus\",\"1\",\"2\",\"3\"],\"deg_an\":[0.0,29.97857481926652,29.983433321565393,29.98394284551577],\"deg_bn\":[-119.99999999999999,-89.99999999999959,-90.00524294523535,-90.00579257383549],\"deg_cn\":[120.00000000000004,149.99999999999991,150.00434924474334,150.00480517129918],\"deg_ng\":[0.0,0.0,0.0,0.0],\"p_a\":[\"5.95\",\"0.00\",\"0.00\",\"-10.00\"],\"p_abc\":[\"10.00\",\"0.00\",\"0.00\",\"-10.00\"],\"p_b\":[\"4.05\",\"0.00\",\"-0.00\",\"-0.00\"],\"p_c\":[\"-0.00\",\"0.00\",\"0.00\",\"0.00\"],\"q_a\":[\"-1.24\",\"0.00\",\"0.00\",\"-3.29\"],\"q_abc\":[\"3.29\",\"0.00\",\"0.00\",\"-3.29\"],\"q_b\":[\"4.53\",\"-0.00\",\"0.00\",\"0.00\"],\"q_c\":[\"-0.00\",\"0.00\",\"0.00\",\"0.00\"],\"s_radio\":[20.0,0.0,0.0,20.0],\"v_ab\":[11000.254678869938,399.94065741955177,399.90487083381254,399.90111933071313],\"v_an\":[6351.0,230.91610230347422,230.8432163335223,230.83557535135972],\"v_bc\":[11000.254678869938,400.0092610498168,400.00926104981676,400.00926104981676],\"v_bn\":[6350.999999999999,230.9454545454544,230.9534979420746,230.9543412921233],\"v_ca\":[11000.254678869942,400.0270116616026,399.9752316692449,399.9698032774997],\"v_cn\":[6351.0,230.94545454545445,230.9597363885111,230.96123371781314],\"v_ng\":[0.0,0.0,0.0,0.0],\"x\":[359.9,359.66300000000047,358.59600000001956,358.48100000002887],\"y\":[162.81599999999162,162.81599999999162,163.07499999995343,163.0799999999581]}},\"id\":\"856c74c6-26f2-4648-89a2-1e2efefda37a\",\"type\":\"ColumnDataSource\"},{\"attributes\":{},\"id\":\"b17007dc-615f-4b45-a95a-cc9b48c01ec9\",\"type\":\"LinearScale\"},{\"attributes\":{\"fill_alpha\":{\"value\":0.1},\"fill_color\":{\"value\":\"#1f77b4\"},\"line_alpha\":{\"value\":0.1},\"line_color\":{\"value\":\"#1f77b4\"},\"size\":{\"units\":\"screen\",\"value\":15},\"x\":{\"field\":\"y\"},\"y\":{\"field\":\"v_bn\"}},\"id\":\"63a4d4a0-6f24-4e4a-9849-39028e3ee511\",\"type\":\"Circle\"},{\"attributes\":{},\"id\":\"1cd5f1ed-c408-4247-8565-c701643c8758\",\"type\":\"LinearScale\"},{\"attributes\":{\"plot\":{\"id\":\"2bba573a-d13c-4b8e-9b1e-2044499db394\",\"subtype\":\"Figure\",\"type\":\"Plot\"}},\"id\":\"b77b4054-5a04-4240-964b-c6d1671b9daa\",\"type\":\"WheelZoomTool\"}],\"root_ids\":[\"2bba573a-d13c-4b8e-9b1e-2044499db394\"]},\"title\":\"Bokeh Application\",\"version\":\"0.12.6\"}};\n",
       "            var render_items = [{\"docid\":\"d1096712-5636-40ba-8e4f-c29a002c6642\",\"elementid\":\"5a301356-9614-4470-aba4-3ade166df007\",\"modelid\":\"2bba573a-d13c-4b8e-9b1e-2044499db394\",\"notebook_comms_target\":\"0a76546b-71c2-4049-acb0-fef508e29492\"}];\n",
       "            \n",
       "            Bokeh.embed.embed_items(docs_json, render_items);\n",
       "          };\n",
       "          if (document.readyState != \"loading\") fn();\n",
       "          else document.addEventListener(\"DOMContentLoaded\", fn);\n",
       "        })();\n",
       "      },\n",
       "      function(Bokeh) {\n",
       "      }\n",
       "    ];\n",
       "  \n",
       "    function run_inline_js() {\n",
       "      \n",
       "      if ((window.Bokeh !== undefined) || (force === true)) {\n",
       "        for (var i = 0; i < inline_js.length; i++) {\n",
       "          inline_js[i](window.Bokeh);\n",
       "        }if (force === true) {\n",
       "          display_loaded();\n",
       "        }} else if (Date.now() < window._bokeh_timeout) {\n",
       "        setTimeout(run_inline_js, 100);\n",
       "      } else if (!window._bokeh_failed_load) {\n",
       "        console.log(\"Bokeh: BokehJS failed to load within specified timeout.\");\n",
       "        window._bokeh_failed_load = true;\n",
       "      } else if (force !== true) {\n",
       "        var cell = $(document.getElementById(\"5a301356-9614-4470-aba4-3ade166df007\")).parents('.cell').data().cell;\n",
       "        cell.output_area.append_execute_result(NB_LOAD_WARNING)\n",
       "      }\n",
       "  \n",
       "    }\n",
       "  \n",
       "    if (window._bokeh_is_loading === 0) {\n",
       "      console.log(\"Bokeh: BokehJS loaded, going straight to plotting\");\n",
       "      run_inline_js();\n",
       "    } else {\n",
       "      load_libs(js_urls, function() {\n",
       "        console.log(\"Bokeh: BokehJS plotting callback run at\", now());\n",
       "        run_inline_js();\n",
       "      });\n",
       "    }\n",
       "  }(this));\n",
       "</script>"
      ]
     },
     "metadata": {},
     "output_type": "display_data"
    },
    {
     "data": {
      "text/html": [
       "<p><code>&lt;Bokeh Notebook handle for <strong>In[7]</strong>&gt;</code></p>"
      ],
      "text/plain": [
       "<bokeh.io._CommsHandle at 0x7fb1d4c00128>"
      ]
     },
     "execution_count": 7,
     "metadata": {},
     "output_type": "execute_result"
    }
   ],
   "source": [
    "s_0_3pn = sys1.pq_3pn # \n",
    "s_0_3p  = sys1.pq_3p  # \n",
    "s_0_1p  = sys1.pq_1p  #\n",
    "\n",
    "p = figure(width=600, height=300,\n",
    "           title='Voltage vs load powers', \n",
    "           #x_range = [50,-300], y_range = [180,800],\n",
    "           x_axis_label='Distance (m)',\n",
    "           y_axis_label='Voltage (V)')\n",
    "source = ColumnDataSource(sys1.bus_data)\n",
    "cr = p.circle(source=source, x='y', y='v_an', size=15, color=\"red\", alpha=0.5)\n",
    "p.circle(source=source, x='y', y='v_bn', size=15, color=\"green\", alpha=0.5)\n",
    "p.circle(source=source, x='y', y='v_cn', size=15, color=\"blue\", alpha=0.5)\n",
    "p.line([-300, 50],[231*1.05,231*1.05], color='red', line_width=5)\n",
    "p.line([-300, 50],[231*0.90,231*0.90], color='blue', line_width=5)\n",
    "#p.add_tools(HoverTool(renderers=[cr], tooltips=sys1.bus_tooltip))\n",
    "\n",
    "\n",
    "def update(load_factor=1.0):\n",
    "\n",
    "    sys1.pq_3pn = load_factor*s_0_3pn\n",
    "    sys1.pq_3p = load_factor*s_0_3p\n",
    "    sys1.pq_1p = load_factor*s_0_1p\n",
    "    sys1.pf()\n",
    "    sys1.get_v()\n",
    "    sys1.get_i()\n",
    "    sys1.bokeh_tools()\n",
    "\n",
    "    source.data = sys1.bus_data\n",
    "    push_notebook()\n",
    "\n",
    "#p_grid = gridplot([[p], [p_2]])\n",
    "show(p, notebook_handle=True)\n"
   ]
  },
  {
   "cell_type": "code",
   "execution_count": 8,
   "metadata": {
    "collapsed": false
   },
   "outputs": [
    {
     "name": "stdout",
     "output_type": "stream",
     "text": [
      "I_lines 0.001592397689819336\n",
      "writing line dic 0.00022220611572265625\n"
     ]
    }
   ],
   "source": [
    "from ipywidgets import interact\n",
    "interact(update, load_factor=(-1,1.2, 0.01))"
   ]
  },
  {
   "cell_type": "markdown",
   "metadata": {
    "collapsed": true
   },
   "source": [
    "### Interaction with compensator currents"
   ]
  },
  {
   "cell_type": "code",
   "execution_count": null,
   "metadata": {
    "collapsed": false
   },
   "outputs": [],
   "source": [
    "p = figure(width=600, height=400,\n",
    "           title='Voltage with compensation', \n",
    "           x_range = [50,-300], y_range = [180,250],\n",
    "           x_axis_label='Distance (m)',\n",
    "           y_axis_label='Voltage (V)')\n",
    "source = ColumnDataSource(sys1.bus_data)\n",
    "\n",
    "i_a_0 = np.abs(sys1.I_node[28,0])\n",
    "i_b_0 = np.abs(sys1.I_node[29,0])\n",
    "i_c_0 = np.abs(sys1.I_node[30,0])\n",
    "s_0 = sys1.pq_3pn # \n",
    "\n",
    "sys1.pf()\n",
    "\n",
    "cr = p.circle(source=source, x='y', y='v_an', size=15, color=\"red\", alpha=0.5)\n",
    "p.circle(source=source, x='y', y='v_bn', size=15, color=\"green\", alpha=0.5)\n",
    "p.circle(source=source, x='y', y='v_cn', size=15, color=\"blue\", alpha=0.5)\n",
    "p.line([-300, 50],[231*1.05,231*1.05], color='red', line_width=5)\n",
    "p.line([-300, 50],[231*0.90,231*0.90], color='blue', line_width=5)\n",
    "#p.add_tools(HoverTool(renderers=[cr], tooltips=sys1.bus_tooltip))\n",
    "\n",
    "def update(i_a=0.0,i_b=0.0,i_c=0.0):\n",
    "\n",
    "    sys1.I_node[28,0] = (i_a + i_a_0)*np.exp(1j*np.angle(sys1.V_node[28,0] -np.pi/2 ))\n",
    "    sys1.I_node[29,0] = (i_b + i_b_0)*np.exp(1j*np.angle(sys1.V_node[29,0] -np.pi/2 ))\n",
    "    sys1.I_node[30,0] = (i_c + i_c_0)*np.exp(1j*np.angle(sys1.V_node[30,0] -np.pi/2 ))    \n",
    "    sys1.pf()\n",
    "    sys1.get_v()\n",
    "    sys1.get_i()\n",
    "    sys1.bokeh_tools()\n",
    "\n",
    "    source.data = sys1.bus_data\n",
    "    push_notebook()\n",
    "\n",
    "show(p, notebook_handle=True)"
   ]
  },
  {
   "cell_type": "code",
   "execution_count": null,
   "metadata": {
    "collapsed": false
   },
   "outputs": [],
   "source": [
    "interact(update, \n",
    "         i_a=(-100,100, 1),\n",
    "         i_b=(-100,100, 1),\n",
    "         i_c=(-100,100, 1))"
   ]
  },
  {
   "cell_type": "code",
   "execution_count": null,
   "metadata": {
    "collapsed": false
   },
   "outputs": [],
   "source": [
    "sys1.I_node[0:100]*400\n"
   ]
  },
  {
   "cell_type": "code",
   "execution_count": null,
   "metadata": {
    "collapsed": true
   },
   "outputs": [],
   "source": []
  },
  {
   "cell_type": "code",
   "execution_count": null,
   "metadata": {
    "collapsed": true
   },
   "outputs": [],
   "source": []
  },
  {
   "cell_type": "code",
   "execution_count": null,
   "metadata": {
    "collapsed": true
   },
   "outputs": [],
   "source": []
  }
 ],
 "metadata": {
  "anaconda-cloud": {},
  "kernelspec": {
   "display_name": "Python [conda root]",
   "language": "python",
   "name": "conda-root-py"
  },
  "language_info": {
   "codemirror_mode": {
    "name": "ipython",
    "version": 3
   },
   "file_extension": ".py",
   "mimetype": "text/x-python",
   "name": "python",
   "nbconvert_exporter": "python",
   "pygments_lexer": "ipython3",
   "version": "3.5.2"
  },
  "widgets": {
   "state": {
    "6ae0ef06ebf54b44b356b91f4915b59b": {
     "views": [
      {
       "cell_index": 14
      }
     ]
    }
   },
   "version": "1.2.0"
  }
 },
 "nbformat": 4,
 "nbformat_minor": 1
}
