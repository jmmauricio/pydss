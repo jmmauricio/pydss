{
 "cells": [
  {
   "cell_type": "code",
   "execution_count": null,
   "metadata": {
    "collapsed": false
   },
   "outputs": [],
   "source": [
    "import pydss\n",
    "import numpy as np\n",
    "from bokeh.io import output_notebook, show\n",
    "from bokeh.plotting import figure\n",
    "from bokeh.layouts import gridplot\n",
    "from bokeh.models import ColumnDataSource, HoverTool, CustomJS\n",
    "output_notebook()"
   ]
  },
  {
   "cell_type": "code",
   "execution_count": null,
   "metadata": {
    "collapsed": false
   },
   "outputs": [],
   "source": [
    "sys1 = pydss.pydss('bench_3bus.json')\n",
    "sys1.pf_eval()\n",
    "sys1.get_v()\n",
    "sys1.get_i()"
   ]
  },
  {
   "cell_type": "code",
   "execution_count": null,
   "metadata": {
    "collapsed": false
   },
   "outputs": [],
   "source": [
    "sys1.bokeh_tools()\n",
    "\n",
    "p = figure(width=600, height=200,\n",
    "           title='LV Network', \n",
    "           x_range=[-10,130], y_range=[-20, 20])\n",
    "\n",
    "# lines:\n",
    "source = ColumnDataSource(sys1.line_data)\n",
    "lin = p.multi_line(source=source, xs='x_s', ys='y_s', color=\"red\", alpha=0.5, line_width=5)\n",
    "\n",
    "# buses:\n",
    "source = ColumnDataSource(sys1.bus_data)\n",
    "cr = p.circle(source=source, x='x', y='y', size=15, color=\"navy\", alpha=0.5)\n",
    "\n",
    "p.add_tools(HoverTool(renderers=[lin], tooltips=sys1.line_tooltip))\n",
    "p.add_tools(HoverTool(renderers=[cr], tooltips=sys1.bus_tooltip))\n",
    "show(p)\n"
   ]
  },
  {
   "cell_type": "code",
   "execution_count": null,
   "metadata": {
    "collapsed": false,
    "scrolled": true
   },
   "outputs": [],
   "source": [
    "import numpy as np\n",
    "from bokeh.io import output_notebook, show\n",
    "from bokeh.models import ColumnDataSource\n",
    "from bokeh.io import push_notebook\n",
    "from bokeh.layouts import gridplot\n",
    "from bokeh.plotting import figure\n",
    "from bokeh.charts import Bar \n",
    "import pandas as pd\n",
    "output_notebook()\n",
    "\n",
    "sys1.pq_3pn = s_0\n",
    "sys1.update()\n",
    "sys1.pf_eval()\n",
    "sys1.get_v()\n",
    "sys1.get_i()\n",
    "\n",
    "plt_voltages = figure(width=600, height=300,x_range = [-10,130], y_range = [180,250])\n",
    "source = ColumnDataSource(sys1.bus_data)\n",
    "cr = plt_voltages.circle(source=source, x='x', y='v_an', size=15, color=\"red\", alpha=0.5)\n",
    "plt_voltages.circle(source=source, x='x', y='v_bn', size=15, color=\"green\", alpha=0.5)\n",
    "plt_voltages.circle(source=source, x='x', y='v_cn', size=15, color=\"blue\", alpha=0.5)\n",
    "plt_voltages.line([-300, 350],[231*1.05,231*1.05], color='red', line_width=5)\n",
    "plt_voltages.line([-300, 350],[231*0.90,231*0.90], color='blue', line_width=5)\n",
    "#plt_voltages.add_tools(HoverTool(renderers=[cr], tooltips=sys1.bus_tooltip))\n",
    "\n",
    "s = sys1.system.V_known * np.conj(sys1.system.I_unknown)\n",
    "p = s.real/1000\n",
    "\n",
    "d = {'bus':['N1']*4+['N2']*4,'node':['a','b','c','n']*2,'p':list(p[:,0]), 'pos':range(8)}\n",
    "#source_powers = pd.DataFrame(d)\n",
    "source_powers = ColumnDataSource(d)\n",
    "\n",
    "\n",
    "#plt_powers = Bar(source_powers, values='p',label='bus',  group='node', \n",
    "#        title=\"Avg MPG by ORIGIN, stacked by CYL\") #  legend='top_left'\n",
    "plt_powers = figure(width=600, height=300, y_range = [-100,150])\n",
    "plt_powers.circle(source=source_powers, x='pos', y='p', size=15, color=\"green\", alpha=0.5)\n",
    "\n",
    "def update(load_factor=1.0):\n",
    "\n",
    "    sys1.pq_3pn = load_factor*s_0\n",
    "    sys1.update()\n",
    "    sys1.pf_eval()\n",
    "    sys1.get_v()\n",
    "    sys1.get_i()\n",
    "    sys1.bokeh_tools()\n",
    "    s = sys1.system.V_known * np.conj(sys1.system.I_unknown)\n",
    "    p = s.real/1000\n",
    "\n",
    "    source.data = sys1.bus_data\n",
    "    source_powers.data= {'bus':['N1']*4+['N2']*4,'node':['a','b','c','n']*2,'p':list(p[:,0]), 'pos':range(8)}\n",
    "\n",
    "    push_notebook()\n",
    "\n",
    "p_grid = gridplot([[plt_voltages], [plt_powers]])\n",
    "show(p_grid,notebook_handle=True)\n",
    "\n",
    "\n",
    "#show(p, notebook_handle=True)\n"
   ]
  },
  {
   "cell_type": "code",
   "execution_count": null,
   "metadata": {
    "collapsed": false
   },
   "outputs": [],
   "source": [
    "from ipywidgets import interact\n",
    "interact(update, load_factor=(-1,1.2, 0.01))"
   ]
  },
  {
   "cell_type": "code",
   "execution_count": null,
   "metadata": {
    "collapsed": false
   },
   "outputs": [],
   "source": [
    "from imp import reload\n",
    "import pydss\n",
    "pydss = reload(pydss)"
   ]
  },
  {
   "cell_type": "code",
   "execution_count": null,
   "metadata": {
    "collapsed": false
   },
   "outputs": [],
   "source": [
    "sys1 = pydss.pydss('bench_3bus.json')\n",
    "sys1.system.run_eval()"
   ]
  },
  {
   "cell_type": "code",
   "execution_count": null,
   "metadata": {
    "collapsed": false
   },
   "outputs": [],
   "source": [
    "fig = figure(width=600, height=300)\n",
    "T = sys1.system.T\n",
    "Y = sys1.system.out\n",
    "X = sys1.system.X\n",
    "for it in range(8):\n",
    "    colors = ['red','green','blue','black']\n",
    "    \n",
    "    fig.line(T[:,0],np.abs(Y[it+0,:]), color=colors[it%4], line_width=1)\n",
    "show(fig)"
   ]
  },
  {
   "cell_type": "code",
   "execution_count": null,
   "metadata": {
    "collapsed": false
   },
   "outputs": [],
   "source": [
    "sys1.get_v()\n",
    "sys1.get_i()\n",
    "sys1.bokeh_tools()\n",
    "\n",
    "p = figure(width=600, height=200,\n",
    "           title='LV Network', \n",
    "           x_range=[-10,130], y_range=[-20, 20])\n",
    "\n",
    "# lines:\n",
    "source = ColumnDataSource(sys1.line_data)\n",
    "lin = p.multi_line(source=source, xs='x_s', ys='y_s', color=\"red\", alpha=0.5, line_width=5)\n",
    "\n",
    "# buses:\n",
    "source = ColumnDataSource(sys1.bus_data)\n",
    "cr = p.circle(source=source, x='x', y='y', size=15, color=\"navy\", alpha=0.5)\n",
    "\n",
    "p.add_tools(HoverTool(renderers=[lin], tooltips=sys1.line_tooltip))\n",
    "p.add_tools(HoverTool(renderers=[cr], tooltips=sys1.bus_tooltip))\n",
    "show(p)"
   ]
  },
  {
   "cell_type": "code",
   "execution_count": null,
   "metadata": {
    "collapsed": false
   },
   "outputs": [],
   "source": [
    "figp = figure(width=600, height=300)\n",
    "for it in range(6):\n",
    "    colors = ['red','green','blue','black']\n",
    "    P=sys1.system.out_cplx[it+72,:].real/1000\n",
    "    figp.line(T[:,0],P, color=colors[it%3], line_width=1)\n",
    "show(figp)"
   ]
  },
  {
   "cell_type": "code",
   "execution_count": null,
   "metadata": {
    "collapsed": false
   },
   "outputs": [],
   "source": [
    "sys1.system.out_cplx[0,:].real"
   ]
  },
  {
   "cell_type": "code",
   "execution_count": null,
   "metadata": {
    "collapsed": false
   },
   "outputs": [],
   "source": [
    "fig = figure(width=600, height=300)\n",
    "for it in range(12):\n",
    "    colors = ['red','green','blue','black']\n",
    "    \n",
    "    fig.line(T[:,0],np.abs(sys1.system.out_cplx[it,:])/230, color=colors[it%4], line_width=1)\n",
    "show(fig)"
   ]
  },
  {
   "cell_type": "code",
   "execution_count": null,
   "metadata": {
    "collapsed": true
   },
   "outputs": [],
   "source": []
  }
 ],
 "metadata": {
  "anaconda-cloud": {},
  "kernelspec": {
   "display_name": "Python [conda root]",
   "language": "python",
   "name": "conda-root-py"
  },
  "language_info": {
   "codemirror_mode": {
    "name": "ipython",
    "version": 3
   },
   "file_extension": ".py",
   "mimetype": "text/x-python",
   "name": "python",
   "nbconvert_exporter": "python",
   "pygments_lexer": "ipython3",
   "version": "3.5.2"
  }
 },
 "nbformat": 4,
 "nbformat_minor": 1
}
