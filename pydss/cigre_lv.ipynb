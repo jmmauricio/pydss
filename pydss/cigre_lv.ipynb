{
 "cells": [
  {
   "cell_type": "code",
   "execution_count": 1,
   "metadata": {
    "collapsed": false
   },
   "outputs": [
    {
     "data": {
      "text/html": [
       "\n",
       "    <div class=\"bk-root\">\n",
       "        <a href=\"http://bokeh.pydata.org\" target=\"_blank\" class=\"bk-logo bk-logo-small bk-logo-notebook\"></a>\n",
       "        <span id=\"81116dc2-2164-43e7-9dfd-37a0b7b07a11\">Loading BokehJS ...</span>\n",
       "    </div>"
      ]
     },
     "metadata": {},
     "output_type": "display_data"
    },
    {
     "data": {
      "application/javascript": [
       "\n",
       "(function(global) {\n",
       "  function now() {\n",
       "    return new Date();\n",
       "  }\n",
       "\n",
       "  var force = true;\n",
       "\n",
       "  if (typeof (window._bokeh_onload_callbacks) === \"undefined\" || force === true) {\n",
       "    window._bokeh_onload_callbacks = [];\n",
       "    window._bokeh_is_loading = undefined;\n",
       "  }\n",
       "\n",
       "\n",
       "  \n",
       "  if (typeof (window._bokeh_timeout) === \"undefined\" || force === true) {\n",
       "    window._bokeh_timeout = Date.now() + 5000;\n",
       "    window._bokeh_failed_load = false;\n",
       "  }\n",
       "\n",
       "  var NB_LOAD_WARNING = {'data': {'text/html':\n",
       "     \"<div style='background-color: #fdd'>\\n\"+\n",
       "     \"<p>\\n\"+\n",
       "     \"BokehJS does not appear to have successfully loaded. If loading BokehJS from CDN, this \\n\"+\n",
       "     \"may be due to a slow or bad network connection. Possible fixes:\\n\"+\n",
       "     \"</p>\\n\"+\n",
       "     \"<ul>\\n\"+\n",
       "     \"<li>re-rerun `output_notebook()` to attempt to load from CDN again, or</li>\\n\"+\n",
       "     \"<li>use INLINE resources instead, as so:</li>\\n\"+\n",
       "     \"</ul>\\n\"+\n",
       "     \"<code>\\n\"+\n",
       "     \"from bokeh.resources import INLINE\\n\"+\n",
       "     \"output_notebook(resources=INLINE)\\n\"+\n",
       "     \"</code>\\n\"+\n",
       "     \"</div>\"}};\n",
       "\n",
       "  function display_loaded() {\n",
       "    if (window.Bokeh !== undefined) {\n",
       "      var el = document.getElementById(\"81116dc2-2164-43e7-9dfd-37a0b7b07a11\");\n",
       "      el.textContent = \"BokehJS \" + Bokeh.version + \" successfully loaded.\";\n",
       "    } else if (Date.now() < window._bokeh_timeout) {\n",
       "      setTimeout(display_loaded, 100)\n",
       "    }\n",
       "  }\n",
       "\n",
       "  function run_callbacks() {\n",
       "    try {\n",
       "      window._bokeh_onload_callbacks.forEach(function(callback) { callback() });\n",
       "    }\n",
       "    finally {\n",
       "      delete window._bokeh_onload_callbacks\n",
       "    }\n",
       "    console.info(\"Bokeh: all callbacks have finished\");\n",
       "  }\n",
       "\n",
       "  function load_libs(js_urls, callback) {\n",
       "    window._bokeh_onload_callbacks.push(callback);\n",
       "    if (window._bokeh_is_loading > 0) {\n",
       "      console.log(\"Bokeh: BokehJS is being loaded, scheduling callback at\", now());\n",
       "      return null;\n",
       "    }\n",
       "    if (js_urls == null || js_urls.length === 0) {\n",
       "      run_callbacks();\n",
       "      return null;\n",
       "    }\n",
       "    console.log(\"Bokeh: BokehJS not loaded, scheduling load and callback at\", now());\n",
       "    window._bokeh_is_loading = js_urls.length;\n",
       "    for (var i = 0; i < js_urls.length; i++) {\n",
       "      var url = js_urls[i];\n",
       "      var s = document.createElement('script');\n",
       "      s.src = url;\n",
       "      s.async = false;\n",
       "      s.onreadystatechange = s.onload = function() {\n",
       "        window._bokeh_is_loading--;\n",
       "        if (window._bokeh_is_loading === 0) {\n",
       "          console.log(\"Bokeh: all BokehJS libraries loaded\");\n",
       "          run_callbacks()\n",
       "        }\n",
       "      };\n",
       "      s.onerror = function() {\n",
       "        console.warn(\"failed to load library \" + url);\n",
       "      };\n",
       "      console.log(\"Bokeh: injecting script tag for BokehJS library: \", url);\n",
       "      document.getElementsByTagName(\"head\")[0].appendChild(s);\n",
       "    }\n",
       "  };var element = document.getElementById(\"81116dc2-2164-43e7-9dfd-37a0b7b07a11\");\n",
       "  if (element == null) {\n",
       "    console.log(\"Bokeh: ERROR: autoload.js configured with elementid '81116dc2-2164-43e7-9dfd-37a0b7b07a11' but no matching script tag was found. \")\n",
       "    return false;\n",
       "  }\n",
       "\n",
       "  var js_urls = [\"https://cdn.pydata.org/bokeh/release/bokeh-0.12.6.min.js\", \"https://cdn.pydata.org/bokeh/release/bokeh-widgets-0.12.6.min.js\"];\n",
       "\n",
       "  var inline_js = [\n",
       "    function(Bokeh) {\n",
       "      Bokeh.set_log_level(\"info\");\n",
       "    },\n",
       "    \n",
       "    function(Bokeh) {\n",
       "      \n",
       "    },\n",
       "    \n",
       "    function(Bokeh) {\n",
       "      \n",
       "      document.getElementById(\"81116dc2-2164-43e7-9dfd-37a0b7b07a11\").textContent = \"BokehJS is loading...\";\n",
       "    },\n",
       "    function(Bokeh) {\n",
       "      console.log(\"Bokeh: injecting CSS: https://cdn.pydata.org/bokeh/release/bokeh-0.12.6.min.css\");\n",
       "      Bokeh.embed.inject_css(\"https://cdn.pydata.org/bokeh/release/bokeh-0.12.6.min.css\");\n",
       "      console.log(\"Bokeh: injecting CSS: https://cdn.pydata.org/bokeh/release/bokeh-widgets-0.12.6.min.css\");\n",
       "      Bokeh.embed.inject_css(\"https://cdn.pydata.org/bokeh/release/bokeh-widgets-0.12.6.min.css\");\n",
       "    }\n",
       "  ];\n",
       "\n",
       "  function run_inline_js() {\n",
       "    \n",
       "    if ((window.Bokeh !== undefined) || (force === true)) {\n",
       "      for (var i = 0; i < inline_js.length; i++) {\n",
       "        inline_js[i](window.Bokeh);\n",
       "      }if (force === true) {\n",
       "        display_loaded();\n",
       "      }} else if (Date.now() < window._bokeh_timeout) {\n",
       "      setTimeout(run_inline_js, 100);\n",
       "    } else if (!window._bokeh_failed_load) {\n",
       "      console.log(\"Bokeh: BokehJS failed to load within specified timeout.\");\n",
       "      window._bokeh_failed_load = true;\n",
       "    } else if (force !== true) {\n",
       "      var cell = $(document.getElementById(\"81116dc2-2164-43e7-9dfd-37a0b7b07a11\")).parents('.cell').data().cell;\n",
       "      cell.output_area.append_execute_result(NB_LOAD_WARNING)\n",
       "    }\n",
       "\n",
       "  }\n",
       "\n",
       "  if (window._bokeh_is_loading === 0) {\n",
       "    console.log(\"Bokeh: BokehJS loaded, going straight to plotting\");\n",
       "    run_inline_js();\n",
       "  } else {\n",
       "    load_libs(js_urls, function() {\n",
       "      console.log(\"Bokeh: BokehJS plotting callback run at\", now());\n",
       "      run_inline_js();\n",
       "    });\n",
       "  }\n",
       "}(this));"
      ]
     },
     "metadata": {},
     "output_type": "display_data"
    }
   ],
   "source": [
    "import numpy as np\n",
    "from bokeh.io import output_notebook, show\n",
    "from bokeh.plotting import figure\n",
    "from bokeh.layouts import gridplot\n",
    "from bokeh.models import ColumnDataSource, HoverTool, CustomJS\n",
    "from bokeh.io import push_notebook\n",
    "from ipywidgets import interact\n",
    "output_notebook()"
   ]
  },
  {
   "cell_type": "code",
   "execution_count": 2,
   "metadata": {
    "collapsed": true
   },
   "outputs": [],
   "source": [
    "import pydss"
   ]
  },
  {
   "cell_type": "markdown",
   "metadata": {},
   "source": [
    "## CIGRE LV European System"
   ]
  },
  {
   "cell_type": "code",
   "execution_count": 3,
   "metadata": {
    "collapsed": false
   },
   "outputs": [
    {
     "name": "stdout",
     "output_type": "stream",
     "text": [
      "trafos 0.0002455711364746094\n"
     ]
    },
    {
     "ename": "NameError",
     "evalue": "name 'line_codes' is not defined",
     "output_type": "error",
     "traceback": [
      "\u001b[0;31m---------------------------------------------------------------------------\u001b[0m",
      "\u001b[0;31mNameError\u001b[0m                                 Traceback (most recent call last)",
      "\u001b[0;32m<ipython-input-3-f053e4085e11>\u001b[0m in \u001b[0;36m<module>\u001b[0;34m()\u001b[0m\n\u001b[1;32m      1\u001b[0m \u001b[0msys1\u001b[0m \u001b[0;34m=\u001b[0m \u001b[0mpydss\u001b[0m\u001b[0;34m.\u001b[0m\u001b[0mpydss\u001b[0m\u001b[0;34m(\u001b[0m\u001b[0;34m)\u001b[0m  \u001b[0;31m# Load data\u001b[0m\u001b[0;34m\u001b[0m\u001b[0m\n\u001b[0;32m----> 2\u001b[0;31m \u001b[0msys1\u001b[0m\u001b[0;34m.\u001b[0m\u001b[0mread\u001b[0m\u001b[0;34m(\u001b[0m\u001b[0;34m'cigre_lv.json'\u001b[0m\u001b[0;34m)\u001b[0m\u001b[0;34m\u001b[0m\u001b[0m\n\u001b[0m\u001b[1;32m      3\u001b[0m \u001b[0msys1\u001b[0m\u001b[0;34m.\u001b[0m\u001b[0mpf\u001b[0m\u001b[0;34m(\u001b[0m\u001b[0;34m)\u001b[0m                            \u001b[0;31m# execute power flow\u001b[0m\u001b[0;34m\u001b[0m\u001b[0m\n",
      "\u001b[0;32m/home/jmmauricio/Documents/public/workspace/pydss/pydss/pydss.py\u001b[0m in \u001b[0;36mread\u001b[0;34m(self, json_file)\u001b[0m\n\u001b[1;32m    239\u001b[0m                 \u001b[0mZ\u001b[0m \u001b[0;34m=\u001b[0m \u001b[0mR\u001b[0m \u001b[0;34m+\u001b[0m \u001b[0;36m1j\u001b[0m\u001b[0;34m*\u001b[0m\u001b[0mX\u001b[0m\u001b[0;34m\u001b[0m\u001b[0m\n\u001b[1;32m    240\u001b[0m                 \u001b[0mline_codes\u001b[0m\u001b[0;34m.\u001b[0m\u001b[0mupdate\u001b[0m\u001b[0;34m(\u001b[0m\u001b[0;34m{\u001b[0m\u001b[0mline_code\u001b[0m\u001b[0;34m:\u001b[0m\u001b[0mZ\u001b[0m\u001b[0;34m.\u001b[0m\u001b[0mtolist\u001b[0m\u001b[0;34m(\u001b[0m\u001b[0;34m)\u001b[0m\u001b[0;34m}\u001b[0m\u001b[0;34m)\u001b[0m\u001b[0;34m\u001b[0m\u001b[0m\n\u001b[0;32m--> 241\u001b[0;31m             \u001b[0mN_conductors\u001b[0m \u001b[0;34m=\u001b[0m \u001b[0mlen\u001b[0m\u001b[0;34m(\u001b[0m\u001b[0mline_codes\u001b[0m\u001b[0;34m[\u001b[0m\u001b[0mline\u001b[0m\u001b[0;34m[\u001b[0m\u001b[0;34m'code'\u001b[0m\u001b[0;34m]\u001b[0m\u001b[0;34m]\u001b[0m\u001b[0;34m)\u001b[0m\u001b[0;34m\u001b[0m\u001b[0m\n\u001b[0m\u001b[1;32m    242\u001b[0m             \u001b[0mA_n_cols\u001b[0m \u001b[0;34m+=\u001b[0m \u001b[0mN_conductors\u001b[0m\u001b[0;34m\u001b[0m\u001b[0m\n\u001b[1;32m    243\u001b[0m             \u001b[0;32mif\u001b[0m \u001b[0;32mnot\u001b[0m \u001b[0;34m'bus_j_nodes'\u001b[0m \u001b[0;32min\u001b[0m \u001b[0mline\u001b[0m\u001b[0;34m:\u001b[0m   \u001b[0;31m# if nodes are not declared, default nodes are created\u001b[0m\u001b[0;34m\u001b[0m\u001b[0m\n",
      "\u001b[0;31mNameError\u001b[0m: name 'line_codes' is not defined"
     ]
    }
   ],
   "source": [
    "sys1 = pydss.pydss()  # Load data\n",
    "sys1.read('cigre_lv.json')\n",
    "sys1.pf()                            # execute power flow "
   ]
  },
  {
   "cell_type": "code",
   "execution_count": null,
   "metadata": {
    "collapsed": false
   },
   "outputs": [],
   "source": [
    "sys1.get_v()      # post process voltages\n",
    "sys1.get_i()      # post process currents"
   ]
  },
  {
   "cell_type": "markdown",
   "metadata": {},
   "source": [
    "### Graph with obtained results"
   ]
  },
  {
   "cell_type": "code",
   "execution_count": null,
   "metadata": {
    "collapsed": false
   },
   "outputs": [],
   "source": [
    "sys1.bokeh_tools()\n",
    "\n",
    "p = figure(width=600, height=800,\n",
    "           title='European LV Network (CIGRE)', \n",
    "           x_range=[-200,200], y_range=[-350, 50])\n",
    "\n",
    "# lines:\n",
    "source = ColumnDataSource(sys1.line_data)\n",
    "lin = p.multi_line(source=source, xs='x_s', ys='y_s', color=\"red\", alpha=0.5, line_width=5)\n",
    "\n",
    "# buses:\n",
    "source = ColumnDataSource(sys1.bus_data)\n",
    "cr = p.circle(source=source, x='x', y='y', size=15, color=\"navy\", alpha=0.5)\n",
    "\n",
    "p.add_tools(HoverTool(renderers=[lin], tooltips=sys1.line_tooltip))\n",
    "p.add_tools(HoverTool(renderers=[cr], tooltips=sys1.bus_tooltip))\n",
    "show(p)"
   ]
  },
  {
   "cell_type": "markdown",
   "metadata": {},
   "source": [
    "### Interaction with powers"
   ]
  },
  {
   "cell_type": "code",
   "execution_count": null,
   "metadata": {
    "collapsed": false
   },
   "outputs": [],
   "source": [
    "p = figure(width=600, height=300,\n",
    "           title='Voltage vs load powers', \n",
    "           x_range = [50,-300], y_range = [180,250],\n",
    "           x_axis_label='Distance (m)',\n",
    "           y_axis_label='Voltage (V)')\n",
    "source = ColumnDataSource(sys1.bus_data)\n",
    "cr = p.circle(source=source, x='y', y='v_an', size=15, color=\"red\", alpha=0.5)\n",
    "p.circle(source=source, x='y', y='v_bn', size=15, color=\"green\", alpha=0.5)\n",
    "p.circle(source=source, x='y', y='v_cn', size=15, color=\"blue\", alpha=0.5)\n",
    "p.line([-300, 50],[231*1.05,231*1.05], color='red', line_width=5)\n",
    "p.line([-300, 50],[231*0.90,231*0.90], color='blue', line_width=5)\n",
    "#p.add_tools(HoverTool(renderers=[cr], tooltips=sys1.bus_tooltip))\n",
    "\n",
    "\n",
    "def update(load_factor=1.0):\n",
    "\n",
    "    sys1.pq_3pn = load_factor*s_0\n",
    "    sys1.pf()\n",
    "    sys1.get_v()\n",
    "    sys1.get_i()\n",
    "    sys1.bokeh_tools()\n",
    "\n",
    "    source.data = sys1.bus_data\n",
    "    push_notebook()\n",
    "\n",
    "#p_grid = gridplot([[p], [p_2]])\n",
    "show(p, notebook_handle=True)\n"
   ]
  },
  {
   "cell_type": "code",
   "execution_count": null,
   "metadata": {
    "collapsed": false
   },
   "outputs": [],
   "source": [
    "from ipywidgets import interact\n",
    "interact(update, load_factor=(-1,1.2, 0.01))"
   ]
  },
  {
   "cell_type": "markdown",
   "metadata": {
    "collapsed": true
   },
   "source": [
    "### Interaction with compensator currents"
   ]
  },
  {
   "cell_type": "code",
   "execution_count": null,
   "metadata": {
    "collapsed": false
   },
   "outputs": [],
   "source": [
    "p = figure(width=600, height=400,\n",
    "           title='Voltage with compensation', \n",
    "           x_range = [50,-300], y_range = [180,250],\n",
    "           x_axis_label='Distance (m)',\n",
    "           y_axis_label='Voltage (V)')\n",
    "source = ColumnDataSource(sys1.bus_data)\n",
    "\n",
    "i_a_0 = np.abs(sys1.I_node[28,0])\n",
    "i_b_0 = np.abs(sys1.I_node[29,0])\n",
    "i_c_0 = np.abs(sys1.I_node[30,0])\n",
    "s_0 = sys1.pq_3pn # \n",
    "\n",
    "sys1.pf()\n",
    "\n",
    "cr = p.circle(source=source, x='y', y='v_an', size=15, color=\"red\", alpha=0.5)\n",
    "p.circle(source=source, x='y', y='v_bn', size=15, color=\"green\", alpha=0.5)\n",
    "p.circle(source=source, x='y', y='v_cn', size=15, color=\"blue\", alpha=0.5)\n",
    "p.line([-300, 50],[231*1.05,231*1.05], color='red', line_width=5)\n",
    "p.line([-300, 50],[231*0.90,231*0.90], color='blue', line_width=5)\n",
    "#p.add_tools(HoverTool(renderers=[cr], tooltips=sys1.bus_tooltip))\n",
    "\n",
    "def update(i_a=0.0,i_b=0.0,i_c=0.0):\n",
    "\n",
    "    sys1.I_node[28,0] = (i_a + i_a_0)*np.exp(1j*np.angle(sys1.V_node[28,0] -np.pi/2 ))\n",
    "    sys1.I_node[29,0] = (i_b + i_b_0)*np.exp(1j*np.angle(sys1.V_node[29,0] -np.pi/2 ))\n",
    "    sys1.I_node[30,0] = (i_c + i_c_0)*np.exp(1j*np.angle(sys1.V_node[30,0] -np.pi/2 ))    \n",
    "    sys1.pf()\n",
    "    sys1.get_v()\n",
    "    sys1.get_i()\n",
    "    sys1.bokeh_tools()\n",
    "\n",
    "    source.data = sys1.bus_data\n",
    "    push_notebook()\n",
    "\n",
    "show(p, notebook_handle=True)"
   ]
  },
  {
   "cell_type": "code",
   "execution_count": null,
   "metadata": {
    "collapsed": false
   },
   "outputs": [],
   "source": [
    "interact(update, \n",
    "         i_a=(-100,100, 1),\n",
    "         i_b=(-100,100, 1),\n",
    "         i_c=(-100,100, 1))"
   ]
  },
  {
   "cell_type": "code",
   "execution_count": null,
   "metadata": {
    "collapsed": true
   },
   "outputs": [],
   "source": []
  }
 ],
 "metadata": {
  "anaconda-cloud": {},
  "kernelspec": {
   "display_name": "Python [conda root]",
   "language": "python",
   "name": "conda-root-py"
  },
  "language_info": {
   "codemirror_mode": {
    "name": "ipython",
    "version": 3
   },
   "file_extension": ".py",
   "mimetype": "text/x-python",
   "name": "python",
   "nbconvert_exporter": "python",
   "pygments_lexer": "ipython3",
   "version": "3.5.2"
  }
 },
 "nbformat": 4,
 "nbformat_minor": 1
}
