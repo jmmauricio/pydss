{
 "cells": [
  {
   "cell_type": "code",
   "execution_count": 1,
   "metadata": {
    "collapsed": false
   },
   "outputs": [
    {
     "name": "stderr",
     "output_type": "stream",
     "text": [
      "/home/jmmauricio/bin/anaconda3/lib/python3.5/site-packages/matplotlib/__init__.py:1041: UserWarning: Duplicate key in file \"/home/jmmauricio/bin/anaconda3/lib/python3.5/site-packages/matplotlib/mpl-data/stylelib/presentation.mplstyle\", line #10\n",
      "  (fname, cnt))\n",
      "/home/jmmauricio/bin/anaconda3/lib/python3.5/site-packages/matplotlib/__init__.py:1041: UserWarning: Duplicate key in file \"/home/jmmauricio/bin/anaconda3/lib/python3.5/site-packages/matplotlib/mpl-data/stylelib/presentation.mplstyle\", line #11\n",
      "  (fname, cnt))\n",
      "/home/jmmauricio/bin/anaconda3/lib/python3.5/site-packages/matplotlib/__init__.py:878: UserWarning: axes.color_cycle is deprecated and replaced with axes.prop_cycle; please use the latter.\n",
      "  warnings.warn(self.msg_depr % (key, alt_key))\n"
     ]
    }
   ],
   "source": [
    "import numpy as np\n",
    "import numba\n",
    "import matplotlib.pyplot as plt\n",
    "plt.style.use('presentation')\n",
    "%matplotlib notebook\n",
    "\n",
    "def d2np(d):\n",
    "    \n",
    "    names = []\n",
    "    numbers = ()\n",
    "    dtypes = []\n",
    "    for item in d:\n",
    "        names += item   \n",
    "        if type(d[item]) == float:\n",
    "            numbers += (d[item],)\n",
    "            dtypes += [(item,float)]\n",
    "        if type(d[item]) == np.ndarray:\n",
    "            numbers += (d[item],)\n",
    "            dtypes += [(item,np.float64,d[item].shape)]\n",
    "    return np.array([numbers],dtype=dtypes)"
   ]
  },
  {
   "cell_type": "code",
   "execution_count": 47,
   "metadata": {
    "collapsed": false
   },
   "outputs": [],
   "source": [
    "# [1] D. Ochoa and S. Martinez, \n",
    "# “Fast-Frequency Response provided by DFIG-Wind Turbines and its impact on the grid,” \n",
    "# IEEE Trans. Power Syst., vol. 8950, no. c, pp. 1–1, 2016.\n",
    "\n",
    "@numba.jit(nopython=True, cache=True)\n",
    "def wind_turbine_fit(struct):\n",
    "\n",
    "    nu_w = struct['nu_w']    # m/s\n",
    "    omega_t = struct['omega_t'] # rad/s\n",
    "    beta = struct['beta']       # deg\n",
    "\n",
    "    C_1 = struct['C_1']\n",
    "    C_2 = struct['C_2']\n",
    "    C_3 = struct['C_3']\n",
    "    C_4 = struct['C_4']\n",
    "    C_5 = struct['C_5']\n",
    "    C_6 = struct['C_6']\n",
    "    \n",
    "    #Omega_t_n = struct['Omega_t_n'] # \n",
    "    R = struct['R']\n",
    "    Rho = struct['Rho']  \n",
    "\n",
    "    lam = omega_t*R/nu_w\n",
    "    inv_lam_i = 1/(lam + 0.08 * beta) - 0.035/(beta**3 + 1)\n",
    "    c_p = C_1 * (C_2 * inv_lam_i - C_3 * beta - C_4) * np.exp(-C_5*inv_lam_i) + C_6 * lam\n",
    "    \n",
    "    p_w = 0.5*Rho*np.pi*R**2*nu_w**3*c_p\n",
    "    \n",
    "    tau_t = np.array([0.001])\n",
    "    if omega_t[0]>0.0:\n",
    "        tau_t = p_w/omega_t\n",
    "    \n",
    "                \n",
    "        \n",
    "    struct['p_w'][:] = p_w\n",
    "    struct['c_p'][:] = c_p\n",
    "    struct['lam'][:] = lam\n",
    "    struct['tau_t'][:] = tau_t\n",
    "\n",
    "    return tau_t\n",
    "\n",
    "\n",
    "@numba.jit(nopython=True, cache=True)\n",
    "def mppt_fit(struct):\n",
    "\n",
    "    omega_t = struct['omega_t'] # rad/s\n",
    "\n",
    "    C_1 = struct['C_1']\n",
    "    C_2 = struct['C_2']\n",
    "    C_3 = struct['C_3']\n",
    "    C_4 = struct['C_4']\n",
    "    C_5 = struct['C_5']\n",
    "    C_6 = struct['C_6']\n",
    "    lam_opt = struct['lam_opt']\n",
    "    beta = struct['beta']\n",
    "    \n",
    "    #Omega_t_n = struct['Omega_t_n'] # \n",
    "    R = struct['R']\n",
    "    Rho = struct['Rho']  \n",
    "\n",
    "    inv_lam_i = 1/(lam_opt + 0.08 * beta) - 0.035/(beta**3 + 1)\n",
    "    c_p = C_1 * (C_2 * inv_lam_i - C_3 * beta - C_4) * np.exp(-C_5*inv_lam_i) + C_6 * lam_opt\n",
    "    \n",
    "    #lam = omega_t*R/nu_w\n",
    "    nu_w = omega_t*R/lam_opt\n",
    "    p_ref = 0.5*Rho*np.pi*R**2*nu_w**3*c_p\n",
    "\n",
    "    return p_ref\n",
    "\n",
    "\n"
   ]
  },
  {
   "cell_type": "code",
   "execution_count": 48,
   "metadata": {
    "collapsed": false
   },
   "outputs": [
    {
     "data": {
      "text/plain": [
       "array([ 1264614.82238423])"
      ]
     },
     "execution_count": 48,
     "metadata": {},
     "output_type": "execute_result"
    }
   ],
   "source": [
    "N = 100\n",
    "\n",
    "#nu_w =np.linspace(0.1,15,N)\n",
    "H = 4.5\n",
    "\n",
    "# H = 0.5*J*Omega_t_n**2/S_b\n",
    "S_b = 2.0e6\n",
    "Omega_t_n = 1.5\n",
    "J_t = 2*H*S_b/Omega_t_n**2\n",
    "\n",
    "d = dict(R=50.0,\n",
    "         Rho = 1.225,\n",
    "         C_1 = 0.5176,\n",
    "         C_2 = 116.0,\n",
    "         C_3 = 0.4,\n",
    "         C_4 = 5.0,\n",
    "         C_5 = 21.0,\n",
    "         C_6 = 0.0068,\n",
    "         nu_w =10.0,\n",
    "         omega_t = 1.0,\n",
    "         beta = 0.0,\n",
    "         Omega_t_n = Omega_t_n,\n",
    "         Nu_w_n = 11.0,\n",
    "         p_w = 0.0,\n",
    "         c_p = 0.0,\n",
    "         lam = 0.0,\n",
    "         lam_opt = 8.0,\n",
    "         J_t = J_t,     \n",
    "         N_tr = 20.0,  \n",
    "         x = np.zeros((1,1)),\n",
    "         f = np.zeros((1,1)),\n",
    "         omega_r = 1.0,\n",
    "         tau_t = 10.0,\n",
    "         tau_r = 0.0,\n",
    "         Dt = 1.0e-3\n",
    "         )\n",
    " \n",
    "struct = d2np(d)\n",
    "p_w = wind_turbine_fit(struct)\n",
    "p_w"
   ]
  },
  {
   "cell_type": "code",
   "execution_count": 53,
   "metadata": {
    "collapsed": false
   },
   "outputs": [
    {
     "data": {
      "text/plain": [
       "array([ 1264614.82238423])"
      ]
     },
     "execution_count": 53,
     "metadata": {},
     "output_type": "execute_result"
    }
   ],
   "source": [
    "struct['tau_t']"
   ]
  },
  {
   "cell_type": "code",
   "execution_count": 21,
   "metadata": {
    "collapsed": false
   },
   "outputs": [
    {
     "ename": "SyntaxError",
     "evalue": "invalid syntax (<ipython-input-21-0d41cb6ae7d6>, line 35)",
     "output_type": "error",
     "traceback": [
      "\u001b[0;36m  File \u001b[0;32m\"<ipython-input-21-0d41cb6ae7d6>\"\u001b[0;36m, line \u001b[0;32m35\u001b[0m\n\u001b[0;31m    data = d2np(d)\u001b[0m\n\u001b[0m       ^\u001b[0m\n\u001b[0;31mSyntaxError\u001b[0m\u001b[0;31m:\u001b[0m invalid syntax\n"
     ]
    }
   ],
   "source": [
    "N = 100\n",
    "\n",
    "#nu_w =np.linspace(0.1,15,N)\n",
    "H = 4.5\n",
    "\n",
    "# H = 0.5*J*Omega_t_n**2/S_b\n",
    "S_b = 2.0e6\n",
    "Omega_t_n = 1.5\n",
    "J_t = 2*H*S_b/Omega_t_n**2\n",
    "\n",
    "d = dict(R=50.0,\n",
    "         Rho = 1.225,\n",
    "         C_1 = 0.5176,\n",
    "         C_2 = 116.0,\n",
    "         C_3 = 0.4,\n",
    "         C_4 = 5.0,\n",
    "         C_5 = 21.0,\n",
    "         C_6 = 0.0068,\n",
    "         nu_w =10.0,\n",
    "         omega_t = np.linspace(0,5.0,N),\n",
    "         beta = 0.0,\n",
    "         Omega_t_n = Omega_t_n,\n",
    "         Nu_w_n = 11.0,\n",
    "         p_w = np.zeros(N),\n",
    "         c_p = np.zeros(N),\n",
    "         lam = np.zeros(N),\n",
    "         lam_opt = 8.0,\n",
    "         J_t = J_t,     \n",
    "         N_tr = 20,  \n",
    "         x = np.zeros((1,1)),\n",
    "         f = np.zeros((1,1) ,\n",
    "         omega_r = 0.0,                      \n",
    "         )\n",
    " \n",
    "data = d2np(d)\n",
    "p_w = wind_turbine_fit(data)"
   ]
  },
  {
   "cell_type": "code",
   "execution_count": null,
   "metadata": {
    "collapsed": true
   },
   "outputs": [],
   "source": []
  },
  {
   "cell_type": "code",
   "execution_count": null,
   "metadata": {
    "collapsed": false
   },
   "outputs": [],
   "source": [
    "data = d2np(d)\n",
    "\n",
    "fig, axes = plt.subplots(nrows=1, ncols=1, figsize=(8, 5), sharex = True)\n",
    "betas = np.linspace(0.0,24,5)\n",
    "for beta in betas:\n",
    "    data['beta'] = beta\n",
    "    p_w = wind_turbine_fit(data)   \n",
    "    axes.plot(data[0]['lam'],data[0]['c_p'])\n",
    "#axes[1].plot(x, y_2,'.')\n",
    "\n",
    "axes.set_ylabel('$\\sf C_p ( \\lambda,\\\\beta )$')\n",
    "axes.set_xlabel('$\\sf \\lambda$')\n",
    "axes.set_ylim([0,0.5])\n",
    "axes.set_xlim([0,22])\n",
    "data[0]['c_p']\n",
    "\n",
    "fig.savefig('lam_cp.svg', bbox_inches='tight')\n"
   ]
  },
  {
   "cell_type": "code",
   "execution_count": null,
   "metadata": {
    "collapsed": false
   },
   "outputs": [],
   "source": [
    "data = d2np(d)\n",
    "plt.tight_layout()\n",
    "fig, axes = plt.subplots(nrows=1, ncols=1, figsize=(8, 5), sharex = True)\n",
    "data['beta'] = 0.0\n",
    "nu_ws = np.linspace(0.1,10,10)\n",
    "for nu_w in nu_ws:\n",
    "    data['nu_w'] = nu_w\n",
    "    p_w = wind_turbine_fit(data)   \n",
    "    axes.plot(data[0]['omega_t'],data[0]['p_w']/1e6)\n",
    "\n",
    "\n",
    "for nu_w in nu_ws:\n",
    "    data['nu_w'] = nu_w\n",
    "    p_w = wind_turbine_fit(data)   \n",
    "    axes.plot(data[0]['omega_t'],data[0]['p_w']/1e6)\n",
    "\n",
    "omega = 1\n",
    "Nu = np.linspace(2,12,50)\n",
    "omegas_opt = []\n",
    "p_ref_opt = []\n",
    "for nu in Nu:\n",
    "    data['nu_w'] = nu\n",
    "    for it in range(500):\n",
    "        data['omega_t'] = omega\n",
    "        p_ref = mppt_fit(data)  \n",
    "        wind_turbine_fit(data)  \n",
    "        p_t = data['p_w'] \n",
    "        omega += 0.0000001*(-p_ref[0] + p_t[0])/omega\n",
    "        if abs(-p_ref[0] + p_t[0][0])<0.01:\n",
    "            break\n",
    "    \n",
    "    omegas_opt += [omega[0]]\n",
    "    p_ref_opt += [p_t[0][0]] \n",
    "        \n",
    "axes.set_ylabel('$\\sf P_t$')\n",
    "axes.set_xlabel('$\\sf \\omega_t$')\n",
    "axes.set_ylim([0,2.5])\n",
    "axes.set_xlim([0,3.0])\n",
    "data[0]['c_p']\n",
    "\n",
    "fig.savefig('w_p_t.svg', bbox_inches='tight')\n",
    "axes.plot(np.array(omegas_opt),np.array(p_ref_opt)/1e6)   \n",
    "\n",
    "fig.savefig('w_p_t_mppt.svg', bbox_inches='tight')\n"
   ]
  },
  {
   "cell_type": "code",
   "execution_count": null,
   "metadata": {
    "collapsed": false
   },
   "outputs": [],
   "source": [
    "\n"
   ]
  },
  {
   "cell_type": "code",
   "execution_count": null,
   "metadata": {
    "collapsed": false
   },
   "outputs": [],
   "source": [
    "data['nu_w'] = 5.0\n",
    "for it in range(10000):\n",
    "    wecs_mech_1(data)\n",
    "    data[0]['x'] += 100.0e-3*data[0]['f'][0,0]\n",
    "print(data[0]['x'])"
   ]
  },
  {
   "cell_type": "code",
   "execution_count": null,
   "metadata": {
    "collapsed": true
   },
   "outputs": [],
   "source": [
    "@numba.jit(nopython=True, cache=True)\n",
    "def wecs_mech_1(struct):\n",
    "\n",
    "    omega_t = struct[0]['x'][0,0] # rad/s\n",
    "    tau_t = struct['tau_t']\n",
    "    tau_r = struct['tau_r']\n",
    "    \n",
    "    \n",
    "    J_t = struct['J_t']\n",
    "\n",
    "    N_tr = struct['N_tr']\n",
    "    Dt = struct['Dt']\n",
    "\n",
    "    domega_t = 1.0/J_t*(tau_t - N_tr*tau_r)\n",
    "\n",
    "    omega_r = N_tr*omega_t \n",
    "    \n",
    "    struct['f'][0,0] = domega_t\n",
    "    \n",
    "    struct['omega_r'] = omega_r\n",
    "    struct['omega_t'] = omega_t\n",
    "    p_w = wind_turbine_fit(struct)\n",
    "    \n",
    "    return omega_r\n"
   ]
  },
  {
   "cell_type": "code",
   "execution_count": null,
   "metadata": {
    "collapsed": false
   },
   "outputs": [],
   "source": [
    "data"
   ]
  },
  {
   "cell_type": "code",
   "execution_count": null,
   "metadata": {
    "collapsed": true
   },
   "outputs": [],
   "source": []
  },
  {
   "cell_type": "code",
   "execution_count": null,
   "metadata": {
    "collapsed": true
   },
   "outputs": [],
   "source": []
  }
 ],
 "metadata": {
  "anaconda-cloud": {},
  "kernelspec": {
   "display_name": "Python [conda root]",
   "language": "python",
   "name": "conda-root-py"
  },
  "language_info": {
   "codemirror_mode": {
    "name": "ipython",
    "version": 3
   },
   "file_extension": ".py",
   "mimetype": "text/x-python",
   "name": "python",
   "nbconvert_exporter": "python",
   "pygments_lexer": "ipython3",
   "version": "3.5.2"
  }
 },
 "nbformat": 4,
 "nbformat_minor": 1
}
