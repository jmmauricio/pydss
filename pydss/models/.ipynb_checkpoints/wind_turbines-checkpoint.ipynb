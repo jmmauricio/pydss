{
 "cells": [
  {
   "cell_type": "code",
   "execution_count": 1,
   "metadata": {
    "collapsed": false
   },
   "outputs": [],
   "source": [
    "import numpy as np\n",
    "import numba\n",
    "import matplotlib.pyplot as plt\n",
    "plt.style.use('presentation')\n",
    "%matplotlib notebook\n",
    "\n",
    "def d2np(d):\n",
    "    \n",
    "    names = []\n",
    "    numbers = ()\n",
    "    dtypes = []\n",
    "    for item in d:\n",
    "        names += item \n",
    "        if type(d[item]) == float:\n",
    "            numbers += (d[item],)\n",
    "            dtypes += [(item,float)]\n",
    "        if type(d[item]) == np.float64:\n",
    "            numbers += (d[item],)\n",
    "            dtypes += [(item,float)]\n",
    "        if type(d[item]) == np.ndarray:\n",
    "            numbers += (d[item],)\n",
    "            dtypes += [(item,np.float64,d[item].shape)]\n",
    "    return np.array([numbers],dtype=dtypes)"
   ]
  },
  {
   "cell_type": "code",
   "execution_count": 14,
   "metadata": {
    "collapsed": false
   },
   "outputs": [],
   "source": [
    "# [1] D. Ochoa and S. Martinez, \n",
    "# “Fast-Frequency Response provided by DFIG-Wind Turbines and its impact on the grid,” \n",
    "# IEEE Trans. Power Syst., vol. 8950, no. c, pp. 1–1, 2016.\n",
    "\n",
    "@numba.jit(nopython=True, cache=True)\n",
    "def wind_turbine_fit(struct,i,m):\n",
    "    \n",
    "    nu_w = struct[i]['nu_w']    # m/s\n",
    "    omega_t = struct[i]['omega_t'] # rad/s\n",
    "    beta = struct[i]['beta']       # deg\n",
    "\n",
    "    C_1 = struct[i]['C_1']\n",
    "    C_2 = struct[i]['C_2']\n",
    "    C_3 = struct[i]['C_3']\n",
    "    C_4 = struct[i]['C_4']\n",
    "    C_5 = struct[i]['C_5']\n",
    "    C_6 = struct[i]['C_6']\n",
    "    \n",
    "    #Omega_t_n = struct['Omega_t_n'] # \n",
    "    Radio = struct[i]['Radio']\n",
    "    Rho = struct[i]['Rho']  \n",
    "\n",
    "    lam = omega_t*Radio/nu_w\n",
    "    inv_lam_i = 1/(lam + 0.08 * beta) - 0.035/(beta**3 + 1)\n",
    "    c_p = C_1 * (C_2 * inv_lam_i - C_3 * beta - C_4) * np.exp(-C_5*inv_lam_i) + C_6 * lam\n",
    "    \n",
    "    p_w = 0.5*Rho*np.pi*Radio**2*nu_w**3*c_p\n",
    "    \n",
    "    tau_t = 0.001\n",
    "    if omega_t>0.0:\n",
    "        tau_t = p_w/omega_t\n",
    "    \n",
    "    struct[i]['p_w'] = p_w\n",
    "    struct[i]['c_p'] = c_p\n",
    "    struct[i]['lam'] = lam\n",
    "    struct[i]['tau_t'] = tau_t\n",
    "\n",
    "    return 0\n",
    "\n",
    "\n",
    "@numba.jit(nopython=True, cache=True)\n",
    "def mppt_fit(struct,i,m):\n",
    "\n",
    "    omega_t = struct[i]['omega_t'] # rad/s\n",
    "\n",
    "    C_1 = struct[i]['C_1']\n",
    "    C_2 = struct[i]['C_2']\n",
    "    C_3 = struct[i]['C_3']\n",
    "    C_4 = struct[i]['C_4']\n",
    "    C_5 = struct[i]['C_5']\n",
    "    C_6 = struct[i]['C_6']\n",
    "    lam_opt = struct[i]['lam_opt']\n",
    "    beta = struct[i]['beta']\n",
    "    \n",
    "    #Omega_t_n = struct['Omega_t_n'] # \n",
    "    Radio   = struct[i]['Radio']\n",
    "    Rho = struct[i]['Rho']  \n",
    "\n",
    "    inv_lam_i = 1/(lam_opt + 0.08 * beta) - 0.035/(beta**3 + 1)\n",
    "    c_p = C_1 * (C_2 * inv_lam_i - C_3 * beta - C_4) * np.exp(-C_5*inv_lam_i) + C_6 * lam_opt\n",
    "    \n",
    "    #lam = omega_t*R/nu_w\n",
    "    nu_w = omega_t*Radio/lam_opt\n",
    "    p_ref = 0.5*Rho*np.pi*Radio**2*nu_w**3*c_p\n",
    "\n",
    "    struct[i]['p_mppt'] = p_ref\n",
    "    return p_ref\n",
    "\n",
    "\n",
    "@numba.jit(nopython=True, cache=True)\n",
    "def wecs_mech_1(struct,i,m):\n",
    "\n",
    "    omega_t = struct[i]['x'][0,0]  # rad/s\n",
    "    tau_t   = struct[i]['tau_t']\n",
    "    tau_r   = struct[i]['tau_r']\n",
    "       \n",
    "    J_t  = struct[i]['J_t']\n",
    "    N_tr = struct[i]['N_tr']\n",
    "    Dt   = struct[i]['Dt']\n",
    "\n",
    "    domega_t = 1.0/J_t*(tau_t - N_tr*tau_r)\n",
    "\n",
    "    omega_r = N_tr*omega_t \n",
    "    \n",
    "    struct[i]['f'][:,0] = domega_t\n",
    "\n",
    "    struct[i]['omega_r'] = omega_r\n",
    "    struct[i]['omega_t'] = omega_t\n",
    "\n",
    "    return omega_t\n"
   ]
  },
  {
   "cell_type": "code",
   "execution_count": 15,
   "metadata": {
    "collapsed": true
   },
   "outputs": [],
   "source": [
    "@numba.jit(nopython=True, cache=True)\n",
    "def pitch(struct,i,m):\n",
    "    Dt  = struct[i]['Dt']\n",
    "    beta_ref  = struct[i]['beta_ref']\n",
    "    beta      = struct[i]['beta']\n",
    "    beta_rate = struct[i]['beta_rate']\n",
    "\n",
    "    if beta<beta_ref:\n",
    "        beta += beta_rate * Dt\n",
    "        \n",
    "    if beta>beta_ref:\n",
    "        beta -= beta_rate * Dt\n",
    "        \n",
    "    struct[i]['beta'] = beta\n",
    "\n",
    "    return beta"
   ]
  },
  {
   "cell_type": "code",
   "execution_count": 16,
   "metadata": {
    "collapsed": false
   },
   "outputs": [
    {
     "data": {
      "text/plain": [
       "2.3080100601373608"
      ]
     },
     "execution_count": 16,
     "metadata": {},
     "output_type": "execute_result"
    }
   ],
   "source": [
    "Radio = 50.0\n",
    "lam_opt = 8.0\n",
    "Nu_w_n = 10.0\n",
    "Omega_t_n = Nu_w_n*lam_opt/Radio*0.8\n",
    "Omega_t_max = Omega_t_n*1.25\n",
    "Omega_t_min = Omega_t_n*0.75\n",
    "beta = 0.0\n",
    "Rho = 1.225\n",
    "C_1 = 0.5176\n",
    "C_2 = 116.0\n",
    "C_3 = 0.4\n",
    "C_4 = 5.0\n",
    "C_5 = 21.0\n",
    "C_6 = 0.0068\n",
    "inv_lam_i = 1/(lam_opt + 0.08 * beta) - 0.035/(beta**3 + 1)\n",
    "c_p = C_1 * (C_2 * inv_lam_i - C_3 * beta - C_4) * np.exp(-C_5*inv_lam_i) + C_6 * lam_opt\n",
    "P_t_n = 0.5*Rho*np.pi*Radio**2*Nu_w_n**3*c_p\n",
    "P_t_n/1e6"
   ]
  },
  {
   "cell_type": "code",
   "execution_count": 17,
   "metadata": {
    "collapsed": false
   },
   "outputs": [
    {
     "data": {
      "text/plain": [
       "0.0"
      ]
     },
     "execution_count": 17,
     "metadata": {},
     "output_type": "execute_result"
    }
   ],
   "source": [
    "N = 100\n",
    "\n",
    "#nu_w =np.linspace(0.1,15,N)\n",
    "H = 4.5\n",
    "\n",
    "# H = 0.5*J*Omega_t_n**2/S_b\n",
    "S_b = 2.0e6\n",
    "Omega_t_n = 1.5\n",
    "J_t = 2*H*S_b/Omega_t_n**2\n",
    "\n",
    "\n",
    "d = dict(Radio=Radio,\n",
    "         Rho = 1.225,\n",
    "         C_1 = 0.5176,\n",
    "         C_2 = 116.0,\n",
    "         C_3 = 0.4,\n",
    "         C_4 = 5.0,\n",
    "         C_5 = 21.0,\n",
    "         C_6 = 0.0068,\n",
    "         P_t_n = P_t_n,\n",
    "         nu_w = Nu_w_n,\n",
    "         omega_t = Omega_t_n,\n",
    "         beta = 0.0,\n",
    "         Omega_t_n = Omega_t_n,\n",
    "         Omega_t_min = Omega_t_min,\n",
    "         Omega_t_max = Omega_t_max,\n",
    "         Nu_w_n = Nu_w_n,\n",
    "         p_w = 0.0,\n",
    "         c_p = 0.0,\n",
    "         lam = 0.0,\n",
    "         lam_opt = 8.0,\n",
    "         J_t = J_t,     \n",
    "         N_tr = 20.0,  \n",
    "         x = np.ones((1,1)),\n",
    "         f = np.zeros((1,1)),\n",
    "         omega_r = 1.0,\n",
    "         tau_t = 10.0,\n",
    "         tau_r = 0.0,\n",
    "         Dt = 10.0e-3,\n",
    "         p_mppt = 1.0,\n",
    "         beta_ref = 0.0,\n",
    "         beta_rate = 0.1,\n",
    "        )\n",
    " \n",
    "struct = d2np(d)\n",
    "i=0\n",
    "m=2\n",
    "wind_turbine_fit(struct,i,m)\n",
    "mppt_fit(struct,i,m)\n",
    "wecs_mech_1(struct,i,m)\n",
    "pitch(struct,i,m)"
   ]
  },
  {
   "cell_type": "code",
   "execution_count": 22,
   "metadata": {
    "collapsed": false
   },
   "outputs": [
    {
     "name": "stdout",
     "output_type": "stream",
     "text": [
      "The slowest run took 15.40 times longer than the fastest. This could mean that an intermediate result is being cached.\n",
      "100000 loops, best of 3: 2 µs per loop\n"
     ]
    }
   ],
   "source": [
    "%timeit pitch(struct,i,m)"
   ]
  },
  {
   "cell_type": "code",
   "execution_count": null,
   "metadata": {
    "collapsed": false
   },
   "outputs": [],
   "source": [
    "struct = d2np(d)\n",
    "\n",
    "fig, axes = plt.subplots(nrows=1, ncols=1, figsize=(8, 5), sharex = True)\n",
    "betas = np.linspace(0.0,24,5)\n",
    "omegas = np.linspace(0.1,3.5,100)\n",
    "for beta in betas:\n",
    "    C_p = []\n",
    "    Lam = []\n",
    "    for omega in omegas:\n",
    "        struct['beta'] = beta\n",
    "        struct['omega_t'] = omega\n",
    "        wind_turbine_fit(struct,0)\n",
    "        C_p += [float(struct['c_p'])]\n",
    "        Lam += [float(struct['lam'])]\n",
    "    axes.plot(np.array(Lam),np.array(C_p))\n",
    "    axes.set_ylabel('$\\sf C_p ( \\lambda,\\\\beta )$')\n",
    "    axes.set_xlabel('$\\sf \\lambda$')\n",
    "    axes.set_ylim([0,0.5])\n",
    "    axes.set_xlim([0,22])\n",
    "    struct[0]['c_p']\n",
    "\n",
    "fig.savefig('lam_cp.svg', bbox_inches='tight')\n"
   ]
  },
  {
   "cell_type": "code",
   "execution_count": null,
   "metadata": {
    "collapsed": false
   },
   "outputs": [],
   "source": [
    "struct = d2np(d)\n",
    "plt.tight_layout()\n",
    "fig, axes = plt.subplots(nrows=1, ncols=1, figsize=(8, 5), sharex = True)\n",
    "struct['beta'] = 0.0\n",
    "nu_ws = np.linspace(5,10,5)\n",
    "omegas = np.linspace(0.1,3.5,100)\n",
    "for nu_w in nu_ws:\n",
    "    P_w = []\n",
    "    Omega = []\n",
    "    for omega in omegas:\n",
    "        struct['nu_w'] = nu_w\n",
    "        struct['omega_t'] = omega\n",
    "        wind_turbine_fit(struct,0)\n",
    "        P_w += [float(struct['p_w'])]\n",
    "        Omega += [float(struct['omega_t'])]\n",
    "    axes.plot(Omega,np.array(P_w)/1e6)\n",
    "\n",
    "omega = 1\n",
    "Nu = np.linspace(2,12,20)\n",
    "omegas_opt = []\n",
    "p_ref_opt = []\n",
    "for nu in Nu:\n",
    "    struct['nu_w'] = nu\n",
    "    for it in range(500):\n",
    "        struct['omega_t'] = omega\n",
    "        mppt_fit(struct,0)  \n",
    "        wind_turbine_fit(struct,0)  \n",
    "        p_ref = float(struct['p_mppt'])\n",
    "        p_t = float(struct['p_w'])\n",
    "        omega += 0.0000001*(-p_ref + p_t)/omega\n",
    "        if abs(-p_ref + p_t)<0.01:\n",
    "            break\n",
    "    \n",
    "    omegas_opt += [float(struct['omega_t'])]\n",
    "    p_ref_opt += [float(struct['p_w'])] \n",
    "        \n",
    "axes.set_ylabel('$\\sf P_t$')\n",
    "axes.set_xlabel('$\\sf \\omega_t$')\n",
    "axes.set_ylim([0,2.5])\n",
    "axes.set_xlim([0,3.0])\n",
    "\n",
    "fig.savefig('w_p_t.svg', bbox_inches='tight')\n",
    "axes.plot(np.array(omegas_opt),np.array(p_ref_opt)/1e6, 'r')   \n",
    "\n",
    "fig.savefig('w_p_t_mppt.svg', bbox_inches='tight')\n"
   ]
  },
  {
   "cell_type": "markdown",
   "metadata": {},
   "source": [
    "## without MPPT"
   ]
  },
  {
   "cell_type": "code",
   "execution_count": null,
   "metadata": {
    "collapsed": false
   },
   "outputs": [],
   "source": [
    "struct = d2np(d)\n",
    "struct['nu_w'] = 5.0\n",
    "for it in range(10000):\n",
    "    wecs_mech_1(struct,0)\n",
    "    struct[0]['x'] += 100.0e-3*struct[0]['f'][0,0]\n",
    "print(struct['omega_t'])\n",
    "print(struct['p_w']/1e6)"
   ]
  },
  {
   "cell_type": "markdown",
   "metadata": {},
   "source": [
    "## with MPPT"
   ]
  },
  {
   "cell_type": "code",
   "execution_count": null,
   "metadata": {
    "collapsed": false
   },
   "outputs": [],
   "source": [
    "struct['omega_t'] = 1.0\n",
    "struct['omega_r'] = 1.0*20\n",
    "struct['nu_w'] = 8.5\n",
    "t = 0.0\n",
    "Omega_t = []\n",
    "P_w = []\n",
    "T = []\n",
    "Dt = 100.0e-3\n",
    "for it in range(500):\n",
    "    if t>10.0:\n",
    "        struct['nu_w'] = 6.0\n",
    "        \n",
    "    wecs_mech_1(struct,0)\n",
    "    mppt_fit(struct,0)  \n",
    "    struct['tau_t'] = struct['p_w']/struct['omega_t']\n",
    "    struct['tau_r'] = struct['p_mppt']/struct['omega_r']\n",
    "    wind_turbine_fit(struct,0)  \n",
    "    struct[0]['x'] += Dt*struct[0]['f'][0,0]\n",
    "    struct['omega_t'] = float(struct[0]['x'])\n",
    "    Omega_t += [float(struct['omega_t'])]\n",
    "    P_w += [float(struct['p_w'])]\n",
    "    T += [t]\n",
    "    t+= Dt\n",
    "P_w = np.array(P_w)\n",
    "print(struct['omega_t'])\n",
    "print(struct['p_w']/1e6)"
   ]
  },
  {
   "cell_type": "code",
   "execution_count": null,
   "metadata": {
    "collapsed": false
   },
   "outputs": [],
   "source": [
    "plt.tight_layout()\n",
    "fig, axes = plt.subplots(nrows=1, ncols=1, figsize=(8, 5), sharex = True)\n",
    "\n",
    "axes.plot(T,Omega_t)\n"
   ]
  },
  {
   "cell_type": "code",
   "execution_count": null,
   "metadata": {
    "collapsed": false
   },
   "outputs": [],
   "source": [
    "plt.tight_layout()\n",
    "fig, axes = plt.subplots(nrows=1, ncols=1, figsize=(8, 5), sharex = True)\n",
    "\n",
    "axes.plot(T,P_w/1e6)"
   ]
  },
  {
   "cell_type": "code",
   "execution_count": null,
   "metadata": {
    "collapsed": false
   },
   "outputs": [],
   "source": [
    "struct['beta_ref'] = 0.0\n",
    "struct['beta'] = 0.0\n",
    "for it in range(1000):\n",
    "    t = it*struct['Dt']\n",
    "    if t>0.1:\n",
    "        struct['beta_ref'] = 5.0\n",
    "        \n",
    "    pitch(struct,0)\n",
    "   # print(t, struct['beta'])"
   ]
  },
  {
   "cell_type": "code",
   "execution_count": null,
   "metadata": {
    "collapsed": false
   },
   "outputs": [],
   "source": [
    "import numpy as np \n",
    "import sympy as sym\n",
    "from ipywidgets import interact, interactive, widgets\n",
    "from IPython.display import display\n",
    "import matplotlib as mpl\n",
    "from matplotlib import pyplot as plt\n",
    "mpl.rc('animation', html='html5')\n",
    "%matplotlib notebook \n",
    "\n",
    "fig, axes = plt.subplots(nrows=1, ncols=1, figsize=(8, 5), sharex = True)\n",
    "fig.set_animated(True)\n",
    "omegas = np.linspace(0.1,3.5,300)\n",
    "p_w_line = axes.plot([], '-', ms=8) \n",
    "axes.plot([struct[0]['Omega_t_max']]*2,[-10,10], '--', ms=2, color='k') \n",
    "axes.plot([struct[0]['Omega_t_min']]*2,[-10,10], '--', ms=2, color='k') \n",
    "axes.plot([-10,10], [struct[0]['P_t_n']/1.0e6]*2, '--', ms=2, color='k') \n",
    "\n",
    "p_mppt_line = axes.plot(np.array(omegas_opt),np.array(p_ref_opt)/1e6) \n",
    "p_mppt_point = axes.plot(0.0,0.0, 'or', ms=12)\n",
    "axes.set_xlabel('$\\sf \\omega_t$')\n",
    "axes.set_ylabel('$\\sf P_t$')\n",
    "axes.grid(True)\n",
    "\n",
    "axes.set_ylim([0,2.5])\n",
    "axes.set_xlim([0,3.0])\n",
    "def update(beta,nu_w,court):\n",
    "    P_w = []\n",
    "    P_mppt =[]\n",
    "    Omega = []\n",
    "    \n",
    "    struct['nu_w'] = nu_w   \n",
    "    for omega in omegas:\n",
    "        struct['beta'] = beta \n",
    "        struct['omega_t'] = omega\n",
    "        wind_turbine_fit(struct,0)\n",
    "        P_w += [float(struct['p_w'])]\n",
    "        Omega += [float(struct['omega_t'])]\n",
    "        struct[0]['beta'] = 0.0 \n",
    "        struct[0]['omega_t'] = omega*(court)\n",
    "        mppt_fit(struct,0)\n",
    "        P_mppt +=[float(struct['p_mppt'])]\n",
    "    Omega = np.array(Omega)\n",
    "    P_w = np.array(P_w)\n",
    "    P_mppt = np.array(P_mppt)\n",
    "    sh = 20\n",
    "    idx = np.argmin(np.abs(P_w[sh:]-P_mppt[sh:]))\n",
    "    #axes.plot(Omega,np.array(P_w)/1e6)\n",
    "    p_w_line[0].set_xdata(np.array(Omega))\n",
    "    p_w_line[0].set_ydata(np.array(P_w)/1.0e6)\n",
    "    p_mppt_line[0].set_xdata(np.array(Omega))\n",
    "    p_mppt_line[0].set_ydata(np.array(P_mppt)/1.0e6)\n",
    "    print('Pt = {:2.2f} MW  speed = {:2.2f} p.u.'.format(P_w[idx+sh]/1.0e6, Omega[idx+sh]/struct[0]['Omega_t_n']))\n",
    "    p_mppt_point[0].set_xdata(Omega[idx+sh])\n",
    "    p_mppt_point[0].set_ydata(P_w[idx+sh]/1.0e6)\n",
    "    \n",
    "sld_beta  = widgets.FloatSlider(min=0,max=20,step=0.1,value=0.0, width=1000)\n",
    "sld_nu_w  = widgets.FloatSlider(min=0.1,max=20,step=0.1,value=struct['Nu_w_n'], width=1000)\n",
    "sld_court = widgets.FloatSlider(min=0.1,max=1,step=0.02,value=1, width=1000)\n",
    "\n",
    "interaction_avr = interactive(update,\n",
    "                          beta=sld_beta,\n",
    "                          nu_w=sld_nu_w,\n",
    "                          court=sld_court,\n",
    "                          continuous_update=True, width=1000) \n",
    "\n"
   ]
  },
  {
   "cell_type": "code",
   "execution_count": null,
   "metadata": {
    "collapsed": false
   },
   "outputs": [],
   "source": [
    "display(interaction_avr)"
   ]
  },
  {
   "cell_type": "code",
   "execution_count": null,
   "metadata": {
    "collapsed": true
   },
   "outputs": [],
   "source": []
  },
  {
   "cell_type": "code",
   "execution_count": null,
   "metadata": {
    "collapsed": true
   },
   "outputs": [],
   "source": []
  }
 ],
 "metadata": {
  "anaconda-cloud": {},
  "kernelspec": {
   "display_name": "Python [conda root]",
   "language": "python",
   "name": "conda-root-py"
  },
  "language_info": {
   "codemirror_mode": {
    "name": "ipython",
    "version": 3
   },
   "file_extension": ".py",
   "mimetype": "text/x-python",
   "name": "python",
   "nbconvert_exporter": "python",
   "pygments_lexer": "ipython3",
   "version": "3.5.2"
  }
 },
 "nbformat": 4,
 "nbformat_minor": 1
}
