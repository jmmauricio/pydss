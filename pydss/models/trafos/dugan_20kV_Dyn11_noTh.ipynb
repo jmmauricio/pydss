{
 "cells": [
  {
   "cell_type": "code",
   "execution_count": 16,
   "metadata": {
    "collapsed": true
   },
   "outputs": [],
   "source": [
    "import numpy as np\n",
    "\n",
    "def diag_2d(Y_prim_list):\n",
    "\n",
    "    N_cols = 0\n",
    "\n",
    "    for Y_prim in Y_prim_list:\n",
    "        N_cols += Y_prim.shape[1]\n",
    "\n",
    "    Y_prims = np.zeros((N_cols,N_cols))+0j\n",
    "\n",
    "    it = 0\n",
    "    for Y_prim in Y_prim_list:\n",
    "        N = Y_prim.shape[0] \n",
    "        Y_prims[it:(it+N),it:(it+N)] = Y_prim\n",
    "        it += N\n",
    "\n",
    "\n",
    "    return Y_prims\n",
    "\n",
    "def trafo_yprim(S_n,U_1n,U_2n,Z_cc,connection='Dyg11'):\n",
    "    '''\n",
    "    Trafo primitive as developed in: (in the paper Ynd11)\n",
    "    R. C. Dugan and S. Santoso, “An example of 3-phase transformer modeling for distribution system analysis,” \n",
    "    2003 IEEE PES Transm. Distrib. Conf. Expo. (IEEE Cat. No.03CH37495), vol. 3, pp. 1028–1032, 2003. \n",
    "    \n",
    "    '''\n",
    "\n",
    "    if connection=='Dyn11':\n",
    "        z_a = Z_cc*1.0**2/S_n*3\n",
    "        z_b = Z_cc*1.0**2/S_n*3\n",
    "        z_c = Z_cc*1.0**2/S_n*3\n",
    "        U_1 = U_1n\n",
    "        U_2 = U_2n/np.sqrt(3)\n",
    "        Z_B = np.array([[z_a, 0.0, 0.0],\n",
    "                        [0.0, z_b, 0.0],\n",
    "                        [0.0, 0.0, z_c],])                             \n",
    "        N_a = np.array([[ 1/U_1,     0],\n",
    "                         [-1/U_1,     0],\n",
    "                         [     0, 1/U_2],\n",
    "                         [     0,-1/U_2]])           \n",
    "        N_row_a = np.hstack((N_a,np.zeros((4,4))))\n",
    "        N_row_b = np.hstack((np.zeros((4,2)),N_a,np.zeros((4,2))))\n",
    "        N_row_c = np.hstack((np.zeros((4,4)),N_a))\n",
    "        \n",
    "        N = np.vstack((N_row_a,N_row_b,N_row_c))\n",
    "\n",
    "        B = np.array([[ 1, 0, 0],\n",
    "                      [-1, 0, 0],\n",
    "                      [ 0, 1, 0],\n",
    "                      [ 0,-1, 0],\n",
    "                      [ 0, 0, 1],\n",
    "                      [ 0, 0,-1]])\n",
    "    \n",
    "        Y_1 = B @ np.linalg.inv(Z_B) @ B.T\n",
    "        Y_w = N @ Y_1 @ N.T\n",
    "        A_trafo = np.zeros((7,12))\n",
    "\n",
    "        A_trafo[0,0] = 1.0\n",
    "        A_trafo[0,9] = 1.0\n",
    "        A_trafo[1,1] = 1.0\n",
    "        A_trafo[1,4] = 1.0\n",
    "        A_trafo[2,5] = 1.0\n",
    "        A_trafo[2,8] = 1.0\n",
    "\n",
    "        A_trafo[3,2] = 1.0\n",
    "        A_trafo[4,6] = 1.0\n",
    "        A_trafo[5,10] = 1.0\n",
    "        \n",
    "        A_trafo[6,3] = 1.0\n",
    "        A_trafo[6,7] = 1.0\n",
    "        A_trafo[6,11] = 1.0\n",
    "        \n",
    "        Y_prim = A_trafo @ Y_w @ A_trafo.T\n",
    "        \n",
    "    if connection=='Ynd11':\n",
    "        z_a = Z_cc*1.0**2/S_n*3\n",
    "        z_b = Z_cc*1.0**2/S_n*3\n",
    "        z_c = Z_cc*1.0**2/S_n*3\n",
    "        U_1 = U_1n/np.sqrt(3)\n",
    "        U_2 = U_2n\n",
    "        Z_B = np.array([[z_a, 0.0, 0.0],\n",
    "                        [0.0, z_b, 0.0],\n",
    "                        [0.0, 0.0, z_c],])   \n",
    "\n",
    "        B = np.array([[ 1, 0, 0],\n",
    "                      [-1, 0, 0],\n",
    "                      [ 0, 1, 0],\n",
    "                      [ 0,-1, 0],\n",
    "                      [ 0, 0, 1],\n",
    "                      [ 0, 0,-1]])\n",
    "                          \n",
    "        N_a = np.array([[ 1/U_1,     0],\n",
    "                        [-1/U_1,     0],\n",
    "                        [     0, 1/U_2],\n",
    "                        [     0,-1/U_2]])           \n",
    "        N_row_a = np.hstack((N_a,np.zeros((4,4))))\n",
    "        N_row_b = np.hstack((np.zeros((4,2)),N_a,np.zeros((4,2))))\n",
    "        N_row_c = np.hstack((np.zeros((4,4)),N_a))\n",
    "        \n",
    "        N = np.vstack((N_row_a,N_row_b,N_row_c))\n",
    "\n",
    "        Y_1 = B @ np.linalg.inv(Z_B) @ B.T\n",
    "        Y_w = N @ Y_1 @ N.T\n",
    "        A_trafo = np.zeros((7,12))\n",
    "        A_trafo[0,0] = 1.0\n",
    "        A_trafo[1,4] = 1.0\n",
    "        A_trafo[2,8] = 1.0\n",
    "        \n",
    "        A_trafo[3,1] = 1.0\n",
    "        A_trafo[3,5] = 1.0\n",
    "        A_trafo[3,9] = 1.0\n",
    "        \n",
    "        A_trafo[4,2] = 1.0\n",
    "        A_trafo[4,11] = 1.0\n",
    "        A_trafo[5,3] = 1.0\n",
    "        A_trafo[5,6] = 1.0\n",
    "        A_trafo[6,7] = 1.0\n",
    "        A_trafo[6,10] = 1.0\n",
    "        \n",
    "        \n",
    "        Y_prim = A_trafo @ Y_w @ A_trafo.T\n",
    "    \n",
    "    return Y_prim"
   ]
  },
  {
   "cell_type": "code",
   "execution_count": 17,
   "metadata": {
    "collapsed": false
   },
   "outputs": [],
   "source": [
    "Z_cc = (0.01+0.04j)\n",
    "U_1n = 20e3 \n",
    "U_2n = 400.0\n",
    "S_n = 500.0e3\n",
    "Y_trafo_prim = trafo_yprim(S_n,U_1n,U_2n,Z_cc,connection='Dyn11')\n",
    "\n"
   ]
  },
  {
   "cell_type": "code",
   "execution_count": 37,
   "metadata": {
    "collapsed": false
   },
   "outputs": [],
   "source": [
    "Y_load_prim = np.eye(3)*1./1000.0\n",
    "Y_load_prim[0,0] = 1./1000.0\n",
    "Y_dummy_prim = np.eye(3)*1.0e-12\n",
    "Y_th_prim = np.eye(3)*1e12\n",
    "#Y_load_prim[0,0] = 10.0\n",
    "#Y_load_prim[1,1] = 10.0"
   ]
  },
  {
   "cell_type": "code",
   "execution_count": 54,
   "metadata": {
    "collapsed": false
   },
   "outputs": [],
   "source": [
    "Y_prim = diag_2d([Y_dummy_prim*0,Y_trafo_prim,Y_load_prim])\n"
   ]
  },
  {
   "cell_type": "markdown",
   "metadata": {},
   "source": [
    "### Incidence Matrix"
   ]
  },
  {
   "cell_type": "code",
   "execution_count": 55,
   "metadata": {
    "collapsed": true
   },
   "outputs": [],
   "source": [
    "id_nodes = np.array(['a_1','b_1','c_1','a_2','b_2','c_2','n_2'])\n",
    "id_v = np.array(['a_1','b_1','c_1'])\n",
    "id_i = np.array(['a_2','b_2','c_2','n_2'])"
   ]
  },
  {
   "cell_type": "code",
   "execution_count": 67,
   "metadata": {
    "collapsed": false
   },
   "outputs": [],
   "source": [
    "A = np.array([\n",
    "  [ 1,   0,   0,   1,   0,   0,   0,   0,   0,   0,   0,   0,   0], # a_1  3\n",
    "  [ 0,   1,   0,   0,   1,   0,   0,   0,   0,   0,   0,   0,   0], # b_1  4\n",
    "  [ 0,   0,   1,   0,   0,   1,   0,   0,   0,   0,   0,   0,   0], # c_1  5\n",
    "  [ 0,   0,   0,   0,   0,   0,   1,   0,   0,   0,   1,   0,   0], # a_2  7\n",
    "  [ 0,   0,   0,   0,   0,   0,   0,   1,   0,   0,   0,   1,   0], # b_2  8\n",
    "  [ 0,   0,   0,   0,   0,   0,   0,   0,   1,   0,   0,   0,   1], # c_2  9\n",
    "  [ 0,   0,   0,   0,   0,   0,   0,   0,   0,   1,  -1,  -1,  -1], # n_2 10\n",
    "])\n",
    "#   dummy          trafo                              load 2  \n",
    "\n",
    "A_v = A[0:3,:]\n",
    "A_i = A[3:11,:]\n",
    "\n",
    "Y_ii = A_i @ Y_prim @ A_i.T\n",
    "Y_iv = A_i @ Y_prim @ A_v.T\n",
    "Y_vv = A_v @ Y_prim @ A_v.T\n",
    "Y_vi = A_v @ Y_prim @ A_i.T\n",
    "\n",
    "inv_Y_ii =  np.linalg.inv(Y_ii+1.0e-6)"
   ]
  },
  {
   "cell_type": "code",
   "execution_count": 68,
   "metadata": {
    "collapsed": false
   },
   "outputs": [],
   "source": [
    "V_known = np.zeros((3,1))+0j\n",
    "V_known[id_v=='a_1'] = U_1n/np.sqrt(3.0)*np.exp(0.0j)\n",
    "V_known[id_v=='b_1'] = U_1n/np.sqrt(3.0)*np.exp(2.0/3*np.pi*1j)\n",
    "V_known[id_v=='c_1'] = U_1n/np.sqrt(3.0)*np.exp(4.0/3*np.pi*1j)\n",
    "\n",
    "\n",
    "I_known = np.zeros((4,1))+0j\n",
    "I = 0.0\n",
    "phi =np.deg2rad(0.0)\n",
    "I_known[id_i=='a_1'] = I*np.exp((0.0-phi)*1j)\n",
    "I_known[id_i=='b_1'] = I*np.exp((2.0/3.0*np.pi-phi)*1j)\n",
    "I_known[id_i=='c_1'] = I*np.exp((4.0/3.0*np.pi-phi)*1j)\n",
    "I_known[id_i=='n_1'] = 0.0\n",
    "#I_known =0*np.array([1.0*np.exp(0.0j),\n",
    "#                    1.0*np.exp(2.0/3*np.pi*1j),\n",
    "#                    1.0*np.exp(4.0/3*np.pi*1j)]).reshape((9,1))"
   ]
  },
  {
   "cell_type": "code",
   "execution_count": 69,
   "metadata": {
    "collapsed": false
   },
   "outputs": [],
   "source": [
    "V_unknown = inv_Y_ii @ ( I_known - Y_iv @ V_known)\n",
    "I_unknown =Y_vv @ V_known + Y_vi @ V_unknown"
   ]
  },
  {
   "cell_type": "code",
   "execution_count": 70,
   "metadata": {
    "collapsed": false
   },
   "outputs": [
    {
     "data": {
      "text/plain": [
       "array([[ 11547.00538379    +0.j],\n",
       "       [ -5773.50269190+10000.j],\n",
       "       [ -5773.50269190-10000.j]])"
      ]
     },
     "execution_count": 70,
     "metadata": {},
     "output_type": "execute_result"
    }
   ],
   "source": [
    "V_known"
   ]
  },
  {
   "cell_type": "code",
   "execution_count": 71,
   "metadata": {
    "collapsed": false
   },
   "outputs": [
    {
     "name": "stdout",
     "output_type": "stream",
     "text": [
      "a_2 : V = 230.9394|-30.0º V\n",
      "b_2 : V = 230.9394|90.0º V\n",
      "c_2 : V = 230.9394|-150.0º V\n",
      "n_2 : V = 0.0000|0.0º V\n"
     ]
    }
   ],
   "source": [
    "for item in id_i:\n",
    "    V = V_unknown[id_i==item,0] - V_unknown[id_i=='n_2',0] \n",
    "    print(item,': V = {:2.4f}|{:2.1f}º V'.format(float(np.abs(V)), float(np.angle(V,deg=True))))"
   ]
  },
  {
   "cell_type": "code",
   "execution_count": 66,
   "metadata": {
    "collapsed": false
   },
   "outputs": [
    {
     "name": "stdout",
     "output_type": "stream",
     "text": [
      "a_1 : I = 57.7350|-0.0\n",
      "b_1 : I = 35.3472|112.0\n",
      "c_1 : I = 55.2661|-143.6\n"
     ]
    }
   ],
   "source": [
    "for item in id_v:\n",
    "    I = I_unknown[id_v==item,0]\n",
    "    print(item,': I = {:2.4f}|{:2.1f}'.format(float(np.abs(I)), float(np.angle(I,deg=True))))"
   ]
  },
  {
   "cell_type": "code",
   "execution_count": 72,
   "metadata": {
    "collapsed": false
   },
   "outputs": [
    {
     "data": {
      "text/plain": [
       "array([[  4.90196078e-03 -1.96078431e-02j,\n",
       "         -2.45098039e-03 +9.80392157e-03j,\n",
       "         -2.45098039e-03 +9.80392157e-03j,\n",
       "         -2.12261128e-01 +8.49044514e-01j,\n",
       "          0.00000000e+00 +0.00000000e+00j,\n",
       "          2.12261128e-01 -8.49044514e-01j,\n",
       "          0.00000000e+00 +0.00000000e+00j],\n",
       "       [ -2.45098039e-03 +9.80392157e-03j,\n",
       "          4.90196078e-03 -1.96078431e-02j,\n",
       "         -2.45098039e-03 +9.80392157e-03j,\n",
       "          2.12261128e-01 -8.49044514e-01j,\n",
       "         -2.12261128e-01 +8.49044514e-01j,\n",
       "          0.00000000e+00 +0.00000000e+00j,\n",
       "          0.00000000e+00 +0.00000000e+00j],\n",
       "       [ -2.45098039e-03 +9.80392157e-03j,\n",
       "         -2.45098039e-03 +9.80392157e-03j,\n",
       "          4.90196078e-03 -1.96078431e-02j,\n",
       "          0.00000000e+00 +0.00000000e+00j,\n",
       "          2.12261128e-01 -8.49044514e-01j,\n",
       "         -2.12261128e-01 +8.49044514e-01j,\n",
       "          0.00000000e+00 +0.00000000e+00j],\n",
       "       [ -2.12261128e-01 +8.49044514e-01j,\n",
       "          2.12261128e-01 -8.49044514e-01j,\n",
       "          0.00000000e+00 +0.00000000e+00j,\n",
       "          1.83823529e+01 -7.35294118e+01j,\n",
       "          0.00000000e+00 +0.00000000e+00j,\n",
       "          0.00000000e+00 +0.00000000e+00j,\n",
       "         -1.83823529e+01 +7.35294118e+01j],\n",
       "       [  0.00000000e+00 +0.00000000e+00j,\n",
       "         -2.12261128e-01 +8.49044514e-01j,\n",
       "          2.12261128e-01 -8.49044514e-01j,\n",
       "          0.00000000e+00 +0.00000000e+00j,\n",
       "          1.83823529e+01 -7.35294118e+01j,\n",
       "          0.00000000e+00 +0.00000000e+00j,\n",
       "         -1.83823529e+01 +7.35294118e+01j],\n",
       "       [  2.12261128e-01 -8.49044514e-01j,\n",
       "          0.00000000e+00 +0.00000000e+00j,\n",
       "         -2.12261128e-01 +8.49044514e-01j,\n",
       "          0.00000000e+00 +0.00000000e+00j,\n",
       "          0.00000000e+00 +0.00000000e+00j,\n",
       "          1.83823529e+01 -7.35294118e+01j,\n",
       "         -1.83823529e+01 +7.35294118e+01j],\n",
       "       [  0.00000000e+00 +0.00000000e+00j,\n",
       "          0.00000000e+00 +0.00000000e+00j,\n",
       "          0.00000000e+00 +0.00000000e+00j,\n",
       "         -1.83823529e+01 +7.35294118e+01j,\n",
       "         -1.83823529e+01 +7.35294118e+01j,\n",
       "         -1.83823529e+01 +7.35294118e+01j,\n",
       "          5.51470588e+01 -2.20588235e+02j]])"
      ]
     },
     "execution_count": 72,
     "metadata": {},
     "output_type": "execute_result"
    }
   ],
   "source": [
    "Y_trafo_prim"
   ]
  },
  {
   "cell_type": "code",
   "execution_count": null,
   "metadata": {
    "collapsed": true
   },
   "outputs": [],
   "source": []
  }
 ],
 "metadata": {
  "anaconda-cloud": {},
  "kernelspec": {
   "display_name": "Python [conda root]",
   "language": "python",
   "name": "conda-root-py"
  },
  "language_info": {
   "codemirror_mode": {
    "name": "ipython",
    "version": 3
   },
   "file_extension": ".py",
   "mimetype": "text/x-python",
   "name": "python",
   "nbconvert_exporter": "python",
   "pygments_lexer": "ipython3",
   "version": "3.5.2"
  }
 },
 "nbformat": 4,
 "nbformat_minor": 2
}
