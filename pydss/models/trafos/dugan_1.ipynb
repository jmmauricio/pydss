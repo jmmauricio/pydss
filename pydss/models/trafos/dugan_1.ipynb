{
 "cells": [
  {
   "cell_type": "code",
   "execution_count": 112,
   "metadata": {
    "collapsed": true
   },
   "outputs": [],
   "source": [
    "import numpy as np\n",
    "\n",
    "def diag_2d(Y_prim_list):\n",
    "\n",
    "    N_cols = 0\n",
    "\n",
    "    for Y_prim in Y_prim_list:\n",
    "        N_cols += Y_prim.shape[1]\n",
    "\n",
    "    Y_prims = np.zeros((N_cols,N_cols))+0j\n",
    "\n",
    "    it = 0\n",
    "    for Y_prim in Y_prim_list:\n",
    "        N = Y_prim.shape[0] \n",
    "        Y_prims[it:(it+N),it:(it+N)] = Y_prim\n",
    "        it += N\n",
    "\n",
    "\n",
    "    return Y_prims"
   ]
  },
  {
   "cell_type": "code",
   "execution_count": 85,
   "metadata": {
    "collapsed": false
   },
   "outputs": [],
   "source": [
    "z_a = 0.01*(1+6j)*1.0**2/1.5e6\n",
    "z_b = 0.01*(1+6j)*1.0**2/1.5e6\n",
    "z_c = 0.01*(1+6j)*1.0**2/1.5e6\n",
    "U_1 = 7200.0\n",
    "U_2 = 4160.0"
   ]
  },
  {
   "cell_type": "code",
   "execution_count": 86,
   "metadata": {
    "collapsed": false
   },
   "outputs": [],
   "source": [
    "Z_B = np.array([\n",
    "[z_a, 0.0, 0.0],\n",
    "[0.0, z_b, 0.0],\n",
    "[0.0, 0.0, z_c],]) "
   ]
  },
  {
   "cell_type": "code",
   "execution_count": 108,
   "metadata": {
    "collapsed": false
   },
   "outputs": [],
   "source": [
    "B = np.array([\n",
    "[ 1, 0, 0],\n",
    "[-1, 0, 0],\n",
    "[ 0, 1, 0],\n",
    "[ 0,-1, 0],\n",
    "[ 0, 0, 1],\n",
    "[ 0, 0,-1]])\n",
    "\n",
    "\n",
    "N_a = np.array([\n",
    "[ 1/U_1,     0],\n",
    "[-1/U_1,     0],\n",
    "[     0, 1/U_2],\n",
    "[     0,-1/U_2],\n",
    "])\n",
    "\n",
    "N_row_a = np.hstack((N_a,np.zeros((4,4))))\n",
    "N_row_b = np.hstack((np.zeros((4,2)),N_a,np.zeros((4,2))))\n",
    "N_row_c = np.hstack((np.zeros((4,4)),N_a))\n",
    "\n",
    "N = np.vstack((N_row_a,N_row_b,N_row_c))"
   ]
  },
  {
   "cell_type": "code",
   "execution_count": 109,
   "metadata": {
    "collapsed": false
   },
   "outputs": [],
   "source": [
    "Y_1 = B @ np.linalg.inv(Z_B) @ B.T\n",
    "Y_w = N @ Y_1 @ N.T"
   ]
  },
  {
   "cell_type": "code",
   "execution_count": 157,
   "metadata": {
    "collapsed": false
   },
   "outputs": [],
   "source": [
    "A_trafo = np.zeros((7,12))\n",
    "A_trafo[0,0] = 1.0\n",
    "A_trafo[1,4] = 1.0\n",
    "A_trafo[2,8] = 1.0\n",
    "\n",
    "A_trafo[3,1] = 1.0\n",
    "A_trafo[3,5] = 1.0\n",
    "A_trafo[3,9] = 1.0\n",
    "\n",
    "A_trafo[4,2] = 1.0\n",
    "A_trafo[4,11] = 1.0\n",
    "A_trafo[5,3] = 1.0\n",
    "A_trafo[5,6] = 1.0\n",
    "A_trafo[6,7] = 1.0\n",
    "A_trafo[6,10] = 1.0"
   ]
  },
  {
   "cell_type": "code",
   "execution_count": 201,
   "metadata": {
    "collapsed": false
   },
   "outputs": [],
   "source": [
    "Y_trafo_prim = A_trafo @ Y_w @ A_trafo.T\n",
    "Y_load_prim = np.eye(3)*1e-6\n",
    "#Y_load_prim[0,0] = 10.0\n",
    "#Y_load_prim[1,1] = 10.0"
   ]
  },
  {
   "cell_type": "code",
   "execution_count": 193,
   "metadata": {
    "collapsed": false
   },
   "outputs": [],
   "source": [
    "Y_prim = diag_2d([Y_trafo_prim,Y_load_prim])\n"
   ]
  },
  {
   "cell_type": "code",
   "execution_count": null,
   "metadata": {
    "collapsed": false
   },
   "outputs": [],
   "source": []
  },
  {
   "cell_type": "markdown",
   "metadata": {},
   "source": [
    "### Incidence Matrix"
   ]
  },
  {
   "cell_type": "code",
   "execution_count": 194,
   "metadata": {
    "collapsed": true
   },
   "outputs": [],
   "source": [
    "id_nodes = np.array(['a_1','b_1','c_1','n_1','a_2','b_2','c_2'])\n",
    "id_i = np.array(['a_2','b_2','c_2'])\n",
    "id_v = np.array(['a_1','b_1','c_1','n_1'])"
   ]
  },
  {
   "cell_type": "code",
   "execution_count": 195,
   "metadata": {
    "collapsed": false
   },
   "outputs": [],
   "source": [
    "A = np.array([\n",
    "  [ 1,   0,   0,   0,   0,   0,   0,   0,   0,   0], # a_1  0\n",
    "  [ 0,   1,   0,   0,   0,   0,   0,   0,   0,   0], # b_1  1\n",
    "  [ 0,   0,   1,   0,   0,   0,   0,   0,   0,   0], # c_1  2\n",
    "  [ 0,   0,   0,   1,   0,   0,   0,   0,   0,   0], # n_1  3\n",
    "  [ 0,   0,   0,   0,   1,   0,   0,   1,   0,   0], # a_2  4\n",
    "  [ 0,   0,   0,   0,   0,   1,   0,   0,   1,   0], # b_2  5\n",
    "  [ 0,   0,   0,   0,   0,   0,   1,   0,   0,   1], # c_2  6\n",
    "])\n",
    "# trafo                                load\n",
    "\n",
    "A_v = A[0:4,:]\n",
    "A_i = A[4:7,:]\n",
    "\n",
    "Y_ii = A_i @ Y_prim @ A_i.T\n",
    "Y_iv = A_i @ Y_prim @ A_v.T\n",
    "Y_vv = A_v @ Y_prim @ A_v.T\n",
    "Y_vi = A_v @ Y_prim @ A_i.T\n",
    "\n",
    "inv_Y_ii =  np.linalg.inv(Y_ii)"
   ]
  },
  {
   "cell_type": "code",
   "execution_count": 196,
   "metadata": {
    "collapsed": false
   },
   "outputs": [],
   "source": [
    "V_known = np.zeros((4,1))+0j\n",
    "V_known[id_v=='a_1'] = U_1*np.exp(0.0j)\n",
    "V_known[id_v=='b_1'] = U_1*np.exp(2.0/3*np.pi*1j)\n",
    "V_known[id_v=='c_1'] = U_1*np.exp(4.0/3*np.pi*1j)\n",
    "V_known[id_v=='n_1'] = 0.0\n",
    "\n",
    "I_known = np.zeros((3,1))+0j\n",
    "I = 0.0\n",
    "phi =np.deg2rad(0.0)\n",
    "I_known[id_i=='a_2'] = I*np.exp((0.0-phi)*1j)\n",
    "I_known[id_i=='b_2'] = I*np.exp((2.0/3.0*np.pi-phi)*1j)\n",
    "I_known[id_i=='c_2'] = I*np.exp((4.0/3.0*np.pi-phi)*1j)\n",
    "\n",
    "#I_known =0*np.array([1.0*np.exp(0.0j),\n",
    "#                    1.0*np.exp(2.0/3*np.pi*1j),\n",
    "#                    1.0*np.exp(4.0/3*np.pi*1j)]).reshape((9,1))"
   ]
  },
  {
   "cell_type": "code",
   "execution_count": 197,
   "metadata": {
    "collapsed": false
   },
   "outputs": [],
   "source": [
    "V_unknown = inv_Y_ii @ ( I_known - Y_iv @ V_known)\n",
    "I_unknown =Y_vv @ V_known + Y_vi @ V_unknown"
   ]
  },
  {
   "cell_type": "code",
   "execution_count": 198,
   "metadata": {
    "collapsed": false
   },
   "outputs": [
    {
     "data": {
      "text/plain": [
       "array([[ 7200.   +0.j        ],\n",
       "       [-3600.+6235.38290725j],\n",
       "       [-3600.-6235.38290725j],\n",
       "       [    0.   +0.j        ]])"
      ]
     },
     "execution_count": 198,
     "metadata": {},
     "output_type": "execute_result"
    }
   ],
   "source": [
    "V_known"
   ]
  },
  {
   "cell_type": "code",
   "execution_count": 199,
   "metadata": {
    "collapsed": false
   },
   "outputs": [
    {
     "name": "stdout",
     "output_type": "stream",
     "text": [
      "a_2 : V = 772.962|-59.0º V\n",
      "b_2 : V = 772.963|121.0º V\n",
      "c_2 : V = 3602.665|-90.0º V\n"
     ]
    }
   ],
   "source": [
    "for item in ['a_2','b_2','c_2']:\n",
    "    V = V_unknown[id_i==item,0] \n",
    "    print(item,': V = {:2.3f}|{:2.1f}º V'.format(float(np.abs(V)), float(np.angle(V,deg=True))))"
   ]
  },
  {
   "cell_type": "code",
   "execution_count": 200,
   "metadata": {
    "collapsed": false
   },
   "outputs": [
    {
     "name": "stdout",
     "output_type": "stream",
     "text": [
      "a_1 : I = 2977.337|-59.0\n",
      "b_1 : I = 1488.669|121.0\n",
      "c_1 : I = 1488.668|121.0\n",
      "n_1 : I = 0.000|-135.0\n"
     ]
    }
   ],
   "source": [
    "for item in ['a_1','b_1','c_1','n_1']:\n",
    "    I = I_unknown[id_v==item,0]\n",
    "    print(item,': I = {:2.3f}|{:2.1f}'.format(float(np.abs(I)), float(np.angle(I,deg=True))))"
   ]
  },
  {
   "cell_type": "code",
   "execution_count": null,
   "metadata": {
    "collapsed": false
   },
   "outputs": [],
   "source": []
  },
  {
   "cell_type": "code",
   "execution_count": null,
   "metadata": {
    "collapsed": true
   },
   "outputs": [],
   "source": []
  }
 ],
 "metadata": {
  "anaconda-cloud": {},
  "kernelspec": {
   "display_name": "Python [conda root]",
   "language": "python",
   "name": "conda-root-py"
  },
  "language_info": {
   "codemirror_mode": {
    "name": "ipython",
    "version": 3
   },
   "file_extension": ".py",
   "mimetype": "text/x-python",
   "name": "python",
   "nbconvert_exporter": "python",
   "pygments_lexer": "ipython3",
   "version": "3.5.2"
  }
 },
 "nbformat": 4,
 "nbformat_minor": 2
}
