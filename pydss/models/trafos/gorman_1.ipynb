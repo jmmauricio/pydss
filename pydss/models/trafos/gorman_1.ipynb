{
 "cells": [
  {
   "cell_type": "code",
   "execution_count": 1,
   "metadata": {
    "collapsed": true
   },
   "outputs": [],
   "source": [
    "import numpy as np"
   ]
  },
  {
   "cell_type": "code",
   "execution_count": 4,
   "metadata": {
    "collapsed": false
   },
   "outputs": [
    {
     "data": {
      "text/plain": [
       "0.6879439809296781"
      ]
     },
     "execution_count": 4,
     "metadata": {},
     "output_type": "execute_result"
    }
   ],
   "source": [
    "0.483+(1.0/0.483+1.0/0.356)**-1"
   ]
  },
  {
   "cell_type": "code",
   "execution_count": 17,
   "metadata": {
    "collapsed": false
   },
   "outputs": [],
   "source": [
    "T_i_3leg = np.array([\n",
    "[1, 1, -0.576, -0.576, -0.424, -0.424],\n",
    "[1, 1, -0.576, -0.576, -0.424, -0.424],\n",
    "[-0.576, -0.576, 1.152, 1.152, 1.152,-0.576,-0.576],\n",
    "[-0.576, -0.576, 1.152, 1.152, 1.152,-0.576,-0.576],\n",
    "[-0.424, -0.424, -0.576, -0.576, 1, 1],\n",
    "[-0.424, -0.424, -0.576, -0.576, 1, 1.]])\n",
    "\n",
    "T_i_5leg = np.array([\n",
    "[ 1.0, 1.0, -0.5, -0.5, 0.0, 0.0],\n",
    "[ 1.0, 1.0, -0.5, -0.5, 0.0, 0.0],\n",
    "[-0.5,-0.5,  1.0,  1.0,-0.5,-0.5],\n",
    "[-0.5,-0.5,  1.0,  1.0,-0.5,-0.5],\n",
    "[ 0.0, 0.0, -0.5, -0.5, 1.0, 1.0],\n",
    "[ 0.0, 0.0, -0.5, -0.5, 1.0, 1.0]])\n"
   ]
  },
  {
   "cell_type": "code",
   "execution_count": 247,
   "metadata": {
    "collapsed": true
   },
   "outputs": [],
   "source": [
    "S_n = 300.0e3\n",
    "Freq = 60.0\n",
    "Omega = 2*np.pi*Freq\n",
    "I_U_avg  = 0.911 # 5-Leg\n",
    "P_U = 2.5 # 5-Leg\n",
    "I_mag_pu = 0.02\n",
    "R_cc_pu = 0.01\n",
    "X_cc_pu = 0.1\n",
    "epsilon = np.abs(I_U_avg/I_mag_pu)\n",
    "\n",
    "P_nl_loss = 1050.0\n",
    "P_nl_loss_pu = P_nl_loss/S_n\n",
    "\n",
    "c = epsilon**2*P_nl_loss_pu/P_U\n",
    "k = np.sqrt((epsilon**2-c**2)/Omega**2)"
   ]
  },
  {
   "cell_type": "code",
   "execution_count": 248,
   "metadata": {
    "collapsed": false
   },
   "outputs": [
    {
     "data": {
      "text/plain": [
       "0.12057920284433477"
      ]
     },
     "execution_count": 248,
     "metadata": {},
     "output_type": "execute_result"
    }
   ],
   "source": [
    "k"
   ]
  },
  {
   "cell_type": "code",
   "execution_count": 401,
   "metadata": {
    "collapsed": true
   },
   "outputs": [],
   "source": [
    "Z_prim_pu = (c+k*Omega*1j)*T_i_5leg + np.eye(6)*R_cc_pu*0.5 + 1j*np.eye(6)*X_cc_pu*0.5"
   ]
  },
  {
   "cell_type": "code",
   "execution_count": 402,
   "metadata": {
    "collapsed": false
   },
   "outputs": [
    {
     "data": {
      "text/plain": [
       "array([[ 2.90972350+45.50728854j,  2.90472350+45.45728854j,\n",
       "        -1.45236175-22.72864427j, -1.45236175-22.72864427j,\n",
       "         0.00000000 +0.j        ,  0.00000000 +0.j        ],\n",
       "       [ 2.90472350+45.45728854j,  2.90972350+45.50728854j,\n",
       "        -1.45236175-22.72864427j, -1.45236175-22.72864427j,\n",
       "         0.00000000 +0.j        ,  0.00000000 +0.j        ],\n",
       "       [-1.45236175-22.72864427j, -1.45236175-22.72864427j,\n",
       "         2.90972350+45.50728854j,  2.90472350+45.45728854j,\n",
       "        -1.45236175-22.72864427j, -1.45236175-22.72864427j],\n",
       "       [-1.45236175-22.72864427j, -1.45236175-22.72864427j,\n",
       "         2.90472350+45.45728854j,  2.90972350+45.50728854j,\n",
       "        -1.45236175-22.72864427j, -1.45236175-22.72864427j],\n",
       "       [ 0.00000000 +0.j        ,  0.00000000 +0.j        ,\n",
       "        -1.45236175-22.72864427j, -1.45236175-22.72864427j,\n",
       "         2.90972350+45.50728854j,  2.90472350+45.45728854j],\n",
       "       [ 0.00000000 +0.j        ,  0.00000000 +0.j        ,\n",
       "        -1.45236175-22.72864427j, -1.45236175-22.72864427j,\n",
       "         2.90472350+45.45728854j,  2.90972350+45.50728854j]])"
      ]
     },
     "execution_count": 402,
     "metadata": {},
     "output_type": "execute_result"
    }
   ],
   "source": [
    "Z_prim_pu"
   ]
  },
  {
   "cell_type": "code",
   "execution_count": 403,
   "metadata": {
    "collapsed": false
   },
   "outputs": [],
   "source": [
    "Y_prim_pu = np.linalg.inv(Z_prim_pu)"
   ]
  },
  {
   "cell_type": "code",
   "execution_count": 404,
   "metadata": {
    "collapsed": false
   },
   "outputs": [
    {
     "data": {
      "text/plain": [
       "array([[  9.90623714e-01 -9.90919548e+00j,\n",
       "         -9.89574306e-01 +9.89278472e+00j,\n",
       "          3.49661306e-04 -5.46522171e-03j,\n",
       "          3.49661306e-04 -5.46522171e-03j,\n",
       "          1.74788307e-04 -2.73110193e-03j,\n",
       "          1.74788307e-04 -2.73110193e-03j],\n",
       "       [ -9.89574306e-01 +9.89278472e+00j,\n",
       "          9.90623714e-01 -9.90919548e+00j,\n",
       "          3.49661306e-04 -5.46522171e-03j,\n",
       "          3.49661306e-04 -5.46522171e-03j,\n",
       "          1.74788307e-04 -2.73110193e-03j,\n",
       "          1.74788307e-04 -2.73110193e-03j],\n",
       "       [  3.49661306e-04 -5.46522171e-03j,\n",
       "          3.49661306e-04 -5.46522171e-03j,\n",
       "          9.90798502e-01 -9.91192658e+00j,\n",
       "         -9.89399518e-01 +9.89005362e+00j,\n",
       "          3.49661306e-04 -5.46522171e-03j,\n",
       "          3.49661306e-04 -5.46522171e-03j],\n",
       "       [  3.49661306e-04 -5.46522171e-03j,\n",
       "          3.49661306e-04 -5.46522171e-03j,\n",
       "         -9.89399518e-01 +9.89005362e+00j,\n",
       "          9.90798502e-01 -9.91192658e+00j,\n",
       "          3.49661306e-04 -5.46522171e-03j,\n",
       "          3.49661306e-04 -5.46522171e-03j],\n",
       "       [  1.74788307e-04 -2.73110193e-03j,\n",
       "          1.74788307e-04 -2.73110193e-03j,\n",
       "          3.49661306e-04 -5.46522171e-03j,\n",
       "          3.49661306e-04 -5.46522171e-03j,\n",
       "          9.90623714e-01 -9.90919548e+00j,\n",
       "         -9.89574306e-01 +9.89278472e+00j],\n",
       "       [  1.74788307e-04 -2.73110193e-03j,\n",
       "          1.74788307e-04 -2.73110193e-03j,\n",
       "          3.49661306e-04 -5.46522171e-03j,\n",
       "          3.49661306e-04 -5.46522171e-03j,\n",
       "         -9.89574306e-01 +9.89278472e+00j,\n",
       "          9.90623714e-01 -9.90919548e+00j]])"
      ]
     },
     "execution_count": 404,
     "metadata": {},
     "output_type": "execute_result"
    }
   ],
   "source": [
    "Y_prim_pu"
   ]
  },
  {
   "cell_type": "markdown",
   "metadata": {},
   "source": [
    "### Incidence Matrix"
   ]
  },
  {
   "cell_type": "code",
   "execution_count": 554,
   "metadata": {
    "collapsed": true
   },
   "outputs": [],
   "source": [
    "id_nodes = np.array(['a_1_start',\n",
    "'a_1_end',  \n",
    "'a_2_start',\n",
    "'a_2_end' , \n",
    "'b_1_start',\n",
    "'b_1_end',  \n",
    "'b_2_start',\n",
    "'b_2_end',  \n",
    "'c_1_start',\n",
    "'c_1_end',  \n",
    "'c_2_start',\n",
    "'c_2_end'])\n"
   ]
  },
  {
   "cell_type": "code",
   "execution_count": 555,
   "metadata": {
    "collapsed": false
   },
   "outputs": [],
   "source": [
    "A_yy = np.array([\n",
    "  [ 1,   0,   0,   0,   0,   0], # a_1_start  0\n",
    "  [-1,   0,  -1,   0,  -1,   0], # a_1_end    1\n",
    "  [ 0,   1,   0,   0,   0,   0], # a_2_start  2\n",
    "  [ 0,  -1,   0,  -1,   0,  -1], # a_2_end    3\n",
    "  [ 0,   0,   1,   0,   0,   0], # b_1_start  4\n",
    "  [-1,   0,  -1,   0,  -1,   0], # b_1_end    5\n",
    "  [ 0,   0,   0,   1,   0,   0], # b_2_start  6\n",
    "  [ 0,  -1,   0,  -1,   0,  -1], # b_2_end    7\n",
    "  [ 0,   0,   0,   0,   1,   0], # c_1_start  8\n",
    "  [-1,   0,  -1,   0,  -1,   0], # c_1_end    9\n",
    "  [ 0,   0,   0,   0,   0,   1], # c_2_start  10\n",
    "  [ 0,  -1,   0,  -1,   0,  -1], # c_2_end    11 \n",
    "#  [-1,   0,  -1,   0,  -1,   0], # n_1        12\n",
    "#  [ 0,  -1,   0,  -1,   0,  -1], # n_2        13\n",
    "])\n",
    "# A_1  A_2  B_1  B_2  C_1  C_2\n",
    "\n",
    "A_v = A_yy[[0,4,8],:]\n",
    "A_i = A_yy[[1,2,3,5,6,7,9,10,11],:]"
   ]
  },
  {
   "cell_type": "code",
   "execution_count": 556,
   "metadata": {
    "collapsed": true
   },
   "outputs": [],
   "source": [
    "A_yy = np.array([\n",
    "  [ 1,   0,   0,   0,   0,   0], # a_1_start  0\n",
    "  [-1,   0,  -1,   0,  -1,   0], # a_1_end    1\n",
    "  [ 0,   1,   0,   0,   0,   0], # a_2_start  2\n",
    "  [ 0,  -1,   0,  -1,   0,  -1], # a_2_end    3\n",
    "  [ 0,   0,   1,   0,   0,   0], # b_1_start  4\n",
    "  [ 0,   0,   0,   0,   0,   0], # b_1_end    5\n",
    "  [ 0,   0,   0,   1,   0,   0], # b_2_start  6\n",
    "  [ 0,   0,   0,   0,   0,   0], # b_2_end    7\n",
    "  [ 0,   0,   0,   0,   1,   0], # c_1_start  8\n",
    "  [ 0,   0,   0,   0,   0,   0], # c_1_end    9\n",
    "  [ 0,   0,   0,   0,   0,   1], # c_2_start  10\n",
    "  [ 0,   0,   0,   0,   0,   0], # c_2_end    11 \n",
    "#  [-1,   0,  -1,   0,  -1,   0], # n_1        12\n",
    "#  [ 0,  -1,   0,  -1,   0,  -1], # n_2        13\n",
    "])\n",
    "# A_1  A_2  B_1  B_2  C_1  C_2\n",
    "\n",
    "A_v = A_yy[[0,4,8],:]\n",
    "A_i = A_yy[[1,2,3,5,6,7,9,10,11],:]"
   ]
  },
  {
   "cell_type": "code",
   "execution_count": 557,
   "metadata": {
    "collapsed": true
   },
   "outputs": [],
   "source": [
    "A_yy = np.array([\n",
    "  [ 1,   0,   0,   0,   0,   0], # a_1_start  0\n",
    "  [ 0,   1,   0,   0,   0,   0], # a_2_start  2\n",
    "  [ 0,   0,   1,   0,   0,   0], # b_1_start  4\n",
    "  [ 0,   0,   0,   1,   0,   0], # b_2_start  6\n",
    "  [ 0,   0,   0,   0,   1,   0], # c_1_start  8\n",
    "  [ 0,   0,   0,   0,   0,   1], # c_2_start  10\n",
    "#  [-1,   0,  -1,   0,  -1,   0], # n_1        12\n",
    "#  [ 0,  -1,   0,  -1,   0,  -1], # n_2        13\n",
    "])\n",
    "# A_1  A_2  B_1  B_2  C_1  C_2\n",
    "\n",
    "A_v = A_yy[[0,2,4],:]\n",
    "A_i = A_yy[[1,3,5],:]"
   ]
  },
  {
   "cell_type": "code",
   "execution_count": 558,
   "metadata": {
    "collapsed": false
   },
   "outputs": [],
   "source": [
    "A_yy = np.array([\n",
    "  [ 1,   0,   0,   0,   0,   0], # a_1_start  0\n",
    "  [-1,   0,  -1,   0,  -1,   0], # a_1_end    1\n",
    "  [ 0,   1,   0,   0,   0,   0], # a_2_start  2\n",
    "  [ 0,  -1,   0,  -1,   0,  -1], # a_2_end    3\n",
    "  [ 0,   0,   1,   0,   0,   0], # b_1_start  4\n",
    "  [ 0,   0,   0,   0,   0,   0], # b_1_end    5\n",
    "  [ 0,   0,   0,   1,   0,   0], # b_2_start  6\n",
    "  [ 0,   0,   0,   0,   0,   0], # b_2_end    7\n",
    "  [ 0,   0,   0,   0,   1,   0], # c_1_start  8\n",
    "  [ 0,   0,   0,   0,   0,   0], # c_1_end    9\n",
    "  [ 0,   0,   0,   0,   0,   1], # c_2_start  10\n",
    "  [ 0,   0,   0,   0,   0,   0], # c_2_end    11 \n",
    "#  [-1,   0,  -1,   0,  -1,   0], # n_1        12\n",
    "#  [ 0,  -1,   0,  -1,   0,  -1], # n_2        13\n",
    "])\n",
    "# A_1  A_2  B_1  B_2  C_1  C_2\n",
    "id_v = id_nodes[[0,4,8]]\n",
    "A_v = A_yy[[0,4,8],:]\n",
    "id_i = id_nodes[[1,2,3,5,6,7,9,10,11]]\n",
    "A_i = A_yy[[1,2,3,5,6,7,9,10,11],:]"
   ]
  },
  {
   "cell_type": "code",
   "execution_count": 559,
   "metadata": {
    "collapsed": false
   },
   "outputs": [
    {
     "data": {
      "text/plain": [
       "array(['a_1_end', 'a_2_start', 'a_2_end', 'b_1_end', 'b_2_start',\n",
       "       'b_2_end', 'c_1_end', 'c_2_start', 'c_2_end'], \n",
       "      dtype='<U9')"
      ]
     },
     "execution_count": 559,
     "metadata": {},
     "output_type": "execute_result"
    }
   ],
   "source": [
    "id_i"
   ]
  },
  {
   "cell_type": "code",
   "execution_count": 560,
   "metadata": {
    "collapsed": false
   },
   "outputs": [
    {
     "ename": "ValueError",
     "evalue": "shapes (12,6) and (2,2) not aligned: 6 (dim 1) != 2 (dim 0)",
     "output_type": "error",
     "traceback": [
      "\u001b[0;31m---------------------------------------------------------------------------\u001b[0m",
      "\u001b[0;31mValueError\u001b[0m                                Traceback (most recent call last)",
      "\u001b[0;32m<ipython-input-560-41ce5356b530>\u001b[0m in \u001b[0;36m<module>\u001b[0;34m()\u001b[0m\n\u001b[0;32m----> 1\u001b[0;31m \u001b[0mY_bus\u001b[0m \u001b[0;34m=\u001b[0m \u001b[0mA_yy\u001b[0m \u001b[0;34m@\u001b[0m \u001b[0mY_prim_pu\u001b[0m \u001b[0;34m@\u001b[0m \u001b[0mA_yy\u001b[0m\u001b[0;34m.\u001b[0m\u001b[0mT\u001b[0m\u001b[0;34m\u001b[0m\u001b[0m\n\u001b[0m",
      "\u001b[0;31mValueError\u001b[0m: shapes (12,6) and (2,2) not aligned: 6 (dim 1) != 2 (dim 0)"
     ]
    }
   ],
   "source": [
    "Y_bus = A_yy @ Y_prim_pu @ A_yy.T"
   ]
  },
  {
   "cell_type": "code",
   "execution_count": 561,
   "metadata": {
    "collapsed": false
   },
   "outputs": [
    {
     "ename": "ValueError",
     "evalue": "shapes (3,6) and (2,2) not aligned: 6 (dim 1) != 2 (dim 0)",
     "output_type": "error",
     "traceback": [
      "\u001b[0;31m---------------------------------------------------------------------------\u001b[0m",
      "\u001b[0;31mValueError\u001b[0m                                Traceback (most recent call last)",
      "\u001b[0;32m<ipython-input-561-08244af19d41>\u001b[0m in \u001b[0;36m<module>\u001b[0;34m()\u001b[0m\n\u001b[0;32m----> 1\u001b[0;31m \u001b[0mY_vv\u001b[0m  \u001b[0;34m=\u001b[0m \u001b[0mA_yy_v\u001b[0m \u001b[0;34m@\u001b[0m \u001b[0mY_prim_pu\u001b[0m \u001b[0;34m@\u001b[0m \u001b[0mA_yy_v\u001b[0m\u001b[0;34m.\u001b[0m\u001b[0mT\u001b[0m\u001b[0;34m\u001b[0m\u001b[0m\n\u001b[0m",
      "\u001b[0;31mValueError\u001b[0m: shapes (3,6) and (2,2) not aligned: 6 (dim 1) != 2 (dim 0)"
     ]
    }
   ],
   "source": [
    "Y_vv  = A_yy_v @ Y_prim_pu @ A_yy_v.T"
   ]
  },
  {
   "cell_type": "code",
   "execution_count": 553,
   "metadata": {
    "collapsed": false
   },
   "outputs": [
    {
     "ename": "ValueError",
     "evalue": "shapes (9,6) and (2,2) not aligned: 6 (dim 1) != 2 (dim 0)",
     "output_type": "error",
     "traceback": [
      "\u001b[0;31m---------------------------------------------------------------------------\u001b[0m",
      "\u001b[0;31mValueError\u001b[0m                                Traceback (most recent call last)",
      "\u001b[0;32m<ipython-input-553-2ee7058d4b8e>\u001b[0m in \u001b[0;36m<module>\u001b[0;34m()\u001b[0m\n\u001b[0;32m----> 1\u001b[0;31m \u001b[0mY_ii\u001b[0m \u001b[0;34m=\u001b[0m \u001b[0mA_i\u001b[0m \u001b[0;34m@\u001b[0m \u001b[0mY_prim_pu\u001b[0m \u001b[0;34m@\u001b[0m \u001b[0mA_i\u001b[0m\u001b[0;34m.\u001b[0m\u001b[0mT\u001b[0m\u001b[0;34m\u001b[0m\u001b[0m\n\u001b[0m\u001b[1;32m      2\u001b[0m \u001b[0mY_iv\u001b[0m \u001b[0;34m=\u001b[0m \u001b[0mA_i\u001b[0m \u001b[0;34m@\u001b[0m \u001b[0mY_prim_pu\u001b[0m \u001b[0;34m@\u001b[0m \u001b[0mA_v\u001b[0m\u001b[0;34m.\u001b[0m\u001b[0mT\u001b[0m\u001b[0;34m\u001b[0m\u001b[0m\n\u001b[1;32m      3\u001b[0m \u001b[0mY_vv\u001b[0m \u001b[0;34m=\u001b[0m \u001b[0mA_v\u001b[0m \u001b[0;34m@\u001b[0m \u001b[0mY_prim_pu\u001b[0m \u001b[0;34m@\u001b[0m \u001b[0mA_v\u001b[0m\u001b[0;34m.\u001b[0m\u001b[0mT\u001b[0m\u001b[0;34m\u001b[0m\u001b[0m\n\u001b[1;32m      4\u001b[0m \u001b[0mY_vi\u001b[0m \u001b[0;34m=\u001b[0m \u001b[0mA_v\u001b[0m \u001b[0;34m@\u001b[0m \u001b[0mY_prim_pu\u001b[0m \u001b[0;34m@\u001b[0m \u001b[0mA_i\u001b[0m\u001b[0;34m.\u001b[0m\u001b[0mT\u001b[0m\u001b[0;34m\u001b[0m\u001b[0m\n\u001b[1;32m      5\u001b[0m \u001b[0;34m\u001b[0m\u001b[0m\n",
      "\u001b[0;31mValueError\u001b[0m: shapes (9,6) and (2,2) not aligned: 6 (dim 1) != 2 (dim 0)"
     ]
    }
   ],
   "source": [
    "Y_ii = A_i @ Y_prim_pu @ A_i.T\n",
    "Y_iv = A_i @ Y_prim_pu @ A_v.T\n",
    "Y_vv = A_v @ Y_prim_pu @ A_v.T\n",
    "Y_vi = A_v @ Y_prim_pu @ A_i.T\n",
    "\n",
    "inv_Y_ii =  np.linalg.inv(Y_ii-np.eye(9))"
   ]
  },
  {
   "cell_type": "code",
   "execution_count": 522,
   "metadata": {
    "collapsed": false
   },
   "outputs": [],
   "source": [
    "V_known = np.array([1.0*np.exp(0.0j),\n",
    "                    1.0*np.exp(2.0/3*np.pi*1j),\n",
    "                    1.0*np.exp(4.0/3*np.pi*1j)]).reshape((3,1))\n",
    "I_known = np.zeros((9,1))+0j\n",
    "I = 0.0\n",
    "phi =np.deg2rad(0.0)\n",
    "I_known[id_i=='a_2_start'] = I*np.exp((0.0-phi)*1j)-0.5\n",
    "I_known[id_i=='b_2_start'] = I*np.exp((2.0/3.0*np.pi-phi)*1j)\n",
    "I_known[id_i=='c_2_start'] = I*np.exp((4.0/3.0*np.pi-phi)*1j)\n",
    "\n",
    "#I_known =0*np.array([1.0*np.exp(0.0j),\n",
    "#                    1.0*np.exp(2.0/3*np.pi*1j),\n",
    "#                    1.0*np.exp(4.0/3*np.pi*1j)]).reshape((9,1))"
   ]
  },
  {
   "cell_type": "code",
   "execution_count": 523,
   "metadata": {
    "collapsed": false
   },
   "outputs": [],
   "source": [
    "V_unknown = inv_Y_ii @ ( I_known - Y_iv @ V_known)\n",
    "I_unknown =Y_vv @ V_known + Y_vi @ V_unknown"
   ]
  },
  {
   "cell_type": "code",
   "execution_count": 524,
   "metadata": {
    "collapsed": false
   },
   "outputs": [
    {
     "data": {
      "text/plain": [
       "array([[ 0.0+0.j],\n",
       "       [-0.5+0.j],\n",
       "       [ 0.0+0.j],\n",
       "       [ 0.0+0.j],\n",
       "       [-0.0+0.j],\n",
       "       [ 0.0+0.j],\n",
       "       [ 0.0+0.j],\n",
       "       [ 0.0-0.j],\n",
       "       [ 0.0+0.j]])"
      ]
     },
     "execution_count": 524,
     "metadata": {},
     "output_type": "execute_result"
    }
   ],
   "source": [
    "I_known"
   ]
  },
  {
   "cell_type": "code",
   "execution_count": 525,
   "metadata": {
    "collapsed": false
   },
   "outputs": [
    {
     "name": "stdout",
     "output_type": "stream",
     "text": [
      "a_2_start : V = 12500.999|-0.0\n",
      "b_2_start : V = 12499.505|0.0\n",
      "c_2_start : V = 12499.506|-0.0\n",
      "a_1_end : V = 0.656|91.2\n",
      "a_2_end : V = 12499.990|0.0\n"
     ]
    }
   ],
   "source": [
    "for item in ['a_2_start','b_2_start','c_2_start','a_1_end','a_2_end']:\n",
    "    V = V_unknown[id_i==item,0] \n",
    "    print(item,': V = {:2.3f}|{:2.1f}'.format(float(np.abs(V)), float(np.angle(V,deg=True))))"
   ]
  },
  {
   "cell_type": "code",
   "execution_count": 526,
   "metadata": {
    "collapsed": false
   },
   "outputs": [
    {
     "name": "stdout",
     "output_type": "stream",
     "text": [
      "a_1_start : I = 0.343|-3.3\n",
      "b_1_start : I = 0.164|177.5\n",
      "c_1_start : I = 0.179|176.1\n"
     ]
    }
   ],
   "source": [
    "for item in ['a_1_start','b_1_start','c_1_start']:\n",
    "    I = I_unknown[id_v==item,0]\n",
    "    print(item,': I = {:2.3f}|{:2.1f}'.format(float(np.abs(I)), float(np.angle(I,deg=True))))"
   ]
  },
  {
   "cell_type": "code",
   "execution_count": 511,
   "metadata": {
    "collapsed": false
   },
   "outputs": [
    {
     "data": {
      "text/plain": [
       "array([[ 0.25505589],\n",
       "       [ 1.54577568],\n",
       "       [ 0.38453001],\n",
       "       [ 0.        ],\n",
       "       [ 0.82480132],\n",
       "       [ 0.        ],\n",
       "       [ 0.        ],\n",
       "       [ 0.91017243],\n",
       "       [ 0.        ]])"
      ]
     },
     "execution_count": 511,
     "metadata": {},
     "output_type": "execute_result"
    }
   ],
   "source": [
    "np.abs(V_unknown)"
   ]
  },
  {
   "cell_type": "code",
   "execution_count": 426,
   "metadata": {
    "collapsed": false
   },
   "outputs": [],
   "source": []
  },
  {
   "cell_type": "code",
   "execution_count": 427,
   "metadata": {
    "collapsed": false
   },
   "outputs": [
    {
     "data": {
      "text/plain": [
       "array([[ 5.0000974 ],\n",
       "       [ 4.99755051],\n",
       "       [ 4.992584  ]])"
      ]
     },
     "execution_count": 427,
     "metadata": {},
     "output_type": "execute_result"
    }
   ],
   "source": [
    "np.abs(I_unknown)"
   ]
  },
  {
   "cell_type": "code",
   "execution_count": 428,
   "metadata": {
    "collapsed": false
   },
   "outputs": [
    {
     "data": {
      "text/plain": [
       "array([[1, 0, 0, 0, 0, 0],\n",
       "       [0, 0, 1, 0, 0, 0],\n",
       "       [0, 0, 0, 0, 1, 0]])"
      ]
     },
     "execution_count": 428,
     "metadata": {},
     "output_type": "execute_result"
    }
   ],
   "source": [
    "A_v"
   ]
  },
  {
   "cell_type": "code",
   "execution_count": 145,
   "metadata": {
    "collapsed": false
   },
   "outputs": [
    {
     "name": "stderr",
     "output_type": "stream",
     "text": [
      "/home/jmmauricio/bin/anaconda3/lib/python3.5/site-packages/ipykernel/__main__.py:5: DeprecationWarning: This function is deprecated. Please call randint(0, 9 + 1) instead\n"
     ]
    }
   ],
   "source": [
    "import networkx as nx\n",
    "import numpy as np\n",
    "\n",
    "pos = np.random.rand(10, 2) #coordinates, (x, y) for 10 nodes\n",
    "connect = [tuple(np.random.random_integers(0, 9, size=(2))) for x in range(8)] #random connections…"
   ]
  },
  {
   "cell_type": "code",
   "execution_count": 146,
   "metadata": {
    "collapsed": false
   },
   "outputs": [
    {
     "data": {
      "text/plain": [
       "[(0, 7), (2, 4), (9, 9), (4, 4), (9, 7), (5, 5), (1, 8), (9, 0)]"
      ]
     },
     "execution_count": 146,
     "metadata": {},
     "output_type": "execute_result"
    }
   ],
   "source": [
    "connect"
   ]
  },
  {
   "cell_type": "code",
   "execution_count": 162,
   "metadata": {
    "collapsed": false
   },
   "outputs": [
    {
     "data": {
      "image/png": "[encoded data removed]",
      "text/plain": [
       "<matplotlib.figure.Figure at 0x7fc864c07b70>"
      ]
     },
     "metadata": {},
     "output_type": "display_data"
    }
   ],
   "source": [
    "import matplotlib.pyplot as plt\n",
    "import networkx as nx\n",
    "\n",
    "G = nx.Graph()\n",
    "\n",
    "\n",
    "nodes = ['a_1_start',\n",
    "'a_1_end',  \n",
    "'a_2_start',\n",
    "'a_2_end' , \n",
    "'b_1_start',\n",
    "'b_1_end',  \n",
    "'b_2_start',\n",
    "'b_2_end',  \n",
    "'c_1_start',\n",
    "'c_1_end',  \n",
    "'c_2_start',\n",
    "'c_2_end'] \n",
    "\n",
    "\n",
    "G.add_edge('a', 'b')\n",
    "G.add_edge('a', 'c')\n",
    "G.add_edge('d', 'e')\n",
    "G.add_edge('e', 'f')\n",
    "pos = nx.spring_layout(G)  # positions for all nodes\n",
    "# nodes\n",
    "nx.draw_networkx_nodes(G, pos, node_size=700)\n",
    "# edges\n",
    "nx.draw_networkx_edges(G, pos, width=6)\n",
    "# labels\n",
    "nx.draw_networkx_labels(G, pos, font_size=20, font_family='sans-serif')\n",
    "plt.axis('off')\n",
    "plt.show()"
   ]
  },
  {
   "cell_type": "code",
   "execution_count": 528,
   "metadata": {
    "collapsed": true
   },
   "outputs": [],
   "source": [
    "Z_line_prim = np.array([[3+2.7j ,0.6j, 0.6j],\n",
    "                        [0.6j, 3+2.7j, 0.6j],\n",
    "                        [0.6j, 0.6j, 3+2.7j]]\n",
    "                        )\n",
    "Y_line_prim = np.linalg.inv(Z_line_prim)\n",
    "Z_base = 22.863**2/1.0\n",
    "Y_line_prim_pu = Y_line_prim*Z_base\n",
    "\n",
    "\n",
    "Y_trafo_prim = "
   ]
  },
  {
   "cell_type": "code",
   "execution_count": 530,
   "metadata": {
    "collapsed": false
   },
   "outputs": [
    {
     "data": {
      "text/plain": [
       "array([[ 0.19044768-0.15809652j, -0.03326597-0.00149697j,\n",
       "        -0.03326597-0.00149697j],\n",
       "       [-0.03326597-0.00149697j,  0.19044768-0.15809652j,\n",
       "        -0.03326597-0.00149697j],\n",
       "       [-0.03326597-0.00149697j, -0.03326597-0.00149697j,\n",
       "         0.19044768-0.15809652j]])"
      ]
     },
     "execution_count": 530,
     "metadata": {},
     "output_type": "execute_result"
    }
   ],
   "source": [
    "Y_line_prim"
   ]
  },
  {
   "cell_type": "code",
   "execution_count": 531,
   "metadata": {
    "collapsed": true
   },
   "outputs": [],
   "source": [
    "def diag_2d(Y_prim_list):\n",
    "\n",
    "    N_cols = 0\n",
    "\n",
    "    for Y_prim in Y_prim_list:\n",
    "        N_cols += Y_prim.shape[1]\n",
    "\n",
    "    Y_prims = np.zeros((N_cols,N_cols))+0j\n",
    "\n",
    "    it = 0\n",
    "    for Y_prim in Y_prim_list:\n",
    "        N = Y_prim.shape[0] \n",
    "        Y_prims[it:(it+N),it:(it+N)] = Y_prim\n",
    "        it += N\n",
    "\n",
    "    return Y_prims"
   ]
  },
  {
   "cell_type": "code",
   "execution_count": 539,
   "metadata": {
    "collapsed": true
   },
   "outputs": [],
   "source": [
    "T_i_1ph = np.array([\n",
    "[1., 1.],\n",
    "[1., 1.]])"
   ]
  },
  {
   "cell_type": "code",
   "execution_count": 540,
   "metadata": {
    "collapsed": true
   },
   "outputs": [],
   "source": [
    "S_n = 25.0e3\n",
    "Freq = 60.0\n",
    "Omega = 2*np.pi*Freq\n",
    "I_U_avg  =1.0 # Single\n",
    "P_U = 1.0 # Single\n",
    "I_mag_pu = 0.013\n",
    "R_cc_pu = 0.011\n",
    "X_cc_pu = 0.011\n",
    "epsilon = np.abs(I_U_avg/I_mag_pu)\n",
    "\n",
    "P_nl_loss = 118.0\n",
    "P_nl_loss_pu = P_nl_loss/S_n\n",
    "\n",
    "c = epsilon**2*P_nl_loss_pu/P_U\n",
    "k = np.sqrt((epsilon**2-c**2)/Omega**2)"
   ]
  },
  {
   "cell_type": "code",
   "execution_count": 541,
   "metadata": {
    "collapsed": true
   },
   "outputs": [],
   "source": [
    "Z_prim_pu = (c+k*Omega*1j)*T_i_1ph + np.eye(2)*R_cc_pu*0.5 + 1j*np.eye(2)*X_cc_pu*0.5"
   ]
  },
  {
   "cell_type": "code",
   "execution_count": 546,
   "metadata": {
    "collapsed": true
   },
   "outputs": [],
   "source": [
    "Y_prim_pu_old = np.linalg.inv(Z_prim_pu)"
   ]
  },
  {
   "cell_type": "code",
   "execution_count": 547,
   "metadata": {
    "collapsed": false
   },
   "outputs": [],
   "source": [
    "LLN = np.array([[1.0/np.sqrt(3),0],\n",
    "                [0,1.0/2]])\n",
    "\n",
    "Y_prim_pu = 0.025/(1.0/3)*LLN @ Y_prim_pu_old @ LLN"
   ]
  },
  {
   "cell_type": "code",
   "execution_count": null,
   "metadata": {
    "collapsed": true
   },
   "outputs": [],
   "source": []
  }
 ],
 "metadata": {
  "anaconda-cloud": {},
  "kernelspec": {
   "display_name": "Python [conda root]",
   "language": "python",
   "name": "conda-root-py"
  },
  "language_info": {
   "codemirror_mode": {
    "name": "ipython",
    "version": 3
   },
   "file_extension": ".py",
   "mimetype": "text/x-python",
   "name": "python",
   "nbconvert_exporter": "python",
   "pygments_lexer": "ipython3",
   "version": "3.5.2"
  }
 },
 "nbformat": 4,
 "nbformat_minor": 2
}
