{
 "cells": [
  {
   "cell_type": "code",
   "execution_count": null,
   "metadata": {
    "collapsed": false
   },
   "outputs": [],
   "source": [
    "import pydss\n",
    "import numpy as np\n",
    "from bokeh.io import output_notebook, show\n",
    "from bokeh.plotting import figure\n",
    "from bokeh.layouts import gridplot\n",
    "from bokeh.models import ColumnDataSource, HoverTool, CustomJS\n",
    "output_notebook()\n",
    "\n",
    "sqrt2 = np.sqrt(2.0)\n",
    "sqrt3 = np.sqrt(3.0)\n",
    "pi = np.pi"
   ]
  },
  {
   "cell_type": "markdown",
   "metadata": {},
   "source": [
    "## Average model 1"
   ]
  },
  {
   "cell_type": "code",
   "execution_count": null,
   "metadata": {
    "collapsed": false
   },
   "outputs": [],
   "source": [
    "\n",
    "\n",
    "\n",
    "E = 500.0/sqrt3 # phase voltage rms\n",
    "f_e = 60.0\n",
    "R_th = 0.01\n",
    "L_th = 500.0e-6\n",
    "R_ac = 0.091\n",
    "L_ac = 9.545e-3\n",
    "R_dc = 0.0\n",
    "L_dc = 0.0\n",
    "C = 500e-6\n",
    "\n",
    "R_load = 0.1\n",
    "\n",
    "\n",
    "L_s = L_th+L_ac\n",
    "omega_e = 2*np.pi*f_e\n",
    "R_s = R_th+R_ac\n",
    "\n",
    "i_dc_av = 16.78\n",
    "v_c = 588.0\n",
    "v_dc = 400.0\n",
    "Dt = 100.0e-6\n",
    "t = 0.0\n",
    "T = []\n",
    "V_c = []\n",
    "I_dc = []\n",
    "for it in range(3000):\n",
    "    \n",
    "    t += Dt\n",
    "    #if t>0.1: v_dc = 1000.0\n",
    "    #if t>0.2: v_dc = 500.0\n",
    "        \n",
    "    T += [t]\n",
    "    V_c += [v_c]\n",
    "    I_dc += [i_dc_av]\n",
    "    \n",
    "    dv_c = 1.0/C*(i_dc_av - (v_c-v_dc)/R_load)\n",
    "    v_d = 3*sqrt3/pi*sqrt2*E - (3/pi*omega_e*L_s+R_dc)*i_dc_av\n",
    "    v_d_p = np.maximum(v_d,v_dc)\n",
    "    di_dc_av = (v_d_p  - v_c)/(2*L_s+L_dc)\n",
    "    mu_arg = (1-np.sqrt(2.0/3.0)*omega_e*L_s/(E)*i_dc_av)\n",
    "    if mu_arg > 1.0: \n",
    "        mu_arg = 1.0\n",
    "        mu = 0.0\n",
    "       \n",
    "    else: \n",
    "        mu = np.arccos(mu_arg)\n",
    "    \n",
    "    v_c += Dt*dv_c\n",
    "    i_dc_av += Dt*di_dc_av\n",
    "\n",
    "#if i_dc_av < 0.1: i_dc_av = 10\n",
    "i_qs_com = -2.0*sqrt3/pi*i_dc_av*( np.sin(mu-5*pi/6) + np.sin(5*pi/6)) - 3.0/pi*sqrt2*E/(omega_e*L_s)*(np.cos(mu)-1) +3/(4*pi)*sqrt2*E/(omega_e*L_s)*(np.cos(2*mu)-1)                             \n",
    "i_ds_com = -2.0*sqrt3/pi*i_dc_av*( np.cos(5*pi/6) - np.cos(mu-5*pi/6)) - 3.0/pi*sqrt2*E/(omega_e*L_s)*(np.sin(mu)) +3/(4*pi)*sqrt2*E/(omega_e*L_s)*(np.sin(2.0*mu) + 2*mu)                             \n",
    "i_qs_cond = -2.0*sqrt3/pi*i_dc_av*( np.sin(7*pi/6) - np.sin(mu + 5*pi/6))\n",
    "i_ds_cond = -2.0*sqrt3/pi*i_dc_av*( np.cos(mu + 5*pi/6) - np.cos(7*pi/6))\n",
    "\n",
    "i_qs = i_qs_com + i_qs_cond\n",
    "i_ds = i_ds_com + i_ds_cond\n",
    "print(mu)\n",
    "print(v_c)\n",
    "print(i_dc_av)\n",
    "print(i_qs_com)\n",
    "print(i_ds_com)\n",
    "print(i_qs_cond)\n",
    "print(i_ds_cond)\n",
    "\n",
    "i_ds = i_ds_com + i_ds_cond\n",
    "i_qs = i_qs_com + i_qs_cond\n",
    "\n",
    "\n",
    "print(i_ds)\n",
    "print(i_qs)"
   ]
  },
  {
   "cell_type": "code",
   "execution_count": null,
   "metadata": {
    "collapsed": false
   },
   "outputs": [],
   "source": [
    "p = figure(width=600, height=200)\n",
    "lin = p.line(T,V_c, color=\"red\", alpha=0.5, line_width=2)\n",
    "p.add_tools(HoverTool())\n",
    "show(p)\n"
   ]
  },
  {
   "cell_type": "code",
   "execution_count": null,
   "metadata": {
    "collapsed": false
   },
   "outputs": [],
   "source": [
    "p = figure(width=600, height=200)\n",
    "lin = p.line(T,I_dc, color=\"red\", alpha=0.5, line_width=2)\n",
    "p.add_tools(HoverTool())\n",
    "show(p)"
   ]
  },
  {
   "cell_type": "code",
   "execution_count": null,
   "metadata": {
    "collapsed": false
   },
   "outputs": [],
   "source": [
    "import electric\n",
    "obj_rect = electric.rectifier_3ph()"
   ]
  },
  {
   "cell_type": "code",
   "execution_count": null,
   "metadata": {
    "collapsed": false
   },
   "outputs": [],
   "source": [
    "import numba\n",
    "V_peak = E*np.sqrt(2.0)\n",
    "\n",
    "@numba.jit(nopython=True)\n",
    "def run_eval():\n",
    "    N_steps = int(0.1e6)\n",
    "    N_states = 3\n",
    "    x = np.zeros((N_states,1))\n",
    "    f = np.zeros((N_states,1))\n",
    "    X = np.zeros((N_states,N_steps))\n",
    "    V = np.zeros((3,1),dtype=np.complex128)\n",
    "    out = np.zeros((6,N_steps))\n",
    "    #self.out_cplx = np.zeros((72,N_steps),np.complex128)\n",
    "        \n",
    "    T = np.zeros((N_steps,1))\n",
    "    \n",
    "    obj_src = electric.sourceNph()\n",
    "    obj_rect = electric.rectifier_3ph()\n",
    "    \n",
    "    obj_src.omega = omega_e\n",
    "    obj_rect.v_dc_src = v_dc\n",
    "    obj_rect.R_dc = R_load\n",
    "    obj_rect.L = L_s\n",
    "    obj_rect.R = R_s\n",
    "    obj_rect.C = C\n",
    "\n",
    "    V[0] = V_peak*np.exp(1j*np.deg2rad(0.0))   \n",
    "    V[1] = V_peak*np.exp(1j*np.deg2rad(-120.0))   \n",
    "    V[2] = V_peak*np.exp(1j*np.deg2rad(-240.0))   \n",
    "    \n",
    "    obj_src.vec = V\n",
    "    \n",
    "    dt = 10.0e-6\n",
    "    t = 0.0\n",
    "    X[:,0] = x[:,0]\n",
    "    T[0,0] = t\n",
    "    for it in range(1,N_steps):  \n",
    "            t += dt\n",
    "        \n",
    "            obj_rect.x = x\n",
    "            obj_rect.v_s_abc = obj_src.h_eval(t)\n",
    " \n",
    "          \n",
    "            f[0:4] = obj_rect.f_eval(t) \n",
    "\n",
    "            x = x + dt*f\n",
    "            \n",
    "            X[:,it] = x[:,0]\n",
    "            out[0:3,it] =obj_rect.i_abc[:,0]\n",
    "            out[3:6,it] =obj_rect.v_s_abc[:,0]\n",
    "            T[it,0] = t\n",
    "            \n",
    "    return T,X,out"
   ]
  },
  {
   "cell_type": "code",
   "execution_count": null,
   "metadata": {
    "collapsed": false
   },
   "outputs": [],
   "source": [
    "%timeit run_eval()"
   ]
  },
  {
   "cell_type": "code",
   "execution_count": null,
   "metadata": {
    "collapsed": false
   },
   "outputs": [],
   "source": [
    "T,X,out = run_eval()"
   ]
  },
  {
   "cell_type": "code",
   "execution_count": null,
   "metadata": {
    "collapsed": false
   },
   "outputs": [],
   "source": [
    "fig = figure(width=600, height=300)\n",
    "decim = 10\n",
    "fig.line(T[0:-1:decim,0],out[3,0:-1:decim], line_width=1, color='red')\n",
    "fig.line(T[0:-1:decim,0],out[4,0:-1:decim], line_width=1, color='green')    \n",
    "fig.line(T[0:-1:decim,0],out[5,0:-1:decim], line_width=1, color='blue')  \n",
    "show(fig)\n",
    "\n",
    "fig = figure(width=600, height=300)\n",
    "decim = 10\n",
    "fig.line(T[0:-1:decim,0],out[0,0:-1:decim], line_width=1, color='red')\n",
    "fig.line(T[0:-1:decim,0],out[1,0:-1:decim], line_width=1, color='green')    \n",
    "fig.line(T[0:-1:decim,0],out[2,0:-1:decim], line_width=1, color='blue')  \n",
    "show(fig)\n",
    "\n",
    "fig = figure(width=600, height=300)\n",
    "decim = 10\n",
    "fig.line(T[0:-1:decim,0],X[2,0:-1:decim], line_width=1, color='red')\n",
    "show(fig)"
   ]
  },
  {
   "cell_type": "code",
   "execution_count": null,
   "metadata": {
    "collapsed": true
   },
   "outputs": [],
   "source": [
    "import ctrl\n",
    "\n",
    "@numba.jit(nopython=True)\n",
    "def park_full(T,abc):\n",
    "    dq0 = np.copy(abc)\n",
    "    for it in range(T.shape[0]-1):\n",
    "        dq0[0:3,it] = ctrl.park(abc[0:3,it],omega_e*T[it,0])\n",
    "    return dq0\n",
    "        \n",
    "        "
   ]
  },
  {
   "cell_type": "code",
   "execution_count": null,
   "metadata": {
    "collapsed": false
   },
   "outputs": [],
   "source": [
    "%timeit park_full(T,out)"
   ]
  },
  {
   "cell_type": "code",
   "execution_count": null,
   "metadata": {
    "collapsed": false
   },
   "outputs": [],
   "source": [
    "I_dq0 = park_full(T,out)"
   ]
  },
  {
   "cell_type": "code",
   "execution_count": null,
   "metadata": {
    "collapsed": false
   },
   "outputs": [],
   "source": [
    "fig = figure(width=600, height=300)\n",
    "decim = 10\n",
    "fig.line(T[0:-1:decim,0],I_dq0[0,0:-1:decim], line_width=1, color='red')\n",
    "fig.line(T[0:-1:decim,0],I_dq0[1,0:-1:decim], line_width=1, color='green')    \n",
    "fig.line(T[0:-1:decim,0],I_dq0[2,0:-1:decim], line_width=1, color='blue')  \n",
    "fig.line([T[0,0],T[-1,0]],[i_ds,i_ds], line_width=1, color='blue') \n",
    "fig.line([T[0,0],T[-1,0]],[i_qs,i_qs], line_width=1, color='blue') \n",
    "show(fig)"
   ]
  },
  {
   "cell_type": "code",
   "execution_count": null,
   "metadata": {
    "collapsed": true
   },
   "outputs": [],
   "source": []
  }
 ],
 "metadata": {
  "anaconda-cloud": {},
  "kernelspec": {
   "display_name": "Python [default]",
   "language": "python",
   "name": "python3"
  },
  "language_info": {
   "codemirror_mode": {
    "name": "ipython",
    "version": 3
   },
   "file_extension": ".py",
   "mimetype": "text/x-python",
   "name": "python",
   "nbconvert_exporter": "python",
   "pygments_lexer": "ipython3",
   "version": "3.5.2"
  }
 },
 "nbformat": 4,
 "nbformat_minor": 1
}
