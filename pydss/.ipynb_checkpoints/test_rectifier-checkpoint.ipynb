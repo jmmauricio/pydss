{
 "cells": [
  {
   "cell_type": "code",
   "execution_count": null,
   "metadata": {
    "collapsed": false
   },
   "outputs": [],
   "source": [
    "import numpy as np\n",
    "import numba\n",
    "from bokeh.io import output_notebook, show\n",
    "from bokeh.plotting import figure\n",
    "from bokeh.layouts import gridplot\n",
    "from bokeh.models import ColumnDataSource, HoverTool, CustomJS\n",
    "output_notebook()\n"
   ]
  },
  {
   "cell_type": "code",
   "execution_count": null,
   "metadata": {
    "collapsed": true
   },
   "outputs": [],
   "source": [
    "import electric"
   ]
  },
  {
   "cell_type": "code",
   "execution_count": null,
   "metadata": {
    "collapsed": false
   },
   "outputs": [],
   "source": [
    "@numba.jit(nopython=True)\n",
    "def run_eval():\n",
    "    N_steps = int(0.5e6)\n",
    "    N_states = 3\n",
    "    x = np.zeros((N_states,1))\n",
    "    f = np.zeros((N_states,1))\n",
    "    X = np.zeros((N_states,N_steps))\n",
    "    V = np.zeros((3,1),dtype=np.complex128)\n",
    "    out = np.zeros((6,N_steps))\n",
    "    #self.out_cplx = np.zeros((72,N_steps),np.complex128)\n",
    "        \n",
    "    T = np.zeros((N_steps,1))\n",
    "    \n",
    "    obj_src = electric.sourceNph()\n",
    "    obj_rect = electric.rectifier_3ph()\n",
    "    \n",
    "    obj_rect.v_dc_src = 0.0\n",
    "\n",
    "    V[0] = 325*np.exp(1j*np.deg2rad(0.0))   \n",
    "    V[1] = 325*np.exp(1j*np.deg2rad(-120.0))   \n",
    "    V[2] = 0*np.exp(1j*np.deg2rad(-240.0))   \n",
    "    \n",
    "    obj_src.vec = V\n",
    "    \n",
    "    dt = 10.0e-6\n",
    "    t = 0.0\n",
    "    X[:,0] = x[:,0]\n",
    "    T[0,0] = t\n",
    "    for it in range(1,N_steps):  \n",
    "            t += dt\n",
    "        \n",
    "            obj_rect.x = x\n",
    "            obj_rect.v_s_abc = obj_src.h_eval(t)\n",
    " \n",
    "          \n",
    "            f[0:4] = obj_rect.f_eval(t) \n",
    "\n",
    "            x = x + dt*f\n",
    "            \n",
    "            X[:,it] = x[:,0]\n",
    "            out[0:3,it] =obj_rect.i_abc[:,0]\n",
    "            out[3:6,it] =obj_rect.v_s_abc[:,0]\n",
    "            T[it,0] = t\n",
    "            \n",
    "    return T,X,out\n",
    "%timeit run_eval()"
   ]
  },
  {
   "cell_type": "code",
   "execution_count": null,
   "metadata": {
    "collapsed": false
   },
   "outputs": [],
   "source": [
    "T,X,out = run_eval()"
   ]
  },
  {
   "cell_type": "code",
   "execution_count": null,
   "metadata": {
    "collapsed": false
   },
   "outputs": [],
   "source": [
    "fig = figure(width=600, height=300)\n",
    "decim = 10\n",
    "fig.line(T[0:-1:decim,0],out[3,0:-1:decim], line_width=1, color='red')\n",
    "fig.line(T[0:-1:decim,0],out[4,0:-1:decim], line_width=1, color='green')    \n",
    "fig.line(T[0:-1:decim,0],out[5,0:-1:decim], line_width=1, color='blue')  \n",
    "show(fig)\n",
    "\n",
    "fig = figure(width=600, height=300)\n",
    "decim = 10\n",
    "fig.line(T[0:-1:decim,0],out[0,0:-1:decim], line_width=1, color='red')\n",
    "fig.line(T[0:-1:decim,0],out[1,0:-1:decim], line_width=1, color='green')    \n",
    "fig.line(T[0:-1:decim,0],out[2,0:-1:decim], line_width=1, color='blue')  \n",
    "show(fig)\n",
    "\n",
    "fig = figure(width=600, height=300)\n",
    "decim = 10\n",
    "fig.line(T[0:-1:decim,0],X[2,0:-1:decim], line_width=1, color='red')\n",
    "show(fig)"
   ]
  },
  {
   "cell_type": "code",
   "execution_count": null,
   "metadata": {
    "collapsed": false
   },
   "outputs": [],
   "source": [
    "T[0:-1:decim,0]"
   ]
  },
  {
   "cell_type": "code",
   "execution_count": null,
   "metadata": {
    "collapsed": false
   },
   "outputs": [],
   "source": [
    "obj_src = electric.source3ph()"
   ]
  },
  {
   "cell_type": "code",
   "execution_count": null,
   "metadata": {
    "collapsed": false
   },
   "outputs": [],
   "source": [
    "obj_src.h_eval(00.001)"
   ]
  },
  {
   "cell_type": "code",
   "execution_count": null,
   "metadata": {
    "collapsed": true
   },
   "outputs": [],
   "source": [
    "@numba.jit(nopython=True)\n",
    "def run_eval():\n",
    "    N_steps = int(2e6)\n",
    "    N_states = 5\n",
    "    x = np.zeros((N_states,1))\n",
    "    f = np.zeros((N_states,1))\n",
    "    X = np.zeros((N_states,N_steps))\n",
    "    out = np.zeros((4,N_steps))\n",
    "    #self.out_cplx = np.zeros((72,N_steps),np.complex128)\n",
    "        \n",
    "    T = np.zeros((N_steps,1))\n",
    "    \n",
    "    obj_pmsm = electric.pmsm_rectifier()\n",
    "    \n",
    "    obj_pmsm.v_dc_src = 0.0\n",
    "       \n",
    "    dt = 5.0e-6\n",
    "    t = 0.0\n",
    "    X[:,0] = x[:,0]\n",
    "    T[0,0] = t\n",
    "    for it in range(1,N_steps):  \n",
    "            t += dt\n",
    "        \n",
    "            obj_pmsm.x = x\n",
    "            obj_pmsm.omega_r = 314/4\n",
    " \n",
    "          \n",
    "            f[0:5] = obj_pmsm.f_eval(t) \n",
    "\n",
    "            x = x + dt*f\n",
    "            \n",
    "            X[:,it] = x[:,0]\n",
    "            out[0:3,it] =obj_pmsm.v_s_abc[:,0]\n",
    "            out[3,it] =obj_pmsm.tau_r\n",
    "            T[it,0] = t\n",
    "            \n",
    "    return T,X,out"
   ]
  },
  {
   "cell_type": "code",
   "execution_count": null,
   "metadata": {
    "collapsed": false
   },
   "outputs": [],
   "source": [
    "T,X,out = run_eval()"
   ]
  },
  {
   "cell_type": "code",
   "execution_count": null,
   "metadata": {
    "collapsed": false
   },
   "outputs": [],
   "source": [
    "fig = figure(width=600, height=300)\n",
    "decim = 100\n",
    "fig.line(T[0:-1:decim,0],X[0,0:-1:decim], line_width=1, color='red')\n",
    "fig.line(T[0:-1:decim,0],X[1,0:-1:decim], line_width=1, color='green')    \n",
    "fig.line(T[0:-1:decim,0],X[2,0:-1:decim], line_width=1, color='blue')  \n",
    "show(fig)\n",
    "\n",
    "fig = figure(width=600, height=300)\n",
    "decim = 10\n",
    "fig.line(T[0:-1:decim,0],out[3,0:-1:decim], line_width=1, color='red')\n",
    "show(fig)"
   ]
  },
  {
   "cell_type": "code",
   "execution_count": null,
   "metadata": {
    "collapsed": true
   },
   "outputs": [],
   "source": []
  }
 ],
 "metadata": {
  "anaconda-cloud": {},
  "kernelspec": {
   "display_name": "Python [conda root]",
   "language": "python",
   "name": "conda-root-py"
  },
  "language_info": {
   "codemirror_mode": {
    "name": "ipython",
    "version": 3
   },
   "file_extension": ".py",
   "mimetype": "text/x-python",
   "name": "python",
   "nbconvert_exporter": "python",
   "pygments_lexer": "ipython3",
   "version": "3.5.2"
  }
 },
 "nbformat": 4,
 "nbformat_minor": 1
}
