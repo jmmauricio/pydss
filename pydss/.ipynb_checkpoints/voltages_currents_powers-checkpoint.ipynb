{
 "cells": [
  {
   "cell_type": "code",
   "execution_count": null,
   "metadata": {
    "collapsed": false
   },
   "outputs": [],
   "source": [
    "import numpy as np\n",
    "import ctrl, electric\n",
    "from bokeh.io import output_notebook, show\n",
    "from bokeh.plotting import figure\n",
    "from bokeh.layouts import gridplot\n",
    "from bokeh.models import ColumnDataSource, HoverTool, CustomJS\n",
    "output_notebook()\n"
   ]
  },
  {
   "cell_type": "code",
   "execution_count": null,
   "metadata": {
    "collapsed": true
   },
   "outputs": [],
   "source": [
    "T = np.linspace(0.0,0.04,400)"
   ]
  },
  {
   "cell_type": "markdown",
   "metadata": {},
   "source": [
    "## Balanced system"
   ]
  },
  {
   "cell_type": "code",
   "execution_count": null,
   "metadata": {
    "collapsed": true
   },
   "outputs": [],
   "source": [
    "V_peak = 400.0*np.sqrt(2.0/3.0)\n",
    "V_a = V_peak*np.exp(1j*np.deg2rad(0.0))   \n",
    "V_b = V_peak*np.exp(1j*np.deg2rad(-120.0))   \n",
    "V_c = V_peak*np.exp(1j*np.deg2rad(-240.0)) "
   ]
  },
  {
   "cell_type": "code",
   "execution_count": null,
   "metadata": {
    "collapsed": true
   },
   "outputs": [],
   "source": [
    "V_p = np.array([[V_a],[V_b],[V_c]]) # peak values\n",
    "V = V_p/np.sqrt(2.0)"
   ]
  },
  {
   "cell_type": "code",
   "execution_count": null,
   "metadata": {
    "collapsed": false
   },
   "outputs": [],
   "source": [
    "I_peak = 150.0*np.sqrt(2.0)\n",
    "pf = 1.0 # power factor\n",
    "phi = np.arccos(pf)\n",
    "I_a = I_peak*np.exp(1j*(np.deg2rad(0.0)-phi))   \n",
    "I_b = I_peak*np.exp(1j*(np.deg2rad(-120.0)-phi))  \n",
    "I_c = I_peak*np.exp(1j*(np.deg2rad(-240.0)-phi)) "
   ]
  },
  {
   "cell_type": "code",
   "execution_count": null,
   "metadata": {
    "collapsed": true
   },
   "outputs": [],
   "source": [
    "I_p = np.array([[I_a],[I_b],[I_c]]) # peak values\n",
    "I = I_p/np.sqrt(2.0)"
   ]
  },
  {
   "cell_type": "code",
   "execution_count": null,
   "metadata": {
    "collapsed": false
   },
   "outputs": [],
   "source": [
    "v_abc = electric.ph2inst(V_p,T)\n",
    "i_abc = electric.ph2inst(I_p,T)"
   ]
  },
  {
   "cell_type": "code",
   "execution_count": null,
   "metadata": {
    "collapsed": false
   },
   "outputs": [],
   "source": [
    "fig = figure(width=600, height=300)\n",
    "decim = 1\n",
    "fig.line(T[0:-1:decim],v_abc[0,0:-1:decim], line_width=1, color='red')\n",
    "fig.line(T[0:-1:decim],v_abc[1,0:-1:decim], line_width=1, color='green')    \n",
    "fig.line(T[0:-1:decim],v_abc[2,0:-1:decim], line_width=1, color='blue')  \n",
    "\n",
    "fig.line(T[0:-1:decim],i_abc[0,0:-1:decim], line_width=1, color='red')\n",
    "fig.line(T[0:-1:decim],i_abc[1,0:-1:decim], line_width=1, color='green')    \n",
    "fig.line(T[0:-1:decim],i_abc[2,0:-1:decim], line_width=1, color='blue')\n",
    "\n",
    "show(fig)"
   ]
  },
  {
   "cell_type": "code",
   "execution_count": null,
   "metadata": {
    "collapsed": false
   },
   "outputs": [],
   "source": [
    "p = v_abc*i_abc\n",
    "p_total = np.sum(p,axis=0)"
   ]
  },
  {
   "cell_type": "code",
   "execution_count": null,
   "metadata": {
    "collapsed": false
   },
   "outputs": [],
   "source": [
    "fig = figure(width=600, height=300)\n",
    "fig.line(T,p[0]/1000, line_width=2, color='red')\n",
    "fig.line(T,p[1]/1000, line_width=2, color='green')    \n",
    "fig.line(T,p[2]/1000, line_width=2, color='blue')  \n",
    "fig.line(T,p_total/1000, line_width=2, color='magenta')\n",
    "show(fig)"
   ]
  },
  {
   "cell_type": "code",
   "execution_count": null,
   "metadata": {
    "collapsed": false
   },
   "outputs": [],
   "source": [
    "S_3ph = V*np.conj(I)\n",
    "P_3ph = S_3ph.real\n",
    "Q_3ph = S_3ph.imag"
   ]
  },
  {
   "cell_type": "code",
   "execution_count": null,
   "metadata": {
    "collapsed": false
   },
   "outputs": [],
   "source": [
    "np.sum(S_3ph)"
   ]
  },
  {
   "cell_type": "code",
   "execution_count": null,
   "metadata": {
    "collapsed": false
   },
   "outputs": [],
   "source": [
    "S_3ph"
   ]
  },
  {
   "cell_type": "code",
   "execution_count": null,
   "metadata": {
    "collapsed": false
   },
   "outputs": [],
   "source": [
    "P_3ph"
   ]
  },
  {
   "cell_type": "markdown",
   "metadata": {},
   "source": [
    "## Unbalanced currents"
   ]
  },
  {
   "cell_type": "code",
   "execution_count": null,
   "metadata": {
    "collapsed": true
   },
   "outputs": [],
   "source": [
    "T = np.linspace(0.0,0.04,4000)"
   ]
  },
  {
   "cell_type": "code",
   "execution_count": null,
   "metadata": {
    "collapsed": true
   },
   "outputs": [],
   "source": [
    "# https://en.wikipedia.org/wiki/Symmetrical_components\n",
    "alpha = np.exp(1j*2.0/3.0*np.pi)\n",
    "\n",
    "fortescue  = np.array([[1,1,1],[1,alpha**2,alpha],[1,alpha,alpha**2]])\n",
    "ifortescue = 1.0/3.0*np.array([[1,1,1],[1,alpha,alpha**2],[1,alpha**2,alpha]])"
   ]
  },
  {
   "cell_type": "code",
   "execution_count": null,
   "metadata": {
    "collapsed": true
   },
   "outputs": [],
   "source": [
    "I_peak = 150.0*np.sqrt(2.0)\n",
    "pf = 0.8 # power factor\n",
    "phi = np.arccos(pf)\n",
    "I_a = I_peak*np.exp(1j*(np.deg2rad(0.0)-phi))   \n",
    "I_b = I_peak*np.exp(1j*(np.deg2rad(-120.0)-phi))  \n",
    "I_c = 0.8*I_peak*np.exp(1j*(np.deg2rad(-240.0)-phi)) \n",
    "\n",
    "I_p = np.array([[I_a],[I_b],[I_c]]) # peak values\n",
    "I = I_p/np.sqrt(2.0)"
   ]
  },
  {
   "cell_type": "code",
   "execution_count": null,
   "metadata": {
    "collapsed": false
   },
   "outputs": [],
   "source": [
    "I_012 = ifortescue @ I"
   ]
  },
  {
   "cell_type": "code",
   "execution_count": null,
   "metadata": {
    "collapsed": false
   },
   "outputs": [],
   "source": [
    "I_012"
   ]
  },
  {
   "cell_type": "code",
   "execution_count": null,
   "metadata": {
    "collapsed": false
   },
   "outputs": [],
   "source": [
    "v_abc = electric.ph2inst(V_p,T)\n",
    "i_abc = electric.ph2inst(I_p,T)"
   ]
  },
  {
   "cell_type": "code",
   "execution_count": null,
   "metadata": {
    "collapsed": false
   },
   "outputs": [],
   "source": [
    "fig = figure(width=600, height=300)\n",
    "decim = 1\n",
    "fig.line(T[0:-1:decim],v_abc[0,0:-1:decim], line_width=2, color='red')\n",
    "fig.line(T[0:-1:decim],v_abc[1,0:-1:decim], line_width=2, color='green')    \n",
    "fig.line(T[0:-1:decim],v_abc[2,0:-1:decim], line_width=2, color='blue')  \n",
    "\n",
    "fig.line(T[0:-1:decim],i_abc[0,0:-1:decim], line_width=2, color='red')\n",
    "fig.line(T[0:-1:decim],i_abc[1,0:-1:decim], line_width=2, color='green')    \n",
    "fig.line(T[0:-1:decim],i_abc[2,0:-1:decim], line_width=2, color='blue')\n",
    "\n",
    "show(fig)"
   ]
  },
  {
   "cell_type": "code",
   "execution_count": null,
   "metadata": {
    "collapsed": true
   },
   "outputs": [],
   "source": [
    "p = v_abc*i_abc\n",
    "p_total = np.sum(p,axis=0)"
   ]
  },
  {
   "cell_type": "code",
   "execution_count": null,
   "metadata": {
    "collapsed": false
   },
   "outputs": [],
   "source": [
    "fig = figure(width=600, height=300)\n",
    "fig.line(T,p[0]/1000, line_width=2, color='red')\n",
    "fig.line(T,p[1]/1000, line_width=2, color='green')    \n",
    "fig.line(T,p[2]/1000, line_width=2, color='blue')  \n",
    "fig.line(T,p_total/1000, line_width=2, color='magenta')\n",
    "show(fig)"
   ]
  },
  {
   "cell_type": "code",
   "execution_count": null,
   "metadata": {
    "collapsed": false
   },
   "outputs": [],
   "source": [
    "p_mean = np.trapz(p_total,T)/0.04\n",
    "print('p_mean = {:2.3f}'.format(p_mean))"
   ]
  },
  {
   "cell_type": "code",
   "execution_count": null,
   "metadata": {
    "collapsed": true
   },
   "outputs": [],
   "source": [
    "I_012 = ifortescue @ I\n",
    "V_012 = ifortescue @ V"
   ]
  },
  {
   "cell_type": "code",
   "execution_count": null,
   "metadata": {
    "collapsed": false
   },
   "outputs": [],
   "source": [
    "np.sum(3*V_012 * np.conj(I_012))"
   ]
  },
  {
   "cell_type": "code",
   "execution_count": null,
   "metadata": {
    "collapsed": true
   },
   "outputs": [],
   "source": [
    "V_peak = 400.0*np.sqrt(2.0/3.0)\n",
    "V_a = V_peak*np.exp(1j*np.deg2rad(0.0))   \n",
    "V_b = V_peak*np.exp(1j*np.deg2rad(-120.0))   \n",
    "V_c = V_peak/0.8*np.exp(1j*np.deg2rad(-240.0)) \n",
    "V_p = np.array([[V_a],[V_b],[V_c]]) # peak values\n",
    "V = V_p/np.sqrt(2.0)"
   ]
  },
  {
   "cell_type": "code",
   "execution_count": null,
   "metadata": {
    "collapsed": true
   },
   "outputs": [],
   "source": [
    "v_abc = electric.ph2inst(V_p,T)\n",
    "i_abc = electric.ph2inst(I_p,T)"
   ]
  },
  {
   "cell_type": "code",
   "execution_count": null,
   "metadata": {
    "collapsed": false
   },
   "outputs": [],
   "source": [
    "p = v_abc*i_abc\n",
    "p_total = np.sum(p,axis=0)\n",
    "p_total"
   ]
  },
  {
   "cell_type": "code",
   "execution_count": null,
   "metadata": {
    "collapsed": false
   },
   "outputs": [],
   "source": [
    "fig = figure(width=600, height=300)\n",
    "fig.line(T,p[0]/1000, line_width=2, color='red')\n",
    "fig.line(T,p[1]/1000, line_width=2, color='green')    \n",
    "fig.line(T,p[2]/1000, line_width=2, color='blue')  \n",
    "fig.line(T,p_total/1000, line_width=2, color='magenta')\n",
    "show(fig)"
   ]
  },
  {
   "cell_type": "code",
   "execution_count": null,
   "metadata": {
    "collapsed": true
   },
   "outputs": [],
   "source": [
    "I_012 = ifortescue @ I\n",
    "V_012 = ifortescue @ V"
   ]
  },
  {
   "cell_type": "code",
   "execution_count": null,
   "metadata": {
    "collapsed": false
   },
   "outputs": [],
   "source": [
    "np.abs(V_012)"
   ]
  },
  {
   "cell_type": "code",
   "execution_count": null,
   "metadata": {
    "collapsed": false
   },
   "outputs": [],
   "source": [
    "np.abs(I_012)"
   ]
  },
  {
   "cell_type": "code",
   "execution_count": null,
   "metadata": {
    "collapsed": false
   },
   "outputs": [],
   "source": [
    "250/140"
   ]
  },
  {
   "cell_type": "code",
   "execution_count": null,
   "metadata": {
    "collapsed": false
   },
   "outputs": [],
   "source": [
    "19.24/10"
   ]
  },
  {
   "cell_type": "code",
   "execution_count": null,
   "metadata": {
    "collapsed": false
   },
   "outputs": [],
   "source": [
    "np.sum(V_012*I_012)"
   ]
  },
  {
   "cell_type": "code",
   "execution_count": null,
   "metadata": {
    "collapsed": true
   },
   "outputs": [],
   "source": [
    "import ctrl\n"
   ]
  },
  {
   "cell_type": "code",
   "execution_count": null,
   "metadata": {
    "collapsed": false
   },
   "outputs": [],
   "source": [
    "v_dq0 = ctrl.clark(v_abc)\n",
    "i_dq0 = ctrl.clark(i_abc)"
   ]
  },
  {
   "cell_type": "code",
   "execution_count": null,
   "metadata": {
    "collapsed": false
   },
   "outputs": [],
   "source": [
    "fig = figure(width=600, height=300)\n",
    "decim = 1\n",
    "fig.line(T[0:-1:decim],v_dq0[0,0:-1:decim], line_width=2, color='red')\n",
    "fig.line(T[0:-1:decim],v_dq0[1,0:-1:decim], line_width=2, color='green')    \n",
    "fig.line(T[0:-1:decim],v_dq0[2,0:-1:decim], line_width=2, color='blue')  \n",
    "\n",
    "fig.line(T[0:-1:decim],i_dq0[0,0:-1:decim], line_width=2, color='red', line_dash = 'dashed')\n",
    "fig.line(T[0:-1:decim],i_dq0[1,0:-1:decim], line_width=2, color='green', line_dash = 'dashed')    \n",
    "fig.line(T[0:-1:decim],i_dq0[2,0:-1:decim], line_width=2, color='blue', line_dash = 'dashed')\n",
    "\n",
    "show(fig)"
   ]
  },
  {
   "cell_type": "code",
   "execution_count": null,
   "metadata": {
    "collapsed": false
   },
   "outputs": [],
   "source": [
    "v_dq_p = ctrl.park2(v_abc,T,2.0*np.pi*50)\n",
    "i_dq_p = ctrl.park2(i_abc,T,2.0*np.pi*50)\n",
    "v_dq_m = ctrl.park2(v_abc,T,-2.0*np.pi*50)\n",
    "i_dq_m = ctrl.park2(i_abc,T,-2.0*np.pi*50)"
   ]
  },
  {
   "cell_type": "code",
   "execution_count": null,
   "metadata": {
    "collapsed": false
   },
   "outputs": [],
   "source": [
    "fig = figure(width=600, height=300)\n",
    "decim = 1\n",
    "fig.line(T[0:-1:decim],v_dq_p[0,0:-1:decim].real, line_width=2, color='red')\n",
    "fig.line(T[0:-1:decim],v_dq_p[1,0:-1:decim].real, line_width=2, color='green')    \n",
    "\n",
    "fig.line(T[0:-1:decim],i_dq_p[0,0:-1:decim].real, line_width=2, color='red', line_dash = 'dashed')\n",
    "fig.line(T[0:-1:decim],i_dq_p[1,0:-1:decim].real, line_width=2, color='green', line_dash = 'dashed')    \n",
    "\n",
    "show(fig)"
   ]
  },
  {
   "cell_type": "code",
   "execution_count": null,
   "metadata": {
    "collapsed": false
   },
   "outputs": [],
   "source": [
    "fig = figure(width=600, height=300)\n",
    "decim = 1\n",
    "fig.line(T[0:-1:decim],v_dq_m[0,0:-1:decim].real, line_width=2, color='red')\n",
    "fig.line(T[0:-1:decim],v_dq_m[1,0:-1:decim].real, line_width=2, color='green')    \n",
    "\n",
    "fig.line(T[0:-1:decim],i_dq_m[0,0:-1:decim].real, line_width=2, color='red', line_dash = 'dashed')\n",
    "fig.line(T[0:-1:decim],i_dq_m[1,0:-1:decim].real, line_width=2, color='green', line_dash = 'dashed')    \n",
    "\n",
    "show(fig)"
   ]
  },
  {
   "cell_type": "code",
   "execution_count": null,
   "metadata": {
    "collapsed": false
   },
   "outputs": [],
   "source": [
    "np.mean(v_dq_p.real,axis=1)"
   ]
  },
  {
   "cell_type": "code",
   "execution_count": null,
   "metadata": {
    "collapsed": false
   },
   "outputs": [],
   "source": [
    "np.mean(v_dq_m.real,axis=1)"
   ]
  },
  {
   "cell_type": "code",
   "execution_count": null,
   "metadata": {
    "collapsed": true
   },
   "outputs": [],
   "source": []
  }
 ],
 "metadata": {
  "anaconda-cloud": {},
  "kernelspec": {
   "display_name": "Python [conda root]",
   "language": "python",
   "name": "conda-root-py"
  },
  "language_info": {
   "codemirror_mode": {
    "name": "ipython",
    "version": 3
   },
   "file_extension": ".py",
   "mimetype": "text/x-python",
   "name": "python",
   "nbconvert_exporter": "python",
   "pygments_lexer": "ipython3",
   "version": "3.5.2"
  }
 },
 "nbformat": 4,
 "nbformat_minor": 1
}
