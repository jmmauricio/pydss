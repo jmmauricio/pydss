{
 "cells": [
  {
   "cell_type": "markdown",
   "metadata": {
    "collapsed": true
   },
   "source": [
    "# SMIB with AVR and PSS"
   ]
  },
  {
   "cell_type": "code",
   "execution_count": 1,
   "metadata": {
    "collapsed": false
   },
   "outputs": [],
   "source": [
    "import sys\n",
    "sys.path.append('/home/jmmauricio/Documents/public/workspace/pydss/pydss')\n",
    "from solvers import nr,ssa"
   ]
  },
  {
   "cell_type": "code",
   "execution_count": 2,
   "metadata": {
    "collapsed": false
   },
   "outputs": [],
   "source": [
    "import numpy as np \n",
    "import sympy as sym\n",
    "from sympy.utilities.lambdify import lambdify, implemented_function\n",
    "import scipy.signal as ctrl\n",
    "import scipy.optimize as sopt\n",
    "from ipywidgets import interact, interactive, widgets\n",
    "from IPython.display import display\n",
    "import matplotlib as mpl\n",
    "import matplotlib.patches as patches\n",
    "from scipy.optimize import curve_fit\n",
    "from matplotlib import pyplot as plt\n",
    "mpl.rc('animation', html='html5')\n",
    "%matplotlib notebook \n",
    "\n",
    "sin = sym.sin\n",
    "cos = sym.cos"
   ]
  },
  {
   "cell_type": "markdown",
   "metadata": {},
   "source": [
    "## PSS Tunning"
   ]
  },
  {
   "cell_type": "markdown",
   "metadata": {},
   "source": [
    "Before modelling synchronous machine with the PSS this will be tunned."
   ]
  },
  {
   "cell_type": "markdown",
   "metadata": {},
   "source": [
    "### Model with AVR and  without PSS "
   ]
  },
  {
   "cell_type": "code",
   "execution_count": 3,
   "metadata": {
    "collapsed": true
   },
   "outputs": [],
   "source": [
    "delta, omega, e1d, e1q = sym.symbols('delta omega e1d e1q')\n",
    "i_d, i_q, v_d, v_q = sym.symbols('i_d i_q v_d v_q')\n",
    "v_f, p_m = sym.symbols('v_f p_m')\n",
    "X_d, X_q, X1d, X1q, X_l, R_a, T1d0, T1q0  = sym.symbols('X_d X_q X1d X1q X_l R_a T1d0 T1q0')\n",
    "H, D = sym.symbols('H D')\n",
    "V_t, theta_t, P_t, Q_t, V_inf, theta_inf = sym.symbols('V_t, theta_t, P_t, Q_t, V_inf, theta_inf')\n",
    "B_t_inf, B_t0, G_t_inf, G_t0 = sym.symbols('B_t_inf, B_t0, G_t_inf, G_t0')\n",
    "Omega_b, p_e = sym.symbols('Omega_b p_e')\n",
    "v_c, K_a, T_r,V_ref, v_f_avr = sym.symbols('v_c, K_a, T_r,V_ref, v_f_avr')"
   ]
  },
  {
   "cell_type": "code",
   "execution_count": 4,
   "metadata": {
    "collapsed": true
   },
   "outputs": [],
   "source": [
    "N_x = 5\n",
    "N_y = 10\n",
    "\n",
    "ddelta = Omega_b * (omega - 1);\n",
    "domega = 1/(2*H) * ( p_m - p_e - D * ( omega - 1)) ;\n",
    "de1q   = 1/T1d0 * ( -e1q - (X_d - X1d ) * i_d + v_f);\n",
    "de1d   = 1/T1q0 * ( -e1d + (X_q - X1q ) * i_q ) \n",
    "dv_c   = 1/T_r * ( V_t - v_c )\n",
    "\n",
    "\n",
    "g1 = v_q + R_a * i_q - e1q + (X1d - X_l)*i_d;\n",
    "g2 = v_d + R_a * i_d - e1d - (X1q - X_l)*i_q;\n",
    "g3 = p_e - (v_q + R_a*i_q)*i_q - (v_d + R_a*i_d)*i_d ;\n",
    "g4 = v_d - V_t * sin(delta - theta_t);\n",
    "g5 = v_q - V_t * cos(delta - theta_t);\n",
    "g6 = v_d * i_d + v_q * i_q - P_t; \n",
    "g7 = v_q * i_d - v_d * i_q - Q_t;\n",
    "g8 =  V_t**2*(G_t_inf+G_t0) - V_t*V_inf*(G_t_inf * cos(theta_t - theta_inf) + B_t_inf * sin(theta_t - theta_inf)) - P_t  \n",
    "g9 = -V_t**2*(B_t_inf+B_t0) - V_t*V_inf*(G_t_inf * sin(theta_t - theta_inf) - B_t_inf * cos(theta_t - theta_inf)) - Q_t\n",
    "g10 = K_a*(V_ref - v_c) - v_f\n"
   ]
  },
  {
   "cell_type": "code",
   "execution_count": 5,
   "metadata": {
    "collapsed": true
   },
   "outputs": [],
   "source": [
    "x = sym.Matrix([delta,omega,e1q,e1d,v_c])\n",
    "f = sym.Matrix([ddelta, domega, de1q, de1d, dv_c])\n",
    "\n",
    "y = sym.Matrix([i_d,i_q,p_e,v_d,v_q,p_m,V_ref,theta_t,Q_t, v_f])\n",
    "g = sym.Matrix([ g1, g2, g3, g4, g5, g6,   g7,     g8, g9, g10])"
   ]
  },
  {
   "cell_type": "code",
   "execution_count": 6,
   "metadata": {
    "collapsed": true
   },
   "outputs": [],
   "source": [
    "F_x = f.jacobian(x)\n",
    "F_y = f.jacobian(y)\n",
    "G_x = g.jacobian(x)\n",
    "G_y = g.jacobian(y)"
   ]
  },
  {
   "cell_type": "code",
   "execution_count": 7,
   "metadata": {
    "collapsed": true
   },
   "outputs": [],
   "source": [
    "X_d = 1.81\n",
    "X1d  = 0.3\n",
    "T1d0  = 8.0\n",
    "X_q  = 1.76\n",
    "X1q  = 0.65\n",
    "T1q0  = 1.0 \n",
    "R_a  =  0.003 \n",
    "X_l  = 0.15  \n",
    "H  = 3.5   \n",
    "Omega_b = 2*np.pi*60\n",
    "Z_t_inf = 0.15+1.0/(1.0/0.5+1.0/0.93)\n",
    "\n",
    "params = {\n",
    "'X_d':  X_d,\n",
    "'X1d':  X1d,\n",
    "'T1d0': T1d0,\n",
    "'X_q':  X_q,\n",
    "'X1q':  X1q,\n",
    "'T1q0': T1q0,\n",
    "'R_a':  R_a,\n",
    "'X_l': X_l,\n",
    "'H':  H,\n",
    "'D' : 0.1,\n",
    "'Omega_b': Omega_b,\n",
    "'B_t_inf':-1.0/Z_t_inf,\n",
    "'B_t0':0.0, \n",
    "'G_t_inf':0.0,\n",
    "'G_t0':0.0,\n",
    "'V_inf':0.90081,\n",
    "'theta_inf':0.0,   \n",
    "'K_a':10.0,   \n",
    "'T_r':0.05,  \n",
    "}\n",
    "\n"
   ]
  },
  {
   "cell_type": "markdown",
   "metadata": {},
   "source": [
    "### Initialization problem (backward)"
   ]
  },
  {
   "cell_type": "code",
   "execution_count": 8,
   "metadata": {
    "collapsed": false
   },
   "outputs": [],
   "source": [
    "u = sym.Matrix([P_t,V_t])\n",
    "\n",
    "f_eval = lambdify((x,y,u), f.subs(params), \"numpy\")\n",
    "g_eval = lambdify((x,y,u), g.subs(params), \"numpy\")\n",
    "F_x_eval = lambdify((x,y,u), F_x.subs(params), \"numpy\")\n",
    "F_y_eval = lambdify((x,y,u), F_y.subs(params), \"numpy\")\n",
    "G_x_eval = lambdify((x,y,u), G_x.subs(params), \"numpy\")\n",
    "G_y_eval = lambdify((x,y,u), G_y.subs(params), \"numpy\")\n",
    "\n",
    "lam_sym = f.col_join(g)\n",
    "xi_sym = x.col_join(y)\n",
    "Lam_f = F_x.row_join(F_y)\n",
    "Lam_g = G_x.row_join(G_y)\n",
    "Lam_sym = Lam_f.col_join(Lam_g)\n",
    "\n",
    "\n",
    "lam = lambdify((xi_sym,u), lam_sym.subs(params), \"numpy\")\n",
    "Lam = lambdify((xi_sym,u), Lam_sym.subs(params), \"numpy\")"
   ]
  },
  {
   "cell_type": "code",
   "execution_count": null,
   "metadata": {
    "collapsed": false
   },
   "outputs": [],
   "source": []
  },
  {
   "cell_type": "code",
   "execution_count": null,
   "metadata": {
    "collapsed": true
   },
   "outputs": [],
   "source": []
  },
  {
   "cell_type": "code",
   "execution_count": 9,
   "metadata": {
    "collapsed": false
   },
   "outputs": [],
   "source": [
    "xi_0 = np.ones((N_x+N_y,1))\n",
    "u_val = np.array([[0.9],[1.0]])\n",
    "xi_ini = nr(xi_0,u_val,lam,Lam)\n",
    "xi_ini\n",
    "\n",
    "x_val = xi_ini[0:N_x]\n",
    "y_val = xi_ini[N_x:(N_x+N_y)]"
   ]
  },
  {
   "cell_type": "code",
   "execution_count": 10,
   "metadata": {
    "collapsed": false
   },
   "outputs": [
    {
     "name": "stdout",
     "output_type": "stream",
     "text": [
      "Help on function nr in module solvers:\n",
      "\n",
      "nr(xi_0, u_0, lam, Lam)\n",
      "    Newton-Raphson method\n",
      "    \n",
      "    Parameters\n",
      "    ----------\n",
      "    xi_0 : array_like\n",
      "        Initial guess for xi.\n",
      "    u_0 : array_like\n",
      "        Systen inputs.\n",
      "    lam : function vector\n",
      "        DAE system equations\n",
      "    lam : function vector\n",
      "        DAE system jacobian.\n",
      "        \n",
      "    Returns\n",
      "    -------\n",
      "    xi_1 : array_like\n",
      "        Obtained result.\n",
      "\n"
     ]
    }
   ],
   "source": [
    "help(nr)"
   ]
  },
  {
   "cell_type": "markdown",
   "metadata": {},
   "source": [
    "### Simulation problem (forward)"
   ]
  },
  {
   "cell_type": "code",
   "execution_count": 11,
   "metadata": {
    "collapsed": false
   },
   "outputs": [],
   "source": [
    "N_x = 5\n",
    "N_y = 10\n",
    "\n",
    "x = sym.Matrix([delta,omega,e1q,e1d,v_c])\n",
    "y = sym.Matrix([i_d,i_q,p_e,v_d,v_q,P_t,Q_t,theta_t,V_t,v_f])\n",
    "u = sym.Matrix([p_m,V_ref,D,K_a])\n",
    "\n",
    "f = sym.Matrix([ddelta, domega, de1q, de1d, dv_c])\n",
    "g = sym.Matrix([g1, g2, g3, g4, g5,g6, g7, g8,g9,g10])\n",
    "h = sym.Matrix([P_t,Q_t,V_t])\n",
    "\n",
    "F_x = f.jacobian(x)\n",
    "F_y = f.jacobian(y)\n",
    "G_x = g.jacobian(x)\n",
    "G_y = g.jacobian(y)\n",
    "F_u = f.jacobian(u)\n",
    "G_u = g.jacobian(u)\n",
    "H_x = f.jacobian(x)\n",
    "H_u = g.jacobian(u)"
   ]
  },
  {
   "cell_type": "code",
   "execution_count": 12,
   "metadata": {
    "collapsed": false
   },
   "outputs": [],
   "source": [
    "params_run = {\n",
    "'X_d':  X_d,\n",
    "'X1d':  X1d,\n",
    "'T1d0': T1d0,\n",
    "'X_q':  X_q,\n",
    "'X1q':  X1q,\n",
    "'T1q0': T1q0,\n",
    "'R_a':  R_a,\n",
    "'X_l': X_l,\n",
    "'H':  H,\n",
    "'Omega_b': Omega_b,\n",
    "'B_t_inf':-1.0/Z_t_inf,\n",
    "'B_t0':0.01, \n",
    "'G_t_inf':0.0,\n",
    "'G_t0':0.0,\n",
    "'V_inf':0.90081,\n",
    "'theta_inf':0.0,   \n",
    "'T_r':0.05,  \n",
    "}\n",
    "\n",
    "f_eval = lambdify((x,y,u), f.subs(params_run), \"numpy\")\n",
    "g_eval = lambdify((x,y,u), g.subs(params_run), \"numpy\")\n",
    "\n",
    "F_x_eval = lambdify((x,y,u), F_x.subs(params_run), \"numpy\")\n",
    "F_y_eval = lambdify((x,y,u), F_y.subs(params_run), \"numpy\")\n",
    "G_x_eval = lambdify((x,y,u), G_x.subs(params_run), \"numpy\")\n",
    "G_y_eval = lambdify((x,y,u), G_y.subs(params_run), \"numpy\")\n",
    "\n",
    "F_u_eval = lambdify((x,y,u), F_u.subs(params_run), \"numpy\")\n",
    "G_u_eval = lambdify((x,y,u), G_u.subs(params_run), \"numpy\")\n",
    "H_x_eval = lambdify((x,y,u), H_x.subs(params_run), \"numpy\")\n",
    "H_u_eval = lambdify((x,y,u), H_u.subs(params_run), \"numpy\")\n",
    "\n",
    "lam_sym = f.col_join(g)\n",
    "xi_sym = x.col_join(y)\n",
    "Lam_f = F_x.row_join(F_y)\n",
    "Lam_g = G_x.row_join(G_y)\n",
    "Lam_sym = Lam_f.col_join(Lam_g)\n",
    " \n",
    "\n",
    "lam = lambdify((xi_sym,u), lam_sym.subs(params_run), \"numpy\")\n",
    "Lam = lambdify((xi_sym,u), Lam_sym.subs(params_run), \"numpy\")\n",
    "h_eval = lambdify((xi_sym,u), h.subs(params_run), \"numpy\")"
   ]
  },
  {
   "cell_type": "code",
   "execution_count": 13,
   "metadata": {
    "collapsed": false
   },
   "outputs": [
    {
     "name": "stdout",
     "output_type": "stream",
     "text": [
      "[[ 1.2960648 ]\n",
      " [ 1.        ]\n",
      " [ 0.81879947]\n",
      " [ 0.46469837]\n",
      " [ 0.95609274]\n",
      " [ 0.91163158]\n",
      " [ 0.41864718]\n",
      " [ 0.9       ]\n",
      " [ 0.67128707]\n",
      " [ 0.68079879]\n",
      " [ 0.89698099]\n",
      " [ 0.33960524]\n",
      " [ 0.51770137]\n",
      " [ 0.95609274]\n",
      " [ 2.19536316]]\n",
      "[[ 0.89698099]\n",
      " [ 0.33960524]\n",
      " [ 0.95609274]]\n"
     ]
    }
   ],
   "source": [
    "def nr(xi_0,u_val,lam,Lam):\n",
    "    max_iter = 1000\n",
    "    tol = 1.0e-8\n",
    "    for it in range(max_iter):\n",
    "\n",
    "        Dxi = np.linalg.solve(-Lam(xi_0,u_val),lam(xi_0,u_val))\n",
    "        xi_1 = xi_0 + Dxi\n",
    "\n",
    "        xi_0 = xi_1\n",
    "        if np.linalg.norm(Dxi,np.infty)<tol: \n",
    "            #print(it)\n",
    "            break\n",
    "        if it==max_iter-1: \n",
    "            print('No convergence after', it)\n",
    "            break\n",
    "    return xi_0,h_eval(xi_0,u_val)\n",
    "\n",
    "xi_0 = np.ones((N_x+N_y,1))\n",
    "xi_0[0] = 0.1\n",
    "# u = sym.Matrix([p_m,V_ref,D,K_a])\n",
    "u_val = np.array([0.9,1.0,0.1,50])\n",
    "xi_0,z = nr(xi_0,u_val,lam,Lam)\n",
    "print(xi_0)\n",
    "print(z)\n",
    "\n",
    "#A =  F_x_eval - F_y_eval @ np.linalg.inv(G_y_eval) @ G_x_eval\n",
    "\n"
   ]
  },
  {
   "cell_type": "code",
   "execution_count": 14,
   "metadata": {
    "collapsed": false
   },
   "outputs": [
    {
     "ename": "NameError",
     "evalue": "name 'z' is not defined",
     "output_type": "error",
     "traceback": [
      "\u001b[0;31m---------------------------------------------------------------------------\u001b[0m",
      "\u001b[0;31mNameError\u001b[0m                                 Traceback (most recent call last)",
      "\u001b[0;32m<ipython-input-14-1515157b82d8>\u001b[0m in \u001b[0;36m<module>\u001b[0;34m()\u001b[0m\n\u001b[0;32m----> 1\u001b[0;31m \u001b[0mssa\u001b[0m\u001b[0;34m(\u001b[0m\u001b[0mxi_0\u001b[0m\u001b[0;34m,\u001b[0m\u001b[0mu_val\u001b[0m\u001b[0;34m,\u001b[0m\u001b[0mlam\u001b[0m\u001b[0;34m,\u001b[0m\u001b[0mLam\u001b[0m\u001b[0;34m,\u001b[0m\u001b[0mN_x\u001b[0m\u001b[0;34m)\u001b[0m\u001b[0;34m\u001b[0m\u001b[0m\n\u001b[0m",
      "\u001b[0;32m/home/jmmauricio/Documents/public/workspace/pydss/pydss/solvers.py\u001b[0m in \u001b[0;36mssa\u001b[0;34m(xi_0, u_0, lam, Lam, N_x)\u001b[0m\n\u001b[1;32m     59\u001b[0m     \u001b[0mA\u001b[0m \u001b[0;34m=\u001b[0m  \u001b[0mF_x\u001b[0m \u001b[0;34m-\u001b[0m \u001b[0mF_y\u001b[0m \u001b[0;34m@\u001b[0m \u001b[0mnp\u001b[0m\u001b[0;34m.\u001b[0m\u001b[0mlinalg\u001b[0m\u001b[0;34m.\u001b[0m\u001b[0minv\u001b[0m\u001b[0;34m(\u001b[0m\u001b[0mG_y\u001b[0m\u001b[0;34m)\u001b[0m \u001b[0;34m@\u001b[0m \u001b[0mG_x\u001b[0m\u001b[0;34m\u001b[0m\u001b[0m\n\u001b[1;32m     60\u001b[0m     \u001b[0mlamb\u001b[0m\u001b[0;34m,\u001b[0m \u001b[0mPhi\u001b[0m \u001b[0;34m=\u001b[0m \u001b[0mnp\u001b[0m\u001b[0;34m.\u001b[0m\u001b[0mlinalg\u001b[0m\u001b[0;34m.\u001b[0m\u001b[0meig\u001b[0m\u001b[0;34m(\u001b[0m\u001b[0mA\u001b[0m\u001b[0;34m)\u001b[0m\u001b[0;34m\u001b[0m\u001b[0m\n\u001b[0;32m---> 61\u001b[0;31m     \u001b[0;32mreturn\u001b[0m \u001b[0mlamb\u001b[0m\u001b[0;34m,\u001b[0m \u001b[0mz\u001b[0m\u001b[0;34m\u001b[0m\u001b[0m\n\u001b[0m\u001b[1;32m     62\u001b[0m \u001b[0;34m\u001b[0m\u001b[0m\n",
      "\u001b[0;31mNameError\u001b[0m: name 'z' is not defined"
     ]
    }
   ],
   "source": [
    "ssa(xi_0,u_val,lam,Lam,h_eval,N_x)\n"
   ]
  },
  {
   "cell_type": "code",
   "execution_count": null,
   "metadata": {
    "collapsed": false
   },
   "outputs": [],
   "source": [
    "x_val = xi_0[0:N_x]\n",
    "y_val = xi_0[N_x:(N_x+N_y)]\n",
    "G_y_eval(x_val,y_val,u_val)"
   ]
  },
  {
   "cell_type": "code",
   "execution_count": null,
   "metadata": {
    "collapsed": false
   },
   "outputs": [],
   "source": []
  },
  {
   "cell_type": "code",
   "execution_count": null,
   "metadata": {
    "collapsed": false
   },
   "outputs": [],
   "source": [
    "fig = plt.figure()\n",
    "ax = fig.add_subplot(111)\n",
    "fig.set_animated(True)\n",
    "plt.xlim(-20, 2)\n",
    "plt.ylim(-50, 50)\n",
    "plt.grid(True)\n",
    "\n",
    "poles = ax.plot([], 'o') \n",
    "#display(fig)\n",
    "\n",
    "r1 = patches.Rectangle((0,-100), 500, 200, color=\"red\", alpha=0.5)\n",
    "ax.add_patch(r1)\n",
    "\n",
    "def update(p_m,v_ref,D,K_a):\n",
    "    \n",
    "    u_val = np.array([p_m,v_ref,D,K_a])\n",
    "    lamb, z = autos(u_val,xi_0)\n",
    "    poles[0].set_xdata(lamb.real)\n",
    "    poles[0].set_ydata(lamb.imag)\n",
    "    \n",
    "    print('P   = {:2.2f}'.format(z[0,0]))\n",
    "    print('Q   = {:2.2f}'.format(z[1,0]))\n",
    "    print('V_t = {:2.2f}'.format(z[2,0]))\n",
    "\n",
    "\n",
    "\n",
    "sld_p_m = widgets.FloatSlider(min=0,max=1.2,step=0.01,value=u_val[0])\n",
    "sld_v_ref = widgets.FloatSlider(min=u_val[1]-0.5,max=u_val[1]+0.5,step=0.01,value=u_val[1])\n",
    "sld_D = widgets.FloatSlider(min=0.0,max=100.0,step=0.01,value=params['D'])\n",
    "sld_Ka = widgets.FloatSlider(min=0.0,max=100.0,step=0.01,value=u_val[3])\n",
    "interaction = interactive(update,\n",
    "                          p_m=sld_p_m,\n",
    "                          v_ref=sld_v_ref,\n",
    "                          D=sld_D,\n",
    "                          K_a=sld_Ka,\n",
    "                          continuous_update=False)    "
   ]
  },
  {
   "cell_type": "code",
   "execution_count": null,
   "metadata": {
    "collapsed": false
   },
   "outputs": [],
   "source": [
    "display(interaction)"
   ]
  },
  {
   "cell_type": "markdown",
   "metadata": {},
   "source": [
    "## Trapezoidal"
   ]
  },
  {
   "cell_type": "code",
   "execution_count": null,
   "metadata": {
    "collapsed": false
   },
   "outputs": [],
   "source": [
    "N_steps = 1000\n",
    "max_iter = 1\n",
    "t = 0.0;\n",
    "\n",
    "u_0 = np.array([0.5,1.0,0.1,20])\n",
    "u_i = u_0\n",
    "\n",
    "xi_0, z = nr(xi_0,u_0,lam,Lam)\n",
    "x_0 = xi_0[0:N_x]\n",
    "y_0 = xi_0[N_x:(N_x+N_y)]\n",
    "lamb, z = autos(u_0,xi_0)\n",
    "\n",
    "sigmas = lamb.real\n",
    "omegas = lamb.imag\n",
    "\n",
    "freqs = omegas/(2*np.pi);\n",
    "zetas = sigmas/np.sqrt(sigmas**2+omegas**2)\n",
    "\n",
    "\n",
    "N_x = x_0.shape[0]\n",
    "N_y = y_0.shape[0]\n",
    "X = np.zeros((N_steps,N_x));\n",
    "Y = np.zeros((N_steps,N_y));\n",
    "T = np.zeros((N_steps,1));\n",
    "Dt = 10.0e-3\n",
    "\n",
    "\n",
    "    \n",
    "for it in range(N_steps):\n",
    "    x_i = np.copy(x_0)\n",
    "    y_i = np.copy(y_0)\n",
    "   \n",
    "    if t>0.0:\n",
    "        u_i[1] = 1.1\n",
    "    for iter in range(max_iter): \n",
    "        \n",
    "        A_c_i = np.vstack([np.hstack([np.eye(N_x) - 0.5*Dt*F_x_eval(x_i,y_i,u_i), -0.5*Dt*F_y_eval(x_i,y_i,u_i)]),\n",
    "                           np.hstack([                     G_x_eval(x_i,y_i,u_i),         G_y_eval(x_i,y_i,u_i)])])\n",
    "             \n",
    "        f_n_i = x_i - x_0 - 0.5*Dt*(f_eval(x_i,y_i,u_i)+f_eval(x_0,y_0,u_i))\n",
    "        \n",
    "        Dxy_i = -np.linalg.solve(A_c_i, np.vstack((f_n_i,g_eval(x_i,y_i,u_i))))\n",
    "        \n",
    "        x_i = x_i + Dxy_i[0:N_x]\n",
    "        y_i = y_i + Dxy_i[N_x:(N_x+N_y)]\n",
    "        \n",
    "        if np.linalg.norm(Dxy_i,np.inf)<1.0e-8:\n",
    "            break\n",
    "\n",
    "    x_0 = x_i\n",
    "    y_0 = y_i\n",
    "   \n",
    "    T[it,:] = t;\n",
    "    X[it,:] = x_i[:,0];\n",
    "    Y[it,:] = y_i[:,0];    \n",
    "    t = it*Dt;"
   ]
  },
  {
   "cell_type": "code",
   "execution_count": null,
   "metadata": {
    "collapsed": false
   },
   "outputs": [],
   "source": [
    "V_t = Y[:,-2]\n",
    "V_t_ini =  V_t[0]\n",
    "V_t_end =  V_t[-1]\n",
    "V_t_063 = 0.63*(V_t_end - V_t_ini)+V_t_ini\n",
    "\n",
    "def func(x, a, b, c, d):\n",
    "    \n",
    "    return a*(1-np.exp(-c*(x-b)))+d\n",
    "\n",
    "popt, pcov = curve_fit(func, T[:,0], V_t, [0.1,1.0,10,V_t_ini])\n",
    "a, b, c, d = popt\n",
    "V_t_fit = func(T, a, b, c, d )\n",
    "\n",
    "fig = plt.figure()\n",
    "ax1 = fig.add_subplot(211)\n",
    "ax2 = fig.add_subplot(212)\n",
    "ax1.plot(T,(Y[:,-2]))\n",
    "ax1.plot(T,V_t_fit)\n",
    "ax1.plot(T[V_t>V_t_063][0],V_t_063,'o')\n",
    "ax2.plot(T,Y[:,2]-0.5) \n",
    "#display(fig)\n",
    "\n",
    "print(T[V_t>V_t_063][0]-1.0)\n",
    "print('Tau: {:2.3f}'.format(1/popt[2]))"
   ]
  },
  {
   "cell_type": "code",
   "execution_count": null,
   "metadata": {
    "collapsed": false
   },
   "outputs": [],
   "source": [
    "G_syn = ctrl.lti([1],[1/popt[2], 1])\n"
   ]
  },
  {
   "cell_type": "code",
   "execution_count": null,
   "metadata": {
    "collapsed": false
   },
   "outputs": [],
   "source": [
    "w = np.linspace(0.0,20,100)\n",
    "w, mag, phase = ctrl.bode(G_syn,w)\n",
    "omega_osc = omegas[1]\n",
    "ph = phase[w>omega_osc][0]\n",
    "\n",
    "fig = plt.figure()\n",
    "ax1 = fig.add_subplot(211)\n",
    "ax2 = fig.add_subplot(212)\n",
    "ax1.plot(w,mag, 'r', lw=2, label='$\\sf G_{syn}$')\n",
    "ax2.plot(w,phase, 'r', lw=2, label='$\\sf G_{syn}$')\n",
    "\n",
    "ax1.plot([omega_osc,omega_osc],[-30,30], 'g', lw=4)\n",
    "ax2.plot([omega_osc,omega_osc],[-100,100],'g', lw=4)\n",
    "ax2.plot([omega_osc],ph, 'o', lw=4, color = 'r')\n",
    "ax1.grid(True)\n",
    "ax2.grid(True)\n",
    "\n",
    "#ax1.set_xlabel('Frequency (rad/s)')\n",
    "ax2.set_xlabel('Frequency (rad/s)')\n",
    "ax1.set_ylabel('Gain (-)')\n",
    "ax2.set_ylabel('Phase (deg)')\n"
   ]
  },
  {
   "cell_type": "code",
   "execution_count": null,
   "metadata": {
    "collapsed": false
   },
   "outputs": [],
   "source": [
    "a,T = sol\n",
    "T_pss_1_val = a*T\n",
    "T_pss_2_val = T\n",
    "\n",
    "G_lead = ctrl.lti([a*T, 1],[T, 1])\n",
    "w_lead, mag_lead, phase_lead = ctrl.bode(G_lead, w)\n",
    "ax1.plot(w_lead,mag_lead, 'b', lw=2, label='$\\sf G_{lead}$')\n",
    "ax2.plot(w_lead,phase_lead, 'b', lw=2, label='$\\sf G_{lead}$') "
   ]
  },
  {
   "cell_type": "code",
   "execution_count": null,
   "metadata": {
    "collapsed": false
   },
   "outputs": [],
   "source": [
    "den = np.convolve([1/popt[2], 1],[T, 1])"
   ]
  },
  {
   "cell_type": "code",
   "execution_count": null,
   "metadata": {
    "collapsed": false
   },
   "outputs": [],
   "source": [
    "G_comp = ctrl.lti([a*T, 1],den)"
   ]
  },
  {
   "cell_type": "code",
   "execution_count": null,
   "metadata": {
    "collapsed": false
   },
   "outputs": [],
   "source": [
    "w_comp, mag_comp, phase_comp = ctrl.bode(G_comp, w)\n",
    "ax1.plot(w_comp,mag_comp, 'g', lw=2.0, label='$\\sf G_{syn+lead}$')\n",
    "ax2.plot(w_comp,phase_comp, 'g', lw=2.0, label='$\\sf G_{syn+lead}$') \n",
    "\n",
    "ax1.legend()\n",
    "ax2.legend()\n"
   ]
  },
  {
   "cell_type": "code",
   "execution_count": null,
   "metadata": {
    "collapsed": false
   },
   "outputs": [],
   "source": [
    "delta, omega, e1d, e1q = sym.symbols('delta omega e1d e1q')\n",
    "i_d, i_q, v_d, v_q = sym.symbols('i_d i_q v_d v_q')\n",
    "v_f, p_m = sym.symbols('v_f p_m')\n",
    "X_d, X_q, X1d, X1q, X_l, R_a, T1d0, T1q0  = sym.symbols('X_d X_q X1d X1q X_l R_a T1d0 T1q0')\n",
    "H, D = sym.symbols('H D')\n",
    "V_t, theta_t, P_t, Q_t, V_inf, theta_inf = sym.symbols('V_t, theta_t, P_t, Q_t, V_inf, theta_inf')\n",
    "B_t_inf, B_t0, G_t_inf, G_t0 = sym.symbols('B_t_inf, B_t0, G_t_inf, G_t0')\n",
    "Omega_b, p_e = sym.symbols('Omega_b p_e')\n",
    "v_c, K_a, T_r,V_ref, v_f_avr = sym.symbols('v_c, K_a, T_r,V_ref, v_f_avr')\n",
    "x_pss, v_pss, T_pss_1, T_pss_2,K_stab = sym.symbols('x_pss, v_pss, T_pss_1, T_pss_2,K_stab ')\n",
    "x_w, omega_w, T_w = sym.symbols('x_w, omega_w, T_w ')"
   ]
  },
  {
   "cell_type": "code",
   "execution_count": null,
   "metadata": {
    "collapsed": false
   },
   "outputs": [],
   "source": [
    "N_x = 7\n",
    "N_y = 12\n",
    "\n",
    "ddelta = Omega_b * (omega - 1);\n",
    "domega = 1/(2*H) * ( p_m - p_e - D * ( omega - 1)) ;\n",
    "de1q   = 1/T1d0 * ( -e1q - (X_d - X1d ) * i_d + v_f);\n",
    "de1d   = 1/T1q0 * ( -e1d + (X_q - X1q ) * i_q ) \n",
    "dv_c   = 1/T_r * ( V_t - v_c )\n",
    "dx_pss = 1.0/T_pss_2*(omega_w - x_pss)\n",
    "dx_w = 1.0/T_w*(omega - x_w)\n",
    "\n",
    "g1 = v_q + R_a * i_q - e1q + (X1d - X_l)*i_d;\n",
    "g2 = v_d + R_a * i_d - e1d - (X1q - X_l)*i_q;\n",
    "g3 = p_e - (v_q + R_a*i_q)*i_q - (v_d + R_a*i_d)*i_d ;\n",
    "g4 = v_d - V_t * sin(delta - theta_t);\n",
    "g5 = v_q - V_t * cos(delta - theta_t);\n",
    "g6 = v_d * i_d + v_q * i_q - P_t; \n",
    "g7 = v_q * i_d - v_d * i_q - Q_t;\n",
    "g8 =  V_t**2*(G_t_inf+G_t0) - V_t*V_inf*(G_t_inf * cos(theta_t - theta_inf) + B_t_inf * sin(theta_t - theta_inf)) - P_t  \n",
    "g9 = -V_t**2*(B_t_inf+B_t0) - V_t*V_inf*(G_t_inf * sin(theta_t - theta_inf) - B_t_inf * cos(theta_t - theta_inf)) - Q_t\n",
    "g10 = K_a*(V_ref + v_pss - v_c) - v_f\n",
    "g11 = v_pss - K_stab*(T_pss_1/T_pss_2*omega_w + (1.0-1.0/T_pss_2)*x_pss)\n",
    "g12 = omega_w - (omega - x_w)"
   ]
  },
  {
   "cell_type": "code",
   "execution_count": null,
   "metadata": {
    "collapsed": false
   },
   "outputs": [],
   "source": [
    "x = sym.Matrix([delta,omega,e1q,e1d,v_c,x_pss,x_w])\n",
    "y = sym.Matrix([i_d,i_q,p_e,v_d,v_q,P_t,Q_t,theta_t,V_t,v_f,v_pss,omega_w])\n",
    "u = sym.Matrix([p_m,V_ref,D,K_a,K_stab])\n",
    "\n",
    "f = sym.Matrix([ddelta, domega, de1q, de1d, dv_c,dx_pss,dx_w])\n",
    "g = sym.Matrix([g1, g2, g3, g4, g5,g6, g7, g8,g9,g10,g11,g12])\n",
    "h = sym.Matrix([P_t,Q_t,V_t])\n",
    "\n",
    "F_x = f.jacobian(x)\n",
    "F_y = f.jacobian(y)\n",
    "G_x = g.jacobian(x)\n",
    "G_y = g.jacobian(y)\n",
    "F_u = f.jacobian(u)\n",
    "G_u = g.jacobian(u)\n",
    "H_x = f.jacobian(x)\n",
    "H_u = g.jacobian(u)"
   ]
  },
  {
   "cell_type": "code",
   "execution_count": null,
   "metadata": {
    "collapsed": false
   },
   "outputs": [],
   "source": [
    "X_d = 1.81\n",
    "X1d  = 0.3\n",
    "T1d0  = 8.0\n",
    "X_q  = 1.76\n",
    "X1q  = 0.65\n",
    "T1q0  = 1.0 \n",
    "R_a  =  0.003 \n",
    "X_l  = 0.15  \n",
    "H  = 3.5   \n",
    "Omega_b = 2*np.pi*60\n",
    "Z_t_inf = 0.15+1.0/(1.0/0.5+1.0/0.93)\n",
    "\n",
    "params_run = {\n",
    "'X_d':  X_d,\n",
    "'X1d':  X1d,\n",
    "'T1d0': T1d0,\n",
    "'X_q':  X_q,\n",
    "'X1q':  X1q,\n",
    "'T1q0': T1q0,\n",
    "'R_a':  R_a,\n",
    "'X_l': X_l,\n",
    "'H':  H,\n",
    "'Omega_b': Omega_b,\n",
    "'B_t_inf':-1.0/Z_t_inf,\n",
    "'B_t0':0.01, \n",
    "'G_t_inf':0.0,\n",
    "'G_t0':0.0,\n",
    "'V_inf':0.90081,\n",
    "'theta_inf':0.0,   \n",
    "'T_r':0.05,  \n",
    "'theta_inf':0.0,   \n",
    "'T_r':0.05,  \n",
    "'T_pss_1':T_pss_1_val,\n",
    "'T_pss_2':T_pss_2_val,\n",
    "'T_w':5.0\n",
    "}\n",
    "\n",
    "f_eval = lambdify((x,y,u), f.subs(params_run), \"numpy\")\n",
    "g_eval = lambdify((x,y,u), g.subs(params_run), \"numpy\")\n",
    "\n",
    "F_x_eval = lambdify((x,y,u), F_x.subs(params_run), \"numpy\")\n",
    "F_y_eval = lambdify((x,y,u), F_y.subs(params_run), \"numpy\")\n",
    "G_x_eval = lambdify((x,y,u), G_x.subs(params_run), \"numpy\")\n",
    "G_y_eval = lambdify((x,y,u), G_y.subs(params_run), \"numpy\")\n",
    "\n",
    "F_u_eval = lambdify((x,y,u), F_u.subs(params_run), \"numpy\")\n",
    "G_u_eval = lambdify((x,y,u), G_u.subs(params_run), \"numpy\")\n",
    "H_x_eval = lambdify((x,y,u), H_x.subs(params_run), \"numpy\")\n",
    "H_u_eval = lambdify((x,y,u), H_u.subs(params_run), \"numpy\")\n",
    "\n",
    "sys = [f_eval,g_eval,F_x_eval,F_y_eval,G_x_eval,G_y_eval,F_u_eval,G_u_eval,H_x_eval,H_u_eval]\n",
    "lam_sym = f.col_join(g)\n",
    "xi_sym = x.col_join(y)\n",
    "Lam_f = F_x.row_join(F_y)\n",
    "Lam_g = G_x.row_join(G_y)\n",
    "Lam_sym = Lam_f.col_join(Lam_g)\n",
    " \n",
    "\n",
    "lam = lambdify((xi_sym,u), lam_sym.subs(params_run), \"numpy\")\n",
    "Lam = lambdify((xi_sym,u), Lam_sym.subs(params_run), \"numpy\")\n",
    "h_eval = lambdify((xi_sym,u), h.subs(params_run), \"numpy\")"
   ]
  },
  {
   "cell_type": "code",
   "execution_count": null,
   "metadata": {
    "collapsed": true
   },
   "outputs": [],
   "source": [
    "def nr(xi_0,u_val,lam,Lam):\n",
    "    max_iter = 1000\n",
    "    tol = 1.0e-8\n",
    "    for it in range(max_iter):\n",
    "\n",
    "        Dxi = np.linalg.solve(-Lam(xi_0,u_val),lam(xi_0,u_val))\n",
    "        xi_1 = xi_0 + Dxi\n",
    "\n",
    "        xi_0 = xi_1\n",
    "        if np.linalg.norm(Dxi,np.infty)<tol: \n",
    "            #print(it)\n",
    "            break\n",
    "        if it==max_iter-1: \n",
    "            print('No convergence after', it)\n",
    "            break\n",
    "    return xi_0,h_eval(xi_0,u_val)"
   ]
  },
  {
   "cell_type": "code",
   "execution_count": null,
   "metadata": {
    "collapsed": false
   },
   "outputs": [],
   "source": [
    "xi_0 = np.ones((19,1))\n",
    "#xi_0[-6] = 0.9\n",
    "#xi_0[-1] = 0.0\n",
    "p_m = 0.1\n",
    "V_ref = 1.0\n",
    "D= 0.0\n",
    "K_a = 30.0\n",
    "K_stab = 10.0\n",
    "u_val = np.array([p_m,V_ref,D,K_a,K_stab])\n",
    "xi_0,z = nr(xi_0,u_val,lam,Lam)\n"
   ]
  },
  {
   "cell_type": "code",
   "execution_count": null,
   "metadata": {
    "collapsed": false
   },
   "outputs": [],
   "source": [
    "lam(xi_0,u_val)"
   ]
  },
  {
   "cell_type": "code",
   "execution_count": null,
   "metadata": {
    "collapsed": false
   },
   "outputs": [],
   "source": [
    "def autos(sys,u_val,xi_0):\n",
    "    \n",
    "    xi_run, z = nr(xi_0,u_val,lam,Lam)\n",
    "\n",
    "    lam(xi_run, u_val)\n",
    "\n",
    "    x_val = xi_run[0:N_x]\n",
    "    y_val = xi_run[N_x:(N_x+N_y)]\n",
    "    f_eval,g_eval,F_x_eval,F_y_eval,G_x_eval,G_y_eval,F_u_eval,G_u_eval,H_x_eval,H_u_eval = sys\n",
    "    \n",
    "    F_x_val = F_x_eval(x_val,y_val,u_val) \n",
    "    F_y_val = F_y_eval(x_val,y_val,u_val) \n",
    "    G_x_val = G_x_eval(x_val,y_val,u_val) \n",
    "    G_y_val = G_y_eval(x_val,y_val,u_val) \n",
    "    \n",
    "    A =  F_x_val - F_y_val @ np.linalg.inv(G_y_val) @ G_x_val\n",
    "    lamb, Phi = np.linalg.eig(A)\n",
    "    \n",
    "    sigmas = lamb.real\n",
    "    omegas = lamb.imag\n",
    "\n",
    "    freqs = omegas/(2*np.pi);\n",
    "    zetas = sigmas/np.sqrt(sigmas**2+omegas**2)    \n",
    "    \n",
    "    return lamb,z,omegas,zetas\n",
    "\n",
    "lamb,z,omegas,zetas = autos(sys,u_val,xi_0)\n",
    "\n",
    "\n"
   ]
  },
  {
   "cell_type": "code",
   "execution_count": null,
   "metadata": {
    "collapsed": false
   },
   "outputs": [],
   "source": [
    "zetas"
   ]
  },
  {
   "cell_type": "code",
   "execution_count": null,
   "metadata": {
    "collapsed": false
   },
   "outputs": [],
   "source": [
    "N_steps = 1000\n",
    "max_iter = 1\n",
    "t = 0.0;\n",
    "\n",
    "u_0 = u_val\n",
    "u_i = u_0\n",
    "\n",
    "xi_0, z = nr(xi_0,u_0,lam,Lam)\n",
    "x_0 = xi_0[0:N_x]\n",
    "y_0 = xi_0[N_x:(N_x+N_y)]\n",
    "lamb,z,omegas,zetas = autos(sys,u_val,xi_0)\n",
    "\n",
    "sigmas = lamb.real\n",
    "omegas = lamb.imag\n",
    "\n",
    "freqs = omegas/(2*np.pi);\n",
    "zetas = sigmas/np.sqrt(sigmas**2+omegas**2)\n",
    "\n",
    "\n",
    "N_x = x_0.shape[0]\n",
    "N_y = y_0.shape[0]\n",
    "X = np.zeros((N_steps,N_x));\n",
    "Y = np.zeros((N_steps,N_y));\n",
    "T = np.zeros((N_steps,1));\n",
    "Dt = 10.0e-3\n",
    "\n",
    "\n",
    "    \n",
    "for it in range(N_steps):\n",
    "    x_i = np.copy(x_0)\n",
    "    y_i = np.copy(y_0)\n",
    "   \n",
    "    if t>0.0:\n",
    "        u_i[1] = 1.1\n",
    "    for iter in range(max_iter): \n",
    "        \n",
    "        A_c_i = np.vstack([np.hstack([np.eye(N_x) - 0.5*Dt*F_x_eval(x_i,y_i,u_i), -0.5*Dt*F_y_eval(x_i,y_i,u_i)]),\n",
    "                           np.hstack([                     G_x_eval(x_i,y_i,u_i),         G_y_eval(x_i,y_i,u_i)])])\n",
    "             \n",
    "        f_n_i = x_i - x_0 - 0.5*Dt*(f_eval(x_i,y_i,u_i)+f_eval(x_0,y_0,u_i))\n",
    "        \n",
    "        Dxy_i = -np.linalg.solve(A_c_i, np.vstack((f_n_i,g_eval(x_i,y_i,u_i))))\n",
    "        \n",
    "        x_i = x_i + Dxy_i[0:N_x]\n",
    "        y_i = y_i + Dxy_i[N_x:(N_x+N_y)]\n",
    "        \n",
    "        if np.linalg.norm(Dxy_i,np.inf)<1.0e-8:\n",
    "            break\n",
    "\n",
    "    x_0 = x_i\n",
    "    y_0 = y_i\n",
    "   \n",
    "    T[it,:] = t;\n",
    "    X[it,:] = x_i[:,0];\n",
    "    Y[it,:] = y_i[:,0];    \n",
    "    t = it*Dt;"
   ]
  },
  {
   "cell_type": "code",
   "execution_count": null,
   "metadata": {
    "collapsed": false
   },
   "outputs": [],
   "source": [
    "fig = plt.figure()\n",
    "ax1 = fig.add_subplot(211)\n",
    "ax2 = fig.add_subplot(212)\n",
    "ax1.plot(T,(X[:,1])-1)\n",
    "ax1.plot(T,(Y[:,-2]))\n",
    "ax2.plot(T,Y[:,2]) "
   ]
  },
  {
   "cell_type": "code",
   "execution_count": null,
   "metadata": {
    "collapsed": false
   },
   "outputs": [],
   "source": [
    "y"
   ]
  },
  {
   "cell_type": "code",
   "execution_count": null,
   "metadata": {
    "collapsed": false
   },
   "outputs": [],
   "source": [
    "x"
   ]
  },
  {
   "cell_type": "code",
   "execution_count": null,
   "metadata": {
    "collapsed": true
   },
   "outputs": [],
   "source": []
  },
  {
   "cell_type": "code",
   "execution_count": null,
   "metadata": {
    "collapsed": true
   },
   "outputs": [],
   "source": []
  }
 ],
 "metadata": {
  "anaconda-cloud": {},
  "kernelspec": {
   "display_name": "Python [conda root]",
   "language": "python",
   "name": "conda-root-py"
  },
  "language_info": {
   "codemirror_mode": {
    "name": "ipython",
    "version": 3
   },
   "file_extension": ".py",
   "mimetype": "text/x-python",
   "name": "python",
   "nbconvert_exporter": "python",
   "pygments_lexer": "ipython3",
   "version": "3.5.2"
  }
 },
 "nbformat": 4,
 "nbformat_minor": 1
}
