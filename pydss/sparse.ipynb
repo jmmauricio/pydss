{
 "cells": [
  {
   "cell_type": "code",
   "execution_count": 7,
   "metadata": {
    "collapsed": true
   },
   "outputs": [],
   "source": [
    "import numpy as np\n",
    "from scipy.sparse import rand\n",
    "import numba"
   ]
  },
  {
   "cell_type": "code",
   "execution_count": 10,
   "metadata": {
    "collapsed": false
   },
   "outputs": [],
   "source": [
    "m = 50000\n",
    "n = 50000\n",
    "A_sparse = rand(m, n, density=0.01, format='coo', dtype=None, random_state=None)\n",
    "X = np.random.rand(n)\n",
    "#"
   ]
  },
  {
   "cell_type": "code",
   "execution_count": 56,
   "metadata": {
    "collapsed": false
   },
   "outputs": [],
   "source": [
    "data = A_sparse.data\n",
    "rows = A_sparse.row\n",
    "cols = A_sparse.col\n",
    "A_sparse = np.vstack((data,rows,cols))\n",
    "X[X<0.8] = 0.0"
   ]
  },
  {
   "cell_type": "code",
   "execution_count": 63,
   "metadata": {
    "collapsed": false
   },
   "outputs": [],
   "source": [
    "@numba.jit(nopython=True,cache=True)\n",
    "def mult(A,X):\n",
    "    N_data = A.shape[1]\n",
    "    Y = np.zeros(N_data)\n",
    "    for it in range(N_data):\n",
    "        Y[int(A[1,it])] += A[0,it]*X[int(A[2,it])] \n",
    "    return Y"
   ]
  },
  {
   "cell_type": "code",
   "execution_count": 67,
   "metadata": {
    "collapsed": false,
    "scrolled": true
   },
   "outputs": [
    {
     "name": "stdout",
     "output_type": "stream",
     "text": [
      "1 loop, best of 3: 246 ms per loop\n"
     ]
    }
   ],
   "source": [
    "%timeit mult(A_sparse,X)"
   ]
  },
  {
   "cell_type": "code",
   "execution_count": null,
   "metadata": {
    "collapsed": true
   },
   "outputs": [],
   "source": []
  }
 ],
 "metadata": {
  "anaconda-cloud": {},
  "kernelspec": {
   "display_name": "Python [conda root]",
   "language": "python",
   "name": "conda-root-py"
  },
  "language_info": {
   "codemirror_mode": {
    "name": "ipython",
    "version": 3
   },
   "file_extension": ".py",
   "mimetype": "text/x-python",
   "name": "python",
   "nbconvert_exporter": "python",
   "pygments_lexer": "ipython3",
   "version": "3.5.2"
  }
 },
 "nbformat": 4,
 "nbformat_minor": 2
}
