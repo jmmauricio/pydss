{
 "cells": [
  {
   "cell_type": "code",
   "execution_count": null,
   "metadata": {
    "collapsed": false
   },
   "outputs": [],
   "source": [
    "import numpy as np\n",
    "import numba\n",
    "from bokeh.io import output_notebook, show\n",
    "from bokeh.plotting import figure\n",
    "from bokeh.layouts import gridplot\n",
    "from bokeh.models import ColumnDataSource, HoverTool, CustomJS\n",
    "output_notebook()\n"
   ]
  },
  {
   "cell_type": "code",
   "execution_count": null,
   "metadata": {
    "collapsed": true
   },
   "outputs": [],
   "source": [
    "import electric"
   ]
  },
  {
   "cell_type": "code",
   "execution_count": null,
   "metadata": {
    "collapsed": false
   },
   "outputs": [],
   "source": [
    "\n",
    "\n",
    "@numba.jit(nopython=True)\n",
    "def run_eval(params,params_ctrl):\n",
    "    N_steps = int(50000)\n",
    "    N_states = 4\n",
    "    x = np.zeros((N_states,1))\n",
    "    f = np.zeros((N_states,1))\n",
    "    X = np.zeros((N_states,N_steps))\n",
    "    V = np.zeros((3,1),dtype=np.complex128)\n",
    "    out = np.zeros((16,N_steps))\n",
    "    #self.out_cplx = np.zeros((72,N_steps),np.complex128)\n",
    "    \n",
    "\n",
    "\n",
    "    T = np.zeros((N_steps,1))\n",
    "       \n",
    "    V = np.zeros((4,1),dtype=np.complex128)\n",
    "    V[0] = 325*np.exp(1j*np.deg2rad(0.0))   \n",
    "    V[1] = 325*np.exp(1j*np.deg2rad(-120.0))   \n",
    "    V[2] = 300*np.exp(1j*np.deg2rad(-240.0)) \n",
    "    V[3] = 0.0*np.exp(1j*np.deg2rad(-240.0)) \n",
    "    \n",
    "    t = 0.0\n",
    "\n",
    "    params[0].v_abcn[:]  = electric.ph2inst(np.array([t]),V) \n",
    "    electric.vsc_emag(0.0,0,params,params_ctrl)\n",
    "    electric.vsc_emag(0.0,1,params,params_ctrl)    \n",
    "    \n",
    "    dt = params[0].Dt_ps\n",
    "    \n",
    "    x[:] = params[0].x\n",
    "    X[:,0] = x[:,0]\n",
    "    T[0,0] = t\n",
    "    for it_step in range(1,N_steps):  \n",
    "        t += dt\n",
    "        \n",
    "        #if t>0.2: params_ctrl[0].i_dq0_ref[1] =  200.0\n",
    "        if t>0.1: params_ctrl[0].S_ref[:] =  -np.ones((3,1)) * 1j*1.0e3/3\n",
    "        #if t>0.2: params_ctrl[0].v_dc_ref = 1000.0\n",
    "        #if t>0.3: params_ctrl[0].i_dq0_ref[1] = -100.0\n",
    "        #if t>0.2: params[0].i_dc =  0.1\n",
    "        #if t>2.0: params[0].i_dc =  0.2\n",
    "            \n",
    "        params[0].v_abcn[:] = electric.ph2inst(np.array([t]),V)\n",
    "         \n",
    "        params[0].x[:] = x\n",
    "        electric.vsc_emag(t,1,params,params_ctrl)   \n",
    "        \n",
    "        f[:] = params[0].f \n",
    "\n",
    "        x = x + dt*f\n",
    "        \n",
    "        electric.vsc_emag(t,2,params,params_ctrl)   \n",
    "        \n",
    "        X[:,it_step] = x[:,0]\n",
    "        out[0:4,it_step] = params[0].v_abcn[:,0]\n",
    "        out[4:8,it_step] = params[0].i_abcn[:,0]\n",
    "        out[8:12,it_step] =params[0].eta_abcn[:,0]\n",
    "        out[12:15,it_step] =params_ctrl[0].i_dq0[:,0]\n",
    "        T[it_step,0] = t\n",
    "            \n",
    "    return T,X,out\n",
    "#%timeit run_eval(params,params_ctrl)"
   ]
  },
  {
   "cell_type": "code",
   "execution_count": null,
   "metadata": {
    "collapsed": false
   },
   "outputs": [],
   "source": [
    "vsc_objs = electric.VSC_emag('vsc_feed_1bus.json')\n",
    "t=np.array([0.0])\n",
    "mode = 1\n",
    "params = vsc_objs.params_vsc\n",
    "params_ctrl = vsc_objs.params_ctrl_vsc\n",
    "vsc_objs.ctrl_design()\n",
    "print(params_ctrl[0].K_p_vdc)\n",
    "params_ctrl[0].T_pi_vdc = 10.0\n",
    "T,X,out = run_eval(params,params_ctrl)\n",
    "decim = 10\n",
    "p = np.sum(out[0:4,0:-1:decim]*out[4:8,0:-1:decim],axis=0)"
   ]
  },
  {
   "cell_type": "code",
   "execution_count": null,
   "metadata": {
    "collapsed": false,
    "scrolled": true
   },
   "outputs": [],
   "source": [
    "fig = figure(width=600, height=300, title='v_abcn')\n",
    "decim = 10\n",
    "fig.line(T[0:-1:decim,0],out[0,0:-1:decim], line_width=1, color='red')\n",
    "fig.line(T[0:-1:decim,0],out[1,0:-1:decim], line_width=1, color='green')    \n",
    "fig.line(T[0:-1:decim,0],out[2,0:-1:decim], line_width=1, color='blue')  \n",
    "show(fig)\n",
    "\n",
    "fig = figure(width=600, height=300, title='i_abcn')\n",
    "decim = 10\n",
    "fig.line(T[0:-1:decim,0],out[4,0:-1:decim], line_width=1, color='red')\n",
    "fig.line(T[0:-1:decim,0],out[5,0:-1:decim], line_width=1, color='green')    \n",
    "fig.line(T[0:-1:decim,0],out[6,0:-1:decim], line_width=1, color='blue')  \n",
    "show(fig)\n",
    "\n",
    "fig = figure(width=600, height=300, title='eta_abcn')\n",
    "decim = 10\n",
    "fig.line(T[0:-1:decim,0],out[8,0:-1:decim], line_width=1, color='red')\n",
    "fig.line(T[0:-1:decim,0],out[9,0:-1:decim], line_width=1, color='green')    \n",
    "fig.line(T[0:-1:decim,0],out[10,0:-1:decim], line_width=1, color='blue')  \n",
    "show(fig) \n",
    "\n",
    "fig = figure(width=600, height=300, title='p')\n",
    "decim = 10\n",
    "fig.line(T[0:-1:decim,0],p, line_width=1, color='red')\n",
    "show(fig)\n",
    "\n",
    "fig = figure(width=600, height=300, title='i_dq0')\n",
    "decim = 10\n",
    "fig.line(T[0:-1:decim,0],out[12,0:-1:decim], line_width=1, color='red')\n",
    "fig.line(T[0:-1:decim,0],out[13,0:-1:decim], line_width=1, color='green')\n",
    "show(fig)\n",
    "\n",
    "fig = figure(width=600, height=300,  title='v_dc')\n",
    "decim = 10\n",
    "fig.line(T[0:-1:decim,0],X[2,0:-1:decim], line_width=1, color='blue')\n",
    "show(fig)"
   ]
  },
  {
   "cell_type": "code",
   "execution_count": null,
   "metadata": {
    "collapsed": false
   },
   "outputs": [],
   "source": [
    "import ctrl\n",
    "decim = 1\n",
    "v_abc = out[0:3,0:-1:decim]\n",
    "i_abc = out[4:7,0:-1:decim]"
   ]
  },
  {
   "cell_type": "code",
   "execution_count": null,
   "metadata": {
    "collapsed": false
   },
   "outputs": [],
   "source": [
    "v_dq_pos = ctrl.park2(v_abc,T[:,0], 2*np.pi*50)\n",
    "v_dq_neg = ctrl.park2(v_abc,T[:,0],-2*np.pi*50)\n",
    "\n",
    "i_dq_pos = ctrl.park2(i_abc,T[:,0], 2*np.pi*50)\n",
    "i_dq_neg = ctrl.park2(i_abc,T[:,0],-2*np.pi*50)"
   ]
  },
  {
   "cell_type": "code",
   "execution_count": null,
   "metadata": {
    "collapsed": false
   },
   "outputs": [],
   "source": [
    "fig = figure(width=600, height=300, title='eta_abcn')\n",
    "decim = 10\n",
    "fig.line(T[0:-1:decim,0],dq[0,:].real, line_width=1, color='red')\n",
    "fig.line(T[0:-1:decim,0],dq[1,:].real, line_width=1, color='green')\n",
    "#fig.line(T[0:-1:decim,0],out[9,0:-1:decim], line_width=1, color='green')    \n",
    "#fig.line(T[0:-1:decim,0],out[10,0:-1:decim], line_width=1, color='blue')  \n",
    "show(fig) "
   ]
  },
  {
   "cell_type": "code",
   "execution_count": null,
   "metadata": {
    "collapsed": false
   },
   "outputs": [],
   "source": [
    "N = fft.shape[0]\n",
    "v_fft_pos = np.fft.fft(v_dq_pos[0,:]+1j*v_dq_pos[1,:])\n",
    "v_fft_neg = np.fft.fft(v_dq_neg[0,:]+1j*v_dq_neg[1,:])\n",
    "i_fft_pos = np.fft.fft(i_dq_pos[0,:]+1j*i_dq_pos[1,:])\n",
    "i_fft_neg = np.fft.fft(i_dq_neg[0,:]+1j*i_dq_neg[1,:])\n",
    "freqs = np.fft.fftfreq(N, (T[1]-T[0])*decim)"
   ]
  },
  {
   "cell_type": "code",
   "execution_count": null,
   "metadata": {
    "collapsed": false
   },
   "outputs": [],
   "source": [
    "fig = figure(width=600, height=300, title='eta_abcn')\n",
    "decim = 10\n",
    "fig.line(freqs,np.abs(v_fft_pos)/N, line_width=1, color='red')\n",
    "fig.line(freqs,np.abs(v_fft_neg)/N, line_width=1, color='green')\n",
    "#fig.line(freqs,fft.imag, line_width=1, color='green')\n",
    "#fig.line(T[0:-1:decim,0],dq[1,:].real, line_width=1, color='green')\n",
    "#fig.line(T[0:-1:decim,0],out[9,0:-1:decim], line_width=1, color='green')    \n",
    "#fig.line(T[0:-1:decim,0],out[10,0:-1:decim], line_width=1, color='blue')  \n",
    "show(fig) "
   ]
  },
  {
   "cell_type": "code",
   "execution_count": null,
   "metadata": {
    "collapsed": false
   },
   "outputs": [],
   "source": [
    "V_pos = v_fft_pos[freqs==0]/N\n",
    "V_neg = v_fft_neg[freqs==0]/N\n",
    "I_pos = i_fft_pos[freqs==0]/N\n",
    "I_neg = i_fft_neg[freqs==0]/N"
   ]
  },
  {
   "cell_type": "code",
   "execution_count": null,
   "metadata": {
    "collapsed": false
   },
   "outputs": [],
   "source": [
    "I_pos"
   ]
  },
  {
   "cell_type": "code",
   "execution_count": null,
   "metadata": {
    "collapsed": true
   },
   "outputs": [],
   "source": []
  }
 ],
 "metadata": {
  "anaconda-cloud": {},
  "kernelspec": {
   "display_name": "Python [conda root]",
   "language": "python",
   "name": "conda-root-py"
  },
  "language_info": {
   "codemirror_mode": {
    "name": "ipython",
    "version": 3
   },
   "file_extension": ".py",
   "mimetype": "text/x-python",
   "name": "python",
   "nbconvert_exporter": "python",
   "pygments_lexer": "ipython3",
   "version": "3.5.2"
  }
 },
 "nbformat": 4,
 "nbformat_minor": 1
}
