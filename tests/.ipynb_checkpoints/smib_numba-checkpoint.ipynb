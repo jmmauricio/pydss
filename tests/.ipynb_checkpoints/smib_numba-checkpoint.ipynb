{
 "cells": [
  {
   "cell_type": "code",
   "execution_count": 1,
   "metadata": {
    "collapsed": false
   },
   "outputs": [],
   "source": [
    "import sys \n",
    "sys.path.append('../pydss')\n",
    "import tools\n",
    "import solvers\n",
    "import numpy as np \n",
    "import sympy as sym\n",
    "from sympy.utilities.lambdify import lambdify, implemented_function\n",
    "from imp import reload\n",
    "import numba \n",
    "sin = sym.sin\n",
    "cos = sym.cos"
   ]
  },
  {
   "cell_type": "markdown",
   "metadata": {
    "collapsed": true
   },
   "source": [
    "## Symbolic variable definitions"
   ]
  },
  {
   "cell_type": "code",
   "execution_count": 2,
   "metadata": {
    "collapsed": false
   },
   "outputs": [],
   "source": [
    "delta, omega, e1d, e1q = sym.symbols('delta omega e1d e1q')\n",
    "i_d, i_q, v_d, v_q = sym.symbols('i_d i_q v_d v_q')\n",
    "v_f, p_m = sym.symbols('v_f p_m')\n",
    "X_d, X_q, X1d, X1q, X_l, R_a, T1d0, T1q0  = sym.symbols('X_d X_q X1d X1q X_l R_a T1d0 T1q0')\n",
    "H, D = sym.symbols('H D')\n",
    "V_t, theta_t, P_t, Q_t, V_inf, theta_inf = sym.symbols('V_t, theta_t, P_t, Q_t, V_inf, theta_inf')\n",
    "B_t_inf, B_t0, G_t_inf, G_t0 = sym.symbols('B_t_inf, B_t0, G_t_inf, G_t0')\n",
    "Omega_b, p_e = sym.symbols('Omega_b p_e')"
   ]
  },
  {
   "cell_type": "markdown",
   "metadata": {},
   "source": [
    "## Initialization problem (backward)"
   ]
  },
  {
   "cell_type": "code",
   "execution_count": 3,
   "metadata": {
    "collapsed": false
   },
   "outputs": [],
   "source": [
    "N_x = 4\n",
    "N_y = 9\n",
    "ddelta = Omega_b * (omega - 1);\n",
    "domega = 1/(2*H) * ( p_m - p_e - D * ( omega - 1)) ;\n",
    "de1q   = 1/T1d0 * ( -e1q - (X_d - X1d ) * i_d + v_f);\n",
    "de1d   = 1/T1q0 * ( -e1d + (X_q - X1q ) * i_q );\n",
    "\n",
    "g1 = v_q + R_a * i_q - e1q + (X1d - X_l)*i_d;\n",
    "g2 = v_d + R_a * i_d - e1d - (X1q - X_l)*i_q;\n",
    "g3 = p_e - (v_q + R_a*i_q)*i_q - (v_d + R_a*i_d)*i_d ;\n",
    "g4 = v_d - V_t * sin(delta - theta_t);\n",
    "g5 = v_q - V_t * cos(delta - theta_t);\n",
    "g6 = v_d * i_d + v_q * i_q - P_t; \n",
    "g7 = v_q * i_d - v_d * i_q - Q_t;\n",
    "g8 =  V_t**2*(G_t_inf+G_t0) - V_t*V_inf*(G_t_inf * cos(theta_t - theta_inf) + B_t_inf * sin(theta_t - theta_inf)) - P_t  \n",
    "g9 = -V_t**2*(B_t_inf+B_t0) - V_t*V_inf*(G_t_inf * sin(theta_t - theta_inf) - B_t_inf * cos(theta_t - theta_inf)) - Q_t  "
   ]
  },
  {
   "cell_type": "code",
   "execution_count": 36,
   "metadata": {
    "collapsed": false
   },
   "outputs": [],
   "source": [
    "x = sym.Matrix([delta,omega,e1q,e1d])\n",
    "f = sym.Matrix([ddelta, domega, de1q, de1d])\n",
    "\n",
    "y = sym.Matrix([i_d,i_q,p_e,v_d,v_q,p_m,v_f,theta_t,Q_t])\n",
    "g = sym.Matrix([g1,g2,g3,g4,g5,g6,g7,g8,g9])"
   ]
  },
  {
   "cell_type": "code",
   "execution_count": 37,
   "metadata": {
    "collapsed": false
   },
   "outputs": [],
   "source": [
    "F_x = f.jacobian(x)\n",
    "F_y = f.jacobian(y)\n",
    "G_x = g.jacobian(x)\n",
    "G_y = g.jacobian(y)"
   ]
  },
  {
   "cell_type": "code",
   "execution_count": 38,
   "metadata": {
    "collapsed": false
   },
   "outputs": [],
   "source": [
    "X_d = 1.81\n",
    "X1d  = 0.3\n",
    "T1d0  = 8.0\n",
    "X_q  = 1.76\n",
    "X1q  = 0.65\n",
    "T1q0  = 1.0 \n",
    "R_a  =  0.003 \n",
    "X_l  = 0.15  \n",
    "H  = 3.5   \n",
    "Omega_b = 2*np.pi*60\n",
    "Z_t_inf = 0.15+1.0/(1.0/0.5+1.0/0.93)\n",
    "\n",
    "params = {\n",
    "'X_d':  X_d,\n",
    "'X1d':  X1d,\n",
    "'T1d0': T1d0,\n",
    "'X_q':  X_q,\n",
    "'X1q':  X1q,\n",
    "'T1q0': T1q0,\n",
    "'R_a':  R_a,\n",
    "'X_l': X_l,\n",
    "'H':  H,\n",
    "'D' : 0.1,\n",
    "'Omega_b': Omega_b,\n",
    "'B_t_inf':-1.0/Z_t_inf,\n",
    "'B_t0':0.0, \n",
    "'G_t_inf':0.01,\n",
    "'G_t0':0.1,\n",
    "'V_inf':0.90081,\n",
    "'theta_inf':0.0,   \n",
    "}\n",
    "\n",
    "u = sym.Matrix([P_t,V_t])"
   ]
  },
  {
   "cell_type": "code",
   "execution_count": 39,
   "metadata": {
    "collapsed": false
   },
   "outputs": [],
   "source": [
    "sym_dict = {'f':f,'g':g,'x':x,'y':y,'u':u,'F_x':F_x,'G_x':G_x,'F_y':F_y,'G_y':G_y,'params':params}\n",
    "out_file = 'sys2.py'\n",
    "tools.sym2num(sym_dict,out_file)"
   ]
  },
  {
   "cell_type": "code",
   "execution_count": 40,
   "metadata": {
    "collapsed": false
   },
   "outputs": [],
   "source": [
    "import sys2\n",
    "sys1 = reload(sys2)\n",
    "s1 = sys2.system()"
   ]
  },
  {
   "cell_type": "code",
   "execution_count": 41,
   "metadata": {
    "collapsed": false
   },
   "outputs": [
    {
     "name": "stdout",
     "output_type": "stream",
     "text": [
      "The slowest run took 291598.67 times longer than the fastest. This could mean that an intermediate result is being cached.\n",
      "1 loop, best of 3: 3.79 µs per loop\n"
     ]
    }
   ],
   "source": [
    "%timeit sys2.update(s1.struct,0,0)\n"
   ]
  },
  {
   "cell_type": "code",
   "execution_count": 42,
   "metadata": {
    "collapsed": false
   },
   "outputs": [],
   "source": [
    "s1.struct[0]['u'][0] = 0.8\n",
    "s1.struct[0]['u'][1] = 1.0\n",
    "s1.struct[0]['x'] = np.ones((N_x,1))\n",
    "s1.struct[0]['y'] = np.ones((N_y,1))\n",
    "#%timeit nr(s1.struct)\n",
    "\n",
    "N_points = 1000\n",
    "X = np.zeros((N_x,N_points))\n",
    "it = 0\n",
    "for p in np.linspace(0.4,1.0,N_points):\n",
    "    s1.struct[0]['u'][0] = p\n",
    "    nr(s1.struct)\n",
    "    X[:,it] = s1.struct[0]['x'][:,0]\n",
    "    it+=1"
   ]
  },
  {
   "cell_type": "code",
   "execution_count": 43,
   "metadata": {
    "collapsed": false
   },
   "outputs": [
    {
     "ename": "LinAlgError",
     "evalue": "Matrix is singular to machine precision.",
     "output_type": "error",
     "traceback": [
      "\u001b[0;31m---------------------------------------------------------------------------\u001b[0m",
      "\u001b[0;31mLinAlgError\u001b[0m                               Traceback (most recent call last)",
      "\u001b[0;32m<ipython-input-43-208b5d032cc6>\u001b[0m in \u001b[0;36m<module>\u001b[0;34m()\u001b[0m\n\u001b[0;32m----> 1\u001b[0;31m \u001b[0msolvers\u001b[0m\u001b[0;34m.\u001b[0m\u001b[0mssa\u001b[0m\u001b[0;34m(\u001b[0m\u001b[0ms1\u001b[0m\u001b[0;34m.\u001b[0m\u001b[0mstruct\u001b[0m\u001b[0;34m)\u001b[0m\u001b[0;34m\u001b[0m\u001b[0m\n\u001b[0m",
      "\u001b[0;31mLinAlgError\u001b[0m: Matrix is singular to machine precision."
     ]
    }
   ],
   "source": [
    "solvers.ssa(s1.struct)"
   ]
  },
  {
   "cell_type": "code",
   "execution_count": 44,
   "metadata": {
    "collapsed": false
   },
   "outputs": [
    {
     "data": {
      "text/plain": [
       "array([ 0.])"
      ]
     },
     "execution_count": 44,
     "metadata": {},
     "output_type": "execute_result"
    }
   ],
   "source": [
    "np.linalg.det(s1.struct['G_y'])"
   ]
  },
  {
   "cell_type": "code",
   "execution_count": 45,
   "metadata": {
    "collapsed": false
   },
   "outputs": [
    {
     "data": {
      "text/plain": [
       "Matrix([\n",
       "[P_t],\n",
       "[V_t]])"
      ]
     },
     "execution_count": 45,
     "metadata": {},
     "output_type": "execute_result"
    }
   ],
   "source": [
    "u"
   ]
  },
  {
   "cell_type": "code",
   "execution_count": 46,
   "metadata": {
    "collapsed": false
   },
   "outputs": [
    {
     "data": {
      "text/plain": [
       "Matrix([\n",
       "[       X1d - X_l,              R_a, 0,    0,    1, 0, 0,                                                                                 0,  0],\n",
       "[             R_a,       -X1q + X_l, 0,    1,    0, 0, 0,                                                                                 0,  0],\n",
       "[-2*R_a*i_d - v_d, -2*R_a*i_q - v_q, 1, -i_d, -i_q, 0, 0,                                                                                 0,  0],\n",
       "[               0,                0, 0,    1,    0, 0, 0,                                                          V_t*cos(delta - theta_t),  0],\n",
       "[               0,                0, 0,    0,    1, 0, 0,                                                         -V_t*sin(delta - theta_t),  0],\n",
       "[             v_d,              v_q, 0,  i_d,  i_q, 0, 0,                                                                                 0,  0],\n",
       "[             v_q,             -v_d, 0, -i_q,  i_d, 0, 0,                                                                                 0, -1],\n",
       "[               0,                0, 0,    0,    0, 0, 0,  -V_inf*V_t*(B_t_inf*cos(theta_inf - theta_t) + G_t_inf*sin(theta_inf - theta_t)),  0],\n",
       "[               0,                0, 0,    0,    0, 0, 0, -V_inf*V_t*(-B_t_inf*sin(theta_inf - theta_t) + G_t_inf*cos(theta_inf - theta_t)), -1]])"
      ]
     },
     "execution_count": 46,
     "metadata": {},
     "output_type": "execute_result"
    }
   ],
   "source": [
    "G_y\n"
   ]
  },
  {
   "cell_type": "code",
   "execution_count": 48,
   "metadata": {
    "collapsed": false
   },
   "outputs": [
    {
     "data": {
      "text/plain": [
       "array([[ 0.15      ,  0.003     ,  0.        ,  0.        ,  1.        ,\n",
       "         0.        ,  0.        ,  0.        ,  0.        ],\n",
       "       [ 0.003     , -0.5       ,  0.        ,  1.        ,  0.        ,\n",
       "         0.        ,  0.        ,  0.        ,  0.        ],\n",
       "       [ 0.6941279 ,  0.72816834,  1.        ,  1.00058092,  0.4292709 ,\n",
       "         0.        ,  0.        ,  0.        ,  0.        ],\n",
       "       [ 0.        ,  0.        ,  0.        ,  1.        ,  0.        ,\n",
       "         0.        ,  0.        , -0.72559272,  0.        ],\n",
       "       [ 0.        ,  0.        ,  0.        ,  0.        ,  1.        ,\n",
       "         0.        ,  0.        ,  0.68812441,  0.        ],\n",
       "       [-0.68812441, -0.72559272,  0.        , -1.00058092, -0.4292709 ,\n",
       "         0.        ,  0.        ,  0.        ,  0.        ],\n",
       "       [-0.72559272,  0.68812441,  0.        ,  0.4292709 , -1.00058092,\n",
       "         0.        ,  0.        ,  0.        , -1.        ],\n",
       "       [ 0.        ,  0.        ,  0.        ,  0.        ,  0.        ,\n",
       "         0.        ,  0.        ,  1.67386656,  0.        ],\n",
       "       [ 0.        ,  0.        ,  0.        ,  0.        ,  0.        ,\n",
       "         0.        ,  0.        ,  0.89      , -1.        ]])"
      ]
     },
     "execution_count": 48,
     "metadata": {},
     "output_type": "execute_result"
    }
   ],
   "source": [
    "s1.struct[0]['G_y']"
   ]
  },
  {
   "cell_type": "code",
   "execution_count": null,
   "metadata": {
    "collapsed": true
   },
   "outputs": [],
   "source": []
  }
 ],
 "metadata": {
  "anaconda-cloud": {},
  "kernelspec": {
   "display_name": "Python [conda root]",
   "language": "python",
   "name": "conda-root-py"
  },
  "language_info": {
   "codemirror_mode": {
    "name": "ipython",
    "version": 3
   },
   "file_extension": ".py",
   "mimetype": "text/x-python",
   "name": "python",
   "nbconvert_exporter": "python",
   "pygments_lexer": "ipython3",
   "version": "3.5.2"
  }
 },
 "nbformat": 4,
 "nbformat_minor": 1
}
